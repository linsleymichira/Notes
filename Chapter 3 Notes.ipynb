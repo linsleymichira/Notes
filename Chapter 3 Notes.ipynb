{
  "nbformat": 4,
  "nbformat_minor": 0,
  "metadata": {
    "colab": {
      "provenance": [],
      "authorship_tag": "ABX9TyMkiXrK7+9CuV4nFQZve/6w",
      "include_colab_link": true
    },
    "kernelspec": {
      "name": "python3",
      "display_name": "Python 3"
    },
    "language_info": {
      "name": "python"
    }
  },
  "cells": [
    {
      "cell_type": "markdown",
      "metadata": {
        "id": "view-in-github",
        "colab_type": "text"
      },
      "source": [
        "<a href=\"https://colab.research.google.com/github/linsleymichira/Notes/blob/main/Chapter%203%20Notes.ipynb\" target=\"_parent\"><img src=\"https://colab.research.google.com/assets/colab-badge.svg\" alt=\"Open In Colab\"/></a>"
      ]
    },
    {
      "cell_type": "markdown",
      "source": [
        "# Chapter 3: Vectors, Part 2"
      ],
      "metadata": {
        "id": "QV7lD56OY3Dn"
      }
    },
    {
      "cell_type": "code",
      "source": [
        "import numpy as np\n",
        "import matplotlib.pyplot as plt\n",
        "\n",
        "# NOTE: these lines define global figure properties used for publication.\n",
        "import matplotlib_inline.backend_inline\n",
        "matplotlib_inline.backend_inline.set_matplotlib_formats('svg') # print figures in svg format\n",
        "plt.rcParams.update({'font.size':14}) # set global font size"
      ],
      "metadata": {
        "id": "VxRCTBUrYxAd"
      },
      "execution_count": 1,
      "outputs": []
    },
    {
      "cell_type": "markdown",
      "source": [
        "## Vector Sets\n",
        "- set\n",
        "  - a collection of vectors\n",
        "- vector sets\n",
        "  - indicated using capital italics letters, like *S* or *V*\n",
        "  - described as $V = {v_1,...,v_n}$\n",
        "  - can contain a finite or an infinite number of vectors\n",
        "  - can also be empty, indicated as $V = $ {}\n",
        "- subspace\n",
        "  - infinite vector sets\n",
        "  - have major implications for fitting statistical models to data\n",
        "\n",
        "## Linear Weighted Combination\n",
        "- *linear weighted combination*\n",
        "  - way of mixing information from multiple variables, with some variables contributing more than others\n",
        "  - also sometimes called *linear mixture* or *weighted combination*\n",
        "  - means scalar-vector multiplication and addition\n",
        "  - $w = λ_1v_1 + λ_2v_2 + ... + λ_nv_n$\n",
        "  - easy to implement\n",
        "  - implemented via the compact and scalable matrix-vector multiplication method\n",
        "  - have several applications, including:\n",
        "    - The predicted data from a statistical model are created using the linear weighted combination of regressors (predictor variables) and coefficients (scalars) computed via the least squares algorithm.\n",
        "    - In dimension-reduction procedures such as principal components analysis, each component (sometimes called factor or mode) is derived as a linear weighted combination of the data channels, with the weights (the coefficients) selected to maximize the variance of the component.\n",
        "    - Artificial neural networks (the architecture and algorithm that powers deep learning) involve two operations: a linear weighted combination of the input data, followed by a nonlinear transformation. The weights are learned by minimizing a cost function, typically the difference between the model prediction and the real-world target variable.\n",
        "  - mechanism of creating vector subspaces and matrix spaces\n",
        "  - central to linear independence\n",
        "\n",
        "## Linear Independence\n",
        "- linear independence\n",
        "  - sometimes shortened to *independence* when the *linear* part is implied\n",
        "  - determined by\n",
        "    1. creating a matrix from the vector set\n",
        "    2. computing the rank of the matrix\n",
        "    3. comparing the rank to the smaller of the number of rows or columns\n",
        "- matrix rank\n",
        "- linear dependent\n",
        "  - at least one vector in the set can be expressed as a linear weighted combination of the other vectors in the set\n",
        "- linear independent\n",
        "  - no vector can be expressed as a combination of other vectors\n",
        "- independence\n",
        "  - property of a set of vectors\n",
        "  - not a property of an individual vector within a set\n",
        "\n",
        "### The Math of Linear Independence\n",
        "- linear dependence\n",
        "  - $0 = λ_1v_1 + λ_2v_2 + ... + λ_nv_n$, where $λ∈R$\n",
        "  - means that we can define some linear weighted combination of the vectors in the set to produce the zeros vector\n",
        "- vector sets\n",
        "  - purely egalitarian when it comes to independence\n",
        "- linear algebra\n",
        "  - often ignores trivial solutions involving zero\n",
        "### Independence and the Zeros Vector\n",
        "- vector sets\n",
        "  - automatically a linearly dependent set if it includes the zeros vector\n",
        "- linear algebra\n",
        "  - all about *linear* operations\n",
        "\n",
        "## Subspace and Span\n",
        "- subspace\n",
        "  - a subset that is closed under addition and scalar multiplication\n",
        "  - includes the origin of the space\n",
        "- span\n",
        "  - mechanism of combining all possible linear weighted combinations\n",
        "  - an infinity of vectors that can be created as linear combinations of the vectors in the set\n",
        "- dimensionality\n",
        "  - the smallest number of vectors that form a linearly independent set\n",
        "  - equals the number of vectors in a set if the vector set is linearly dependent\n",
        "  - necessarily less than the number of vectors in a set if the set is dependent\n",
        "- matrix rank\n",
        "\n",
        "## Basis\n",
        "- basis\n",
        "  - like a ruler for measuring a space\n",
        "  - set of rulers that you use to describe the information in the matrix for example data\n",
        "  - extremely important in data science and machine learning\n",
        "- Cartesian axis\n",
        "  - familiar XY plane that you've used since elementary school\n",
        "- Cartesian basis sets\n",
        "  - comprise vectors that are mutually orthogonal and unit length\n",
        "  - so ubiquitous\n",
        "  - called the *standard basis set*\n",
        "- points\n",
        "  - expressed as the linear combination of the basis vectors in linear algebra\n",
        "- dimension reduction\n",
        "- feature extraction\n",
        "- principal components analysis (PCA)\n",
        "- independent components analysis\n",
        "- factor analysis\n",
        "- singular value decomposition\n",
        "- linear discriminant analysis\n",
        "- image approximation\n",
        "- data compression\n",
        "\n",
        "### Definition of Basis\n",
        "- basis\n",
        "  - simply the combination of span and independence\n",
        "  - needs to span a subspace for it to be used as a basis for that subspace, because you cannot describe something that you cannot measure\n",
        "  - needs to span the space that it is used for\n",
        "- basis set\n",
        "  - requires linear independence because any given vector in the subspace must have a unique coordinate using that basis\n",
        "- vector\n",
        "  - must have *unique* coordinates within a basis set\n",
        "- linear independence\n",
        "  - guarantees uniqueness\n",
        "- point\n",
        "  - defined by exactly one linear weighted combination *within* a basis set\n",
        "---\n",
        "## Summary\n",
        "- vector set\n",
        "  - a collection of a finite or infinite number of vectors\n",
        "- linear weighted combination\n",
        "  - means to scalar multiply and add vectors in a set\n",
        "  - one of the single most important concepts in linear algebra\n",
        "- subspace\n",
        "  - infinite set of all possible linear weighted combinations of a set of vectors\n",
        "- basis\n",
        "  - ruler for measuring space\n",
        "- vector set\n",
        "  - linearly dependent if a vector in the set can be expressed as a linear weighted combination of other vectors in the set\n",
        "  - linearly independent if there is no such linear weighted combination\n",
        "  - can be a basis for a subspace if it spans that subspace and is linearly independent\n",
        "---\n",
        "## Code Exercises\n",
        "\n",
        "  ### *Exercise 3-1*\n"
      ],
      "metadata": {
        "id": "T1gXWbvLe8Q8"
      }
    },
    {
      "cell_type": "code",
      "execution_count": 2,
      "metadata": {
        "id": "B6YWcD1XdHvV",
        "colab": {
          "base_uri": "https://localhost:8080/"
        },
        "outputId": "0d7b33bc-1829-48ab-bda4-2e03c5af890d"
      },
      "outputs": [
        {
          "output_type": "stream",
          "name": "stdout",
          "text": [
            "[ -7  -4 -13]\n"
          ]
        }
      ],
      "source": [
        "# the scalars\n",
        "l1 = 1\n",
        "l2 = 2\n",
        "l3 = -3\n",
        "\n",
        "# the vectors\n",
        "v1 = np.array([4,5,1])\n",
        "v2 = np.array([-4,0,-4])\n",
        "v3 = np.array([1,3,2])\n",
        "\n",
        "# linear weighted combination\n",
        "print(l1*v1 + l2*v2 + l3*v3)"
      ]
    },
    {
      "cell_type": "code",
      "source": [
        "# organized into lists\n",
        "scalars = [ l1,l2,l3 ]\n",
        "vectors = [ v1,v2,v3 ]\n",
        "\n",
        "# initialize the linear combination\n",
        "linCombo = np.zeros(len(v1))\n",
        "\n",
        "# implement linear weighted combination using zip()\n",
        "for s,v in zip(scalars,vectors):\n",
        "  linCombo += s*v\n",
        "\n",
        "# confirm it's the same answer as above\n",
        "linCombo"
      ],
      "metadata": {
        "id": "mkjTI9VDZPYg",
        "outputId": "6926f7c2-1029-4e78-ff44-20938dbff289",
        "colab": {
          "base_uri": "https://localhost:8080/"
        }
      },
      "execution_count": 5,
      "outputs": [
        {
          "output_type": "execute_result",
          "data": {
            "text/plain": [
              "array([ -7.,  -4., -13.])"
            ]
          },
          "metadata": {},
          "execution_count": 5
        }
      ]
    },
    {
      "cell_type": "markdown",
      "source": [
        "### *Exercise 3-2*"
      ],
      "metadata": {
        "id": "sQetzgLJqX4w"
      }
    },
    {
      "cell_type": "code",
      "source": [
        "v4 = np.array([4,-8,7,3])\n",
        "\n",
        "l4 = -4\n",
        "\n",
        "l5 = 5\n",
        "\n",
        "linCombo2 = np.zeros(len(v4))\n",
        "\n",
        "scalars2 = [ l1,l2,l3,l4,l5 ]\n",
        "vectors2 = [ v1,v2,v3,v4 ]\n",
        "\n",
        "for s,v in zip(scalars2,vectors2):\n",
        "  linCombo2 += s*v\n",
        "\n",
        "linCombo2"
      ],
      "metadata": {
        "id": "FUKvAgt5ZeNf",
        "outputId": "5525556b-c301-4bed-a150-decd523b5fde",
        "colab": {
          "base_uri": "https://localhost:8080/",
          "height": 207
        }
      },
      "execution_count": 8,
      "outputs": [
        {
          "output_type": "error",
          "ename": "ValueError",
          "evalue": "operands could not be broadcast together with shapes (4,) (3,) (4,) ",
          "traceback": [
            "\u001b[0;31m---------------------------------------------------------------------------\u001b[0m",
            "\u001b[0;31mValueError\u001b[0m                                Traceback (most recent call last)",
            "\u001b[0;32m<ipython-input-8-a3a9e9c1328c>\u001b[0m in \u001b[0;36m<cell line: 12>\u001b[0;34m()\u001b[0m\n\u001b[1;32m     11\u001b[0m \u001b[0;34m\u001b[0m\u001b[0m\n\u001b[1;32m     12\u001b[0m \u001b[0;32mfor\u001b[0m \u001b[0ms\u001b[0m\u001b[0;34m,\u001b[0m\u001b[0mv\u001b[0m \u001b[0;32min\u001b[0m \u001b[0mzip\u001b[0m\u001b[0;34m(\u001b[0m\u001b[0mscalars2\u001b[0m\u001b[0;34m,\u001b[0m\u001b[0mvectors2\u001b[0m\u001b[0;34m)\u001b[0m\u001b[0;34m:\u001b[0m\u001b[0;34m\u001b[0m\u001b[0;34m\u001b[0m\u001b[0m\n\u001b[0;32m---> 13\u001b[0;31m   \u001b[0mlinCombo2\u001b[0m \u001b[0;34m+=\u001b[0m \u001b[0ms\u001b[0m\u001b[0;34m*\u001b[0m\u001b[0mv\u001b[0m\u001b[0;34m\u001b[0m\u001b[0;34m\u001b[0m\u001b[0m\n\u001b[0m\u001b[1;32m     14\u001b[0m \u001b[0;34m\u001b[0m\u001b[0m\n\u001b[1;32m     15\u001b[0m \u001b[0mlinCombo2\u001b[0m\u001b[0;34m\u001b[0m\u001b[0;34m\u001b[0m\u001b[0m\n",
            "\u001b[0;31mValueError\u001b[0m: operands could not be broadcast together with shapes (4,) (3,) (4,) "
          ]
        }
      ]
    },
    {
      "cell_type": "markdown",
      "source": [
        "### *Exercise 3-3*\n",
        "\n"
      ],
      "metadata": {
        "id": "-aCO3L5fszMq"
      }
    },
    {
      "cell_type": "code",
      "source": [
        "# the vector set (just one vector)\n",
        "A  = np.array([ 1,3 ])\n",
        "\n",
        "# x-axis range\n",
        "xlim = [-4,4]\n",
        "\n",
        "# random scalars in that range\n",
        "scalars = np.random.uniform(low=xlim[0],high=xlim[1],size=100)\n",
        "\n",
        "# create a figure, etc\n",
        "plt.figure(figsize=(6,6))\n",
        "\n",
        "# loop over the random scalars\n",
        "for s in scalars:\n",
        "\n",
        "  # create point p\n",
        "  p = A*s\n",
        "\n",
        "  # plot it\n",
        "  plt.plot(p[0],p[1],'ko')\n",
        "\n",
        "\n",
        "plt.xlim(xlim)\n",
        "plt.ylim(xlim)\n",
        "plt.grid()\n",
        "plt.text(-4.5,4.5,'A)',fontweight='bold',fontsize=18)\n",
        "plt.savefig('Figure_03_07a.png',dpi=300)\n",
        "plt.show()"
      ],
      "metadata": {
        "id": "ZtGaZCSfsfrH",
        "outputId": "33ebaed0-ab62-47a9-d24a-480d076a77f2",
        "colab": {
          "base_uri": "https://localhost:8080/",
          "height": 557
        }
      },
      "execution_count": 20,
      "outputs": [
        {
          "output_type": "display_data",
          "data": {
            "text/plain": [
              "<Figure size 600x600 with 1 Axes>"
            ],
            "image/svg+xml": "<?xml version=\"1.0\" encoding=\"utf-8\" standalone=\"no\"?>\n<!DOCTYPE svg PUBLIC \"-//W3C//DTD SVG 1.1//EN\"\n  \"http://www.w3.org/Graphics/SVG/1.1/DTD/svg11.dtd\">\n<svg xmlns:xlink=\"http://www.w3.org/1999/xlink\" width=\"381.292812pt\" height=\"402.056563pt\" viewBox=\"0 0 381.292812 402.056563\" xmlns=\"http://www.w3.org/2000/svg\" version=\"1.1\">\n <metadata>\n  <rdf:RDF xmlns:dc=\"http://purl.org/dc/elements/1.1/\" xmlns:cc=\"http://creativecommons.org/ns#\" xmlns:rdf=\"http://www.w3.org/1999/02/22-rdf-syntax-ns#\">\n   <cc:Work>\n    <dc:type rdf:resource=\"http://purl.org/dc/dcmitype/StillImage\"/>\n    <dc:date>2024-10-23T19:03:04.924060</dc:date>\n    <dc:format>image/svg+xml</dc:format>\n    <dc:creator>\n     <cc:Agent>\n      <dc:title>Matplotlib v3.7.1, https://matplotlib.org/</dc:title>\n     </cc:Agent>\n    </dc:creator>\n   </cc:Work>\n  </rdf:RDF>\n </metadata>\n <defs>\n  <style type=\"text/css\">*{stroke-linejoin: round; stroke-linecap: butt}</style>\n </defs>\n <g id=\"figure_1\">\n  <g id=\"patch_1\">\n   <path d=\"M 0 402.056563 \nL 381.292812 402.056563 \nL 381.292812 0 \nL 0 0 \nz\n\" style=\"fill: #ffffff\"/>\n  </g>\n  <g id=\"axes_1\">\n   <g id=\"patch_2\">\n    <path d=\"M 34.839063 374.307188 \nL 369.639063 374.307188 \nL 369.639063 41.667188 \nL 34.839063 41.667188 \nz\n\" style=\"fill: #ffffff\"/>\n   </g>\n   <g id=\"matplotlib.axis_1\">\n    <g id=\"xtick_1\">\n     <g id=\"line2d_1\">\n      <path d=\"M 34.839063 374.307188 \nL 34.839063 41.667188 \n\" clip-path=\"url(#p76f7108d03)\" style=\"fill: none; stroke: #b0b0b0; stroke-width: 0.8; stroke-linecap: square\"/>\n     </g>\n     <g id=\"line2d_2\">\n      <defs>\n       <path id=\"m6f46341c1a\" d=\"M 0 0 \nL 0 3.5 \n\" style=\"stroke: #000000; stroke-width: 0.8\"/>\n      </defs>\n      <g>\n       <use xlink:href=\"#m6f46341c1a\" x=\"34.839063\" y=\"374.307188\" style=\"stroke: #000000; stroke-width: 0.8\"/>\n      </g>\n     </g>\n     <g id=\"text_1\">\n      <!-- −4 -->\n      <g transform=\"translate(24.519531 391.945) scale(0.14 -0.14)\">\n       <defs>\n        <path id=\"DejaVuSans-2212\" d=\"M 678 2272 \nL 4684 2272 \nL 4684 1741 \nL 678 1741 \nL 678 2272 \nz\n\" transform=\"scale(0.015625)\"/>\n        <path id=\"DejaVuSans-34\" d=\"M 2419 4116 \nL 825 1625 \nL 2419 1625 \nL 2419 4116 \nz\nM 2253 4666 \nL 3047 4666 \nL 3047 1625 \nL 3713 1625 \nL 3713 1100 \nL 3047 1100 \nL 3047 0 \nL 2419 0 \nL 2419 1100 \nL 313 1100 \nL 313 1709 \nL 2253 4666 \nz\n\" transform=\"scale(0.015625)\"/>\n       </defs>\n       <use xlink:href=\"#DejaVuSans-2212\"/>\n       <use xlink:href=\"#DejaVuSans-34\" x=\"83.789062\"/>\n      </g>\n     </g>\n    </g>\n    <g id=\"xtick_2\">\n     <g id=\"line2d_3\">\n      <path d=\"M 118.539063 374.307188 \nL 118.539063 41.667188 \n\" clip-path=\"url(#p76f7108d03)\" style=\"fill: none; stroke: #b0b0b0; stroke-width: 0.8; stroke-linecap: square\"/>\n     </g>\n     <g id=\"line2d_4\">\n      <g>\n       <use xlink:href=\"#m6f46341c1a\" x=\"118.539063\" y=\"374.307188\" style=\"stroke: #000000; stroke-width: 0.8\"/>\n      </g>\n     </g>\n     <g id=\"text_2\">\n      <!-- −2 -->\n      <g transform=\"translate(108.219531 391.945) scale(0.14 -0.14)\">\n       <defs>\n        <path id=\"DejaVuSans-32\" d=\"M 1228 531 \nL 3431 531 \nL 3431 0 \nL 469 0 \nL 469 531 \nQ 828 903 1448 1529 \nQ 2069 2156 2228 2338 \nQ 2531 2678 2651 2914 \nQ 2772 3150 2772 3378 \nQ 2772 3750 2511 3984 \nQ 2250 4219 1831 4219 \nQ 1534 4219 1204 4116 \nQ 875 4013 500 3803 \nL 500 4441 \nQ 881 4594 1212 4672 \nQ 1544 4750 1819 4750 \nQ 2544 4750 2975 4387 \nQ 3406 4025 3406 3419 \nQ 3406 3131 3298 2873 \nQ 3191 2616 2906 2266 \nQ 2828 2175 2409 1742 \nQ 1991 1309 1228 531 \nz\n\" transform=\"scale(0.015625)\"/>\n       </defs>\n       <use xlink:href=\"#DejaVuSans-2212\"/>\n       <use xlink:href=\"#DejaVuSans-32\" x=\"83.789062\"/>\n      </g>\n     </g>\n    </g>\n    <g id=\"xtick_3\">\n     <g id=\"line2d_5\">\n      <path d=\"M 202.239063 374.307188 \nL 202.239063 41.667188 \n\" clip-path=\"url(#p76f7108d03)\" style=\"fill: none; stroke: #b0b0b0; stroke-width: 0.8; stroke-linecap: square\"/>\n     </g>\n     <g id=\"line2d_6\">\n      <g>\n       <use xlink:href=\"#m6f46341c1a\" x=\"202.239063\" y=\"374.307188\" style=\"stroke: #000000; stroke-width: 0.8\"/>\n      </g>\n     </g>\n     <g id=\"text_3\">\n      <!-- 0 -->\n      <g transform=\"translate(197.785313 391.945) scale(0.14 -0.14)\">\n       <defs>\n        <path id=\"DejaVuSans-30\" d=\"M 2034 4250 \nQ 1547 4250 1301 3770 \nQ 1056 3291 1056 2328 \nQ 1056 1369 1301 889 \nQ 1547 409 2034 409 \nQ 2525 409 2770 889 \nQ 3016 1369 3016 2328 \nQ 3016 3291 2770 3770 \nQ 2525 4250 2034 4250 \nz\nM 2034 4750 \nQ 2819 4750 3233 4129 \nQ 3647 3509 3647 2328 \nQ 3647 1150 3233 529 \nQ 2819 -91 2034 -91 \nQ 1250 -91 836 529 \nQ 422 1150 422 2328 \nQ 422 3509 836 4129 \nQ 1250 4750 2034 4750 \nz\n\" transform=\"scale(0.015625)\"/>\n       </defs>\n       <use xlink:href=\"#DejaVuSans-30\"/>\n      </g>\n     </g>\n    </g>\n    <g id=\"xtick_4\">\n     <g id=\"line2d_7\">\n      <path d=\"M 285.939063 374.307188 \nL 285.939063 41.667188 \n\" clip-path=\"url(#p76f7108d03)\" style=\"fill: none; stroke: #b0b0b0; stroke-width: 0.8; stroke-linecap: square\"/>\n     </g>\n     <g id=\"line2d_8\">\n      <g>\n       <use xlink:href=\"#m6f46341c1a\" x=\"285.939063\" y=\"374.307188\" style=\"stroke: #000000; stroke-width: 0.8\"/>\n      </g>\n     </g>\n     <g id=\"text_4\">\n      <!-- 2 -->\n      <g transform=\"translate(281.485313 391.945) scale(0.14 -0.14)\">\n       <use xlink:href=\"#DejaVuSans-32\"/>\n      </g>\n     </g>\n    </g>\n    <g id=\"xtick_5\">\n     <g id=\"line2d_9\">\n      <path d=\"M 369.639063 374.307188 \nL 369.639063 41.667188 \n\" clip-path=\"url(#p76f7108d03)\" style=\"fill: none; stroke: #b0b0b0; stroke-width: 0.8; stroke-linecap: square\"/>\n     </g>\n     <g id=\"line2d_10\">\n      <g>\n       <use xlink:href=\"#m6f46341c1a\" x=\"369.639063\" y=\"374.307188\" style=\"stroke: #000000; stroke-width: 0.8\"/>\n      </g>\n     </g>\n     <g id=\"text_5\">\n      <!-- 4 -->\n      <g transform=\"translate(365.185313 391.945) scale(0.14 -0.14)\">\n       <use xlink:href=\"#DejaVuSans-34\"/>\n      </g>\n     </g>\n    </g>\n   </g>\n   <g id=\"matplotlib.axis_2\">\n    <g id=\"ytick_1\">\n     <g id=\"line2d_11\">\n      <path d=\"M 34.839063 374.307188 \nL 369.639063 374.307188 \n\" clip-path=\"url(#p76f7108d03)\" style=\"fill: none; stroke: #b0b0b0; stroke-width: 0.8; stroke-linecap: square\"/>\n     </g>\n     <g id=\"line2d_12\">\n      <defs>\n       <path id=\"m1b7ebf5548\" d=\"M 0 0 \nL -3.5 0 \n\" style=\"stroke: #000000; stroke-width: 0.8\"/>\n      </defs>\n      <g>\n       <use xlink:href=\"#m1b7ebf5548\" x=\"34.839063\" y=\"374.307188\" style=\"stroke: #000000; stroke-width: 0.8\"/>\n      </g>\n     </g>\n     <g id=\"text_6\">\n      <!-- −4 -->\n      <g transform=\"translate(7.2 379.626094) scale(0.14 -0.14)\">\n       <use xlink:href=\"#DejaVuSans-2212\"/>\n       <use xlink:href=\"#DejaVuSans-34\" x=\"83.789062\"/>\n      </g>\n     </g>\n    </g>\n    <g id=\"ytick_2\">\n     <g id=\"line2d_13\">\n      <path d=\"M 34.839063 332.727188 \nL 369.639063 332.727188 \n\" clip-path=\"url(#p76f7108d03)\" style=\"fill: none; stroke: #b0b0b0; stroke-width: 0.8; stroke-linecap: square\"/>\n     </g>\n     <g id=\"line2d_14\">\n      <g>\n       <use xlink:href=\"#m1b7ebf5548\" x=\"34.839063\" y=\"332.727188\" style=\"stroke: #000000; stroke-width: 0.8\"/>\n      </g>\n     </g>\n     <g id=\"text_7\">\n      <!-- −3 -->\n      <g transform=\"translate(7.2 338.046094) scale(0.14 -0.14)\">\n       <defs>\n        <path id=\"DejaVuSans-33\" d=\"M 2597 2516 \nQ 3050 2419 3304 2112 \nQ 3559 1806 3559 1356 \nQ 3559 666 3084 287 \nQ 2609 -91 1734 -91 \nQ 1441 -91 1130 -33 \nQ 819 25 488 141 \nL 488 750 \nQ 750 597 1062 519 \nQ 1375 441 1716 441 \nQ 2309 441 2620 675 \nQ 2931 909 2931 1356 \nQ 2931 1769 2642 2001 \nQ 2353 2234 1838 2234 \nL 1294 2234 \nL 1294 2753 \nL 1863 2753 \nQ 2328 2753 2575 2939 \nQ 2822 3125 2822 3475 \nQ 2822 3834 2567 4026 \nQ 2313 4219 1838 4219 \nQ 1578 4219 1281 4162 \nQ 984 4106 628 3988 \nL 628 4550 \nQ 988 4650 1302 4700 \nQ 1616 4750 1894 4750 \nQ 2613 4750 3031 4423 \nQ 3450 4097 3450 3541 \nQ 3450 3153 3228 2886 \nQ 3006 2619 2597 2516 \nz\n\" transform=\"scale(0.015625)\"/>\n       </defs>\n       <use xlink:href=\"#DejaVuSans-2212\"/>\n       <use xlink:href=\"#DejaVuSans-33\" x=\"83.789062\"/>\n      </g>\n     </g>\n    </g>\n    <g id=\"ytick_3\">\n     <g id=\"line2d_15\">\n      <path d=\"M 34.839063 291.147188 \nL 369.639063 291.147188 \n\" clip-path=\"url(#p76f7108d03)\" style=\"fill: none; stroke: #b0b0b0; stroke-width: 0.8; stroke-linecap: square\"/>\n     </g>\n     <g id=\"line2d_16\">\n      <g>\n       <use xlink:href=\"#m1b7ebf5548\" x=\"34.839063\" y=\"291.147188\" style=\"stroke: #000000; stroke-width: 0.8\"/>\n      </g>\n     </g>\n     <g id=\"text_8\">\n      <!-- −2 -->\n      <g transform=\"translate(7.2 296.466094) scale(0.14 -0.14)\">\n       <use xlink:href=\"#DejaVuSans-2212\"/>\n       <use xlink:href=\"#DejaVuSans-32\" x=\"83.789062\"/>\n      </g>\n     </g>\n    </g>\n    <g id=\"ytick_4\">\n     <g id=\"line2d_17\">\n      <path d=\"M 34.839063 249.567188 \nL 369.639063 249.567188 \n\" clip-path=\"url(#p76f7108d03)\" style=\"fill: none; stroke: #b0b0b0; stroke-width: 0.8; stroke-linecap: square\"/>\n     </g>\n     <g id=\"line2d_18\">\n      <g>\n       <use xlink:href=\"#m1b7ebf5548\" x=\"34.839063\" y=\"249.567188\" style=\"stroke: #000000; stroke-width: 0.8\"/>\n      </g>\n     </g>\n     <g id=\"text_9\">\n      <!-- −1 -->\n      <g transform=\"translate(7.2 254.886094) scale(0.14 -0.14)\">\n       <defs>\n        <path id=\"DejaVuSans-31\" d=\"M 794 531 \nL 1825 531 \nL 1825 4091 \nL 703 3866 \nL 703 4441 \nL 1819 4666 \nL 2450 4666 \nL 2450 531 \nL 3481 531 \nL 3481 0 \nL 794 0 \nL 794 531 \nz\n\" transform=\"scale(0.015625)\"/>\n       </defs>\n       <use xlink:href=\"#DejaVuSans-2212\"/>\n       <use xlink:href=\"#DejaVuSans-31\" x=\"83.789062\"/>\n      </g>\n     </g>\n    </g>\n    <g id=\"ytick_5\">\n     <g id=\"line2d_19\">\n      <path d=\"M 34.839063 207.987188 \nL 369.639063 207.987188 \n\" clip-path=\"url(#p76f7108d03)\" style=\"fill: none; stroke: #b0b0b0; stroke-width: 0.8; stroke-linecap: square\"/>\n     </g>\n     <g id=\"line2d_20\">\n      <g>\n       <use xlink:href=\"#m1b7ebf5548\" x=\"34.839063\" y=\"207.987188\" style=\"stroke: #000000; stroke-width: 0.8\"/>\n      </g>\n     </g>\n     <g id=\"text_10\">\n      <!-- 0 -->\n      <g transform=\"translate(18.931563 213.306094) scale(0.14 -0.14)\">\n       <use xlink:href=\"#DejaVuSans-30\"/>\n      </g>\n     </g>\n    </g>\n    <g id=\"ytick_6\">\n     <g id=\"line2d_21\">\n      <path d=\"M 34.839063 166.407187 \nL 369.639063 166.407187 \n\" clip-path=\"url(#p76f7108d03)\" style=\"fill: none; stroke: #b0b0b0; stroke-width: 0.8; stroke-linecap: square\"/>\n     </g>\n     <g id=\"line2d_22\">\n      <g>\n       <use xlink:href=\"#m1b7ebf5548\" x=\"34.839063\" y=\"166.407187\" style=\"stroke: #000000; stroke-width: 0.8\"/>\n      </g>\n     </g>\n     <g id=\"text_11\">\n      <!-- 1 -->\n      <g transform=\"translate(18.931563 171.726094) scale(0.14 -0.14)\">\n       <use xlink:href=\"#DejaVuSans-31\"/>\n      </g>\n     </g>\n    </g>\n    <g id=\"ytick_7\">\n     <g id=\"line2d_23\">\n      <path d=\"M 34.839063 124.827187 \nL 369.639063 124.827187 \n\" clip-path=\"url(#p76f7108d03)\" style=\"fill: none; stroke: #b0b0b0; stroke-width: 0.8; stroke-linecap: square\"/>\n     </g>\n     <g id=\"line2d_24\">\n      <g>\n       <use xlink:href=\"#m1b7ebf5548\" x=\"34.839063\" y=\"124.827187\" style=\"stroke: #000000; stroke-width: 0.8\"/>\n      </g>\n     </g>\n     <g id=\"text_12\">\n      <!-- 2 -->\n      <g transform=\"translate(18.931563 130.146094) scale(0.14 -0.14)\">\n       <use xlink:href=\"#DejaVuSans-32\"/>\n      </g>\n     </g>\n    </g>\n    <g id=\"ytick_8\">\n     <g id=\"line2d_25\">\n      <path d=\"M 34.839063 83.247187 \nL 369.639063 83.247187 \n\" clip-path=\"url(#p76f7108d03)\" style=\"fill: none; stroke: #b0b0b0; stroke-width: 0.8; stroke-linecap: square\"/>\n     </g>\n     <g id=\"line2d_26\">\n      <g>\n       <use xlink:href=\"#m1b7ebf5548\" x=\"34.839063\" y=\"83.247187\" style=\"stroke: #000000; stroke-width: 0.8\"/>\n      </g>\n     </g>\n     <g id=\"text_13\">\n      <!-- 3 -->\n      <g transform=\"translate(18.931563 88.566094) scale(0.14 -0.14)\">\n       <use xlink:href=\"#DejaVuSans-33\"/>\n      </g>\n     </g>\n    </g>\n    <g id=\"ytick_9\">\n     <g id=\"line2d_27\">\n      <path d=\"M 34.839063 41.667187 \nL 369.639063 41.667187 \n\" clip-path=\"url(#p76f7108d03)\" style=\"fill: none; stroke: #b0b0b0; stroke-width: 0.8; stroke-linecap: square\"/>\n     </g>\n     <g id=\"line2d_28\">\n      <g>\n       <use xlink:href=\"#m1b7ebf5548\" x=\"34.839063\" y=\"41.667187\" style=\"stroke: #000000; stroke-width: 0.8\"/>\n      </g>\n     </g>\n     <g id=\"text_14\">\n      <!-- 4 -->\n      <g transform=\"translate(18.931563 46.986094) scale(0.14 -0.14)\">\n       <use xlink:href=\"#DejaVuSans-34\"/>\n      </g>\n     </g>\n    </g>\n   </g>\n   <g id=\"line2d_29\">\n    <defs>\n     <path id=\"m85c7acc1e3\" d=\"M 0 3 \nC 0.795609 3 1.55874 2.683901 2.12132 2.12132 \nC 2.683901 1.55874 3 0.795609 3 0 \nC 3 -0.795609 2.683901 -1.55874 2.12132 -2.12132 \nC 1.55874 -2.683901 0.795609 -3 0 -3 \nC -0.795609 -3 -1.55874 -2.683901 -2.12132 -2.12132 \nC -2.683901 -1.55874 -3 -0.795609 -3 0 \nC -3 0.795609 -2.683901 1.55874 -2.12132 2.12132 \nC -1.55874 2.683901 -0.795609 3 0 3 \nz\n\" style=\"stroke: #000000\"/>\n    </defs>\n    <g clip-path=\"url(#p76f7108d03)\"/>\n   </g>\n   <g id=\"line2d_30\">\n    <g clip-path=\"url(#p76f7108d03)\">\n     <use xlink:href=\"#m85c7acc1e3\" x=\"196.346147\" y=\"225.551879\" style=\"stroke: #000000\"/>\n    </g>\n   </g>\n   <g id=\"line2d_31\">\n    <g clip-path=\"url(#p76f7108d03)\">\n     <use xlink:href=\"#m85c7acc1e3\" x=\"122.007319\" y=\"447.129546\" style=\"stroke: #000000\"/>\n    </g>\n   </g>\n   <g id=\"line2d_32\">\n    <g clip-path=\"url(#p76f7108d03)\">\n     <use xlink:href=\"#m85c7acc1e3\" x=\"110.31334\" y=\"481.985147\" style=\"stroke: #000000\"/>\n    </g>\n   </g>\n   <g id=\"line2d_33\">\n    <g clip-path=\"url(#p76f7108d03)\">\n     <use xlink:href=\"#m85c7acc1e3\" x=\"98.818333\" y=\"516.247684\" style=\"stroke: #000000\"/>\n    </g>\n   </g>\n   <g id=\"line2d_34\">\n    <g clip-path=\"url(#p76f7108d03)\"/>\n   </g>\n   <g id=\"line2d_35\">\n    <g clip-path=\"url(#p76f7108d03)\">\n     <use xlink:href=\"#m85c7acc1e3\" x=\"238.955377\" y=\"98.548883\" style=\"stroke: #000000\"/>\n    </g>\n   </g>\n   <g id=\"line2d_36\">\n    <g clip-path=\"url(#p76f7108d03)\"/>\n   </g>\n   <g id=\"line2d_37\">\n    <g clip-path=\"url(#p76f7108d03)\">\n     <use xlink:href=\"#m85c7acc1e3\" x=\"111.806995\" y=\"477.533091\" style=\"stroke: #000000\"/>\n    </g>\n   </g>\n   <g id=\"line2d_38\">\n    <g clip-path=\"url(#p76f7108d03)\"/>\n   </g>\n   <g id=\"line2d_39\">\n    <g clip-path=\"url(#p76f7108d03)\">\n     <use xlink:href=\"#m85c7acc1e3\" x=\"119.229401\" y=\"455.409533\" style=\"stroke: #000000\"/>\n    </g>\n   </g>\n   <g id=\"line2d_40\">\n    <g clip-path=\"url(#p76f7108d03)\">\n     <use xlink:href=\"#m85c7acc1e3\" x=\"99.753849\" y=\"513.459242\" style=\"stroke: #000000\"/>\n    </g>\n   </g>\n   <g id=\"line2d_41\">\n    <g clip-path=\"url(#p76f7108d03)\">\n     <use xlink:href=\"#m85c7acc1e3\" x=\"235.562368\" y=\"108.662239\" style=\"stroke: #000000\"/>\n    </g>\n   </g>\n   <g id=\"line2d_42\">\n    <g clip-path=\"url(#p76f7108d03)\">\n     <use xlink:href=\"#m85c7acc1e3\" x=\"175.942648\" y=\"286.367467\" style=\"stroke: #000000\"/>\n    </g>\n   </g>\n   <g id=\"line2d_43\">\n    <g clip-path=\"url(#p76f7108d03)\">\n     <use xlink:href=\"#m85c7acc1e3\" x=\"162.092581\" y=\"327.649605\" style=\"stroke: #000000\"/>\n    </g>\n   </g>\n   <g id=\"line2d_44\">\n    <g clip-path=\"url(#p76f7108d03)\">\n     <use xlink:href=\"#m85c7acc1e3\" x=\"234.747903\" y=\"111.089869\" style=\"stroke: #000000\"/>\n    </g>\n   </g>\n   <g id=\"line2d_45\">\n    <g clip-path=\"url(#p76f7108d03)\">\n     <use xlink:href=\"#m85c7acc1e3\" x=\"156.570892\" y=\"344.1078\" style=\"stroke: #000000\"/>\n    </g>\n   </g>\n   <g id=\"line2d_46\">\n    <g clip-path=\"url(#p76f7108d03)\"/>\n   </g>\n   <g id=\"line2d_47\">\n    <g clip-path=\"url(#p76f7108d03)\">\n     <use xlink:href=\"#m85c7acc1e3\" x=\"104.762364\" y=\"498.530637\" style=\"stroke: #000000\"/>\n    </g>\n   </g>\n   <g id=\"line2d_48\">\n    <g clip-path=\"url(#p76f7108d03)\">\n     <use xlink:href=\"#m85c7acc1e3\" x=\"173.618801\" y=\"293.29403\" style=\"stroke: #000000\"/>\n    </g>\n   </g>\n   <g id=\"line2d_49\">\n    <g clip-path=\"url(#p76f7108d03)\">\n     <use xlink:href=\"#m85c7acc1e3\" x=\"108.774239\" y=\"486.572663\" style=\"stroke: #000000\"/>\n    </g>\n   </g>\n   <g id=\"line2d_50\">\n    <g clip-path=\"url(#p76f7108d03)\">\n     <use xlink:href=\"#m85c7acc1e3\" x=\"227.279084\" y=\"133.351768\" style=\"stroke: #000000\"/>\n    </g>\n   </g>\n   <g id=\"line2d_51\">\n    <g clip-path=\"url(#p76f7108d03)\">\n     <use xlink:href=\"#m85c7acc1e3\" x=\"98.37723\" y=\"517.562457\" style=\"stroke: #000000\"/>\n    </g>\n   </g>\n   <g id=\"line2d_52\">\n    <g clip-path=\"url(#p76f7108d03)\">\n     <use xlink:href=\"#m85c7acc1e3\" x=\"226.099154\" y=\"136.868722\" style=\"stroke: #000000\"/>\n    </g>\n   </g>\n   <g id=\"line2d_53\">\n    <g clip-path=\"url(#p76f7108d03)\">\n     <use xlink:href=\"#m85c7acc1e3\" x=\"261.583863\" y=\"31.101396\" style=\"stroke: #000000\"/>\n    </g>\n   </g>\n   <g id=\"line2d_54\">\n    <g clip-path=\"url(#p76f7108d03)\"/>\n   </g>\n   <g id=\"line2d_55\">\n    <g clip-path=\"url(#p76f7108d03)\"/>\n   </g>\n   <g id=\"line2d_56\">\n    <g clip-path=\"url(#p76f7108d03)\">\n     <use xlink:href=\"#m85c7acc1e3\" x=\"209.186997\" y=\"187.277859\" style=\"stroke: #000000\"/>\n    </g>\n   </g>\n   <g id=\"line2d_57\">\n    <g clip-path=\"url(#p76f7108d03)\">\n     <use xlink:href=\"#m85c7acc1e3\" x=\"265.822022\" y=\"18.468947\" style=\"stroke: #000000\"/>\n    </g>\n   </g>\n   <g id=\"line2d_58\">\n    <g clip-path=\"url(#p76f7108d03)\"/>\n   </g>\n   <g id=\"line2d_59\">\n    <g clip-path=\"url(#p76f7108d03)\">\n     <use xlink:href=\"#m85c7acc1e3\" x=\"199.924834\" y=\"214.885083\" style=\"stroke: #000000\"/>\n    </g>\n   </g>\n   <g id=\"line2d_60\">\n    <g clip-path=\"url(#p76f7108d03)\">\n     <use xlink:href=\"#m85c7acc1e3\" x=\"71.869668\" y=\"596.572092\" style=\"stroke: #000000\"/>\n    </g>\n   </g>\n   <g id=\"line2d_61\">\n    <g clip-path=\"url(#p76f7108d03)\">\n     <use xlink:href=\"#m85c7acc1e3\" x=\"87.911703\" y=\"548.75648\" style=\"stroke: #000000\"/>\n    </g>\n   </g>\n   <g id=\"line2d_62\">\n    <g clip-path=\"url(#p76f7108d03)\"/>\n   </g>\n   <g id=\"line2d_63\">\n    <g clip-path=\"url(#p76f7108d03)\">\n     <use xlink:href=\"#m85c7acc1e3\" x=\"81.551273\" y=\"567.714664\" style=\"stroke: #000000\"/>\n    </g>\n   </g>\n   <g id=\"line2d_64\">\n    <g clip-path=\"url(#p76f7108d03)\">\n     <use xlink:href=\"#m85c7acc1e3\" x=\"169.756091\" y=\"304.807399\" style=\"stroke: #000000\"/>\n    </g>\n   </g>\n   <g id=\"line2d_65\">\n    <g clip-path=\"url(#p76f7108d03)\">\n     <use xlink:href=\"#m85c7acc1e3\" x=\"150.535554\" y=\"362.097\" style=\"stroke: #000000\"/>\n    </g>\n   </g>\n   <g id=\"line2d_66\">\n    <g clip-path=\"url(#p76f7108d03)\">\n     <use xlink:href=\"#m85c7acc1e3\" x=\"128.041992\" y=\"429.142327\" style=\"stroke: #000000\"/>\n    </g>\n   </g>\n   <g id=\"line2d_67\">\n    <g clip-path=\"url(#p76f7108d03)\">\n     <use xlink:href=\"#m85c7acc1e3\" x=\"66.800052\" y=\"611.68282\" style=\"stroke: #000000\"/>\n    </g>\n   </g>\n   <g id=\"line2d_68\">\n    <g clip-path=\"url(#p76f7108d03)\"/>\n   </g>\n   <g id=\"line2d_69\">\n    <g clip-path=\"url(#p76f7108d03)\">\n     <use xlink:href=\"#m85c7acc1e3\" x=\"130.374841\" y=\"422.18893\" style=\"stroke: #000000\"/>\n    </g>\n   </g>\n   <g id=\"line2d_70\">\n    <g clip-path=\"url(#p76f7108d03)\"/>\n   </g>\n   <g id=\"line2d_71\">\n    <g clip-path=\"url(#p76f7108d03)\"/>\n   </g>\n   <g id=\"line2d_72\">\n    <g clip-path=\"url(#p76f7108d03)\">\n     <use xlink:href=\"#m85c7acc1e3\" x=\"53.849149\" y=\"650.284866\" style=\"stroke: #000000\"/>\n    </g>\n   </g>\n   <g id=\"line2d_73\">\n    <g clip-path=\"url(#p76f7108d03)\">\n     <use xlink:href=\"#m85c7acc1e3\" x=\"231.238755\" y=\"121.549393\" style=\"stroke: #000000\"/>\n    </g>\n   </g>\n   <g id=\"line2d_74\">\n    <g clip-path=\"url(#p76f7108d03)\">\n     <use xlink:href=\"#m85c7acc1e3\" x=\"188.544931\" y=\"248.804534\" style=\"stroke: #000000\"/>\n    </g>\n   </g>\n   <g id=\"line2d_75\">\n    <g clip-path=\"url(#p76f7108d03)\">\n     <use xlink:href=\"#m85c7acc1e3\" x=\"44.662939\" y=\"677.665698\" style=\"stroke: #000000\"/>\n    </g>\n   </g>\n   <g id=\"line2d_76\">\n    <g clip-path=\"url(#p76f7108d03)\">\n     <use xlink:href=\"#m85c7acc1e3\" x=\"206.403721\" y=\"195.57382\" style=\"stroke: #000000\"/>\n    </g>\n   </g>\n   <g id=\"line2d_77\">\n    <g clip-path=\"url(#p76f7108d03)\"/>\n   </g>\n   <g id=\"line2d_78\">\n    <g clip-path=\"url(#p76f7108d03)\"/>\n   </g>\n   <g id=\"line2d_79\">\n    <g clip-path=\"url(#p76f7108d03)\"/>\n   </g>\n   <g id=\"line2d_80\">\n    <g clip-path=\"url(#p76f7108d03)\">\n     <use xlink:href=\"#m85c7acc1e3\" x=\"256.231244\" y=\"47.055653\" style=\"stroke: #000000\"/>\n    </g>\n   </g>\n   <g id=\"line2d_81\">\n    <g clip-path=\"url(#p76f7108d03)\">\n     <use xlink:href=\"#m85c7acc1e3\" x=\"76.009606\" y=\"584.232405\" style=\"stroke: #000000\"/>\n    </g>\n   </g>\n   <g id=\"line2d_82\">\n    <g clip-path=\"url(#p76f7108d03)\">\n     <use xlink:href=\"#m85c7acc1e3\" x=\"103.240465\" y=\"503.066878\" style=\"stroke: #000000\"/>\n    </g>\n   </g>\n   <g id=\"line2d_83\">\n    <g clip-path=\"url(#p76f7108d03)\">\n     <use xlink:href=\"#m85c7acc1e3\" x=\"252.496543\" y=\"58.187473\" style=\"stroke: #000000\"/>\n    </g>\n   </g>\n   <g id=\"line2d_84\">\n    <g clip-path=\"url(#p76f7108d03)\">\n     <use xlink:href=\"#m85c7acc1e3\" x=\"138.110587\" y=\"399.131418\" style=\"stroke: #000000\"/>\n    </g>\n   </g>\n   <g id=\"line2d_85\">\n    <g clip-path=\"url(#p76f7108d03)\"/>\n   </g>\n   <g id=\"line2d_86\">\n    <g clip-path=\"url(#p76f7108d03)\">\n     <use xlink:href=\"#m85c7acc1e3\" x=\"85.143444\" y=\"557.007676\" style=\"stroke: #000000\"/>\n    </g>\n   </g>\n   <g id=\"line2d_87\">\n    <g clip-path=\"url(#p76f7108d03)\">\n     <use xlink:href=\"#m85c7acc1e3\" x=\"265.891632\" y=\"18.261464\" style=\"stroke: #000000\"/>\n    </g>\n   </g>\n   <g id=\"line2d_88\">\n    <g clip-path=\"url(#p76f7108d03)\">\n     <use xlink:href=\"#m85c7acc1e3\" x=\"233.167328\" y=\"115.801001\" style=\"stroke: #000000\"/>\n    </g>\n   </g>\n   <g id=\"line2d_89\">\n    <g clip-path=\"url(#p76f7108d03)\">\n     <use xlink:href=\"#m85c7acc1e3\" x=\"254.296474\" y=\"52.822516\" style=\"stroke: #000000\"/>\n    </g>\n   </g>\n   <g id=\"line2d_90\">\n    <g clip-path=\"url(#p76f7108d03)\">\n     <use xlink:href=\"#m85c7acc1e3\" x=\"71.779693\" y=\"596.840276\" style=\"stroke: #000000\"/>\n    </g>\n   </g>\n   <g id=\"line2d_91\">\n    <g clip-path=\"url(#p76f7108d03)\"/>\n   </g>\n   <g id=\"line2d_92\">\n    <g clip-path=\"url(#p76f7108d03)\">\n     <use xlink:href=\"#m85c7acc1e3\" x=\"73.847112\" y=\"590.678035\" style=\"stroke: #000000\"/>\n    </g>\n   </g>\n   <g id=\"line2d_93\">\n    <g clip-path=\"url(#p76f7108d03)\">\n     <use xlink:href=\"#m85c7acc1e3\" x=\"185.655094\" y=\"257.418113\" style=\"stroke: #000000\"/>\n    </g>\n   </g>\n   <g id=\"line2d_94\">\n    <g clip-path=\"url(#p76f7108d03)\">\n     <use xlink:href=\"#m85c7acc1e3\" x=\"60.3253\" y=\"630.981757\" style=\"stroke: #000000\"/>\n    </g>\n   </g>\n   <g id=\"line2d_95\">\n    <g clip-path=\"url(#p76f7108d03)\">\n     <use xlink:href=\"#m85c7acc1e3\" x=\"213.478536\" y=\"174.486306\" style=\"stroke: #000000\"/>\n    </g>\n   </g>\n   <g id=\"line2d_96\">\n    <g clip-path=\"url(#p76f7108d03)\">\n     <use xlink:href=\"#m85c7acc1e3\" x=\"215.676758\" y=\"167.934185\" style=\"stroke: #000000\"/>\n    </g>\n   </g>\n   <g id=\"line2d_97\">\n    <g clip-path=\"url(#p76f7108d03)\"/>\n   </g>\n   <g id=\"line2d_98\">\n    <g clip-path=\"url(#p76f7108d03)\">\n     <use xlink:href=\"#m85c7acc1e3\" x=\"223.299733\" y=\"145.212802\" style=\"stroke: #000000\"/>\n    </g>\n   </g>\n   <g id=\"line2d_99\">\n    <g clip-path=\"url(#p76f7108d03)\">\n     <use xlink:href=\"#m85c7acc1e3\" x=\"221.073444\" y=\"151.848579\" style=\"stroke: #000000\"/>\n    </g>\n   </g>\n   <g id=\"line2d_100\">\n    <g clip-path=\"url(#p76f7108d03)\">\n     <use xlink:href=\"#m85c7acc1e3\" x=\"145.709401\" y=\"376.482049\" style=\"stroke: #000000\"/>\n    </g>\n   </g>\n   <g id=\"line2d_101\">\n    <g clip-path=\"url(#p76f7108d03)\">\n     <use xlink:href=\"#m85c7acc1e3\" x=\"232.40522\" y=\"118.072576\" style=\"stroke: #000000\"/>\n    </g>\n   </g>\n   <g id=\"line2d_102\">\n    <g clip-path=\"url(#p76f7108d03)\">\n     <use xlink:href=\"#m85c7acc1e3\" x=\"123.152815\" y=\"443.715229\" style=\"stroke: #000000\"/>\n    </g>\n   </g>\n   <g id=\"line2d_103\">\n    <g clip-path=\"url(#p76f7108d03)\"/>\n   </g>\n   <g id=\"line2d_104\">\n    <g clip-path=\"url(#p76f7108d03)\">\n     <use xlink:href=\"#m85c7acc1e3\" x=\"107.808673\" y=\"489.450672\" style=\"stroke: #000000\"/>\n    </g>\n   </g>\n   <g id=\"line2d_105\">\n    <g clip-path=\"url(#p76f7108d03)\">\n     <use xlink:href=\"#m85c7acc1e3\" x=\"81.015665\" y=\"569.311121\" style=\"stroke: #000000\"/>\n    </g>\n   </g>\n   <g id=\"line2d_106\">\n    <g clip-path=\"url(#p76f7108d03)\">\n     <use xlink:href=\"#m85c7acc1e3\" x=\"197.049876\" y=\"223.45431\" style=\"stroke: #000000\"/>\n    </g>\n   </g>\n   <g id=\"line2d_107\">\n    <g clip-path=\"url(#p76f7108d03)\">\n     <use xlink:href=\"#m85c7acc1e3\" x=\"155.754459\" y=\"346.541296\" style=\"stroke: #000000\"/>\n    </g>\n   </g>\n   <g id=\"line2d_108\">\n    <g clip-path=\"url(#p76f7108d03)\"/>\n   </g>\n   <g id=\"line2d_109\">\n    <g clip-path=\"url(#p76f7108d03)\"/>\n   </g>\n   <g id=\"line2d_110\">\n    <g clip-path=\"url(#p76f7108d03)\">\n     <use xlink:href=\"#m85c7acc1e3\" x=\"166.226213\" y=\"315.328714\" style=\"stroke: #000000\"/>\n    </g>\n   </g>\n   <g id=\"line2d_111\">\n    <g clip-path=\"url(#p76f7108d03)\">\n     <use xlink:href=\"#m85c7acc1e3\" x=\"254.489509\" y=\"52.247148\" style=\"stroke: #000000\"/>\n    </g>\n   </g>\n   <g id=\"line2d_112\">\n    <g clip-path=\"url(#p76f7108d03)\">\n     <use xlink:href=\"#m85c7acc1e3\" x=\"49.883705\" y=\"662.104447\" style=\"stroke: #000000\"/>\n    </g>\n   </g>\n   <g id=\"line2d_113\">\n    <g clip-path=\"url(#p76f7108d03)\">\n     <use xlink:href=\"#m85c7acc1e3\" x=\"111.750265\" y=\"477.702185\" style=\"stroke: #000000\"/>\n    </g>\n   </g>\n   <g id=\"line2d_114\">\n    <g clip-path=\"url(#p76f7108d03)\">\n     <use xlink:href=\"#m85c7acc1e3\" x=\"182.452812\" y=\"266.962978\" style=\"stroke: #000000\"/>\n    </g>\n   </g>\n   <g id=\"line2d_115\">\n    <g clip-path=\"url(#p76f7108d03)\">\n     <use xlink:href=\"#m85c7acc1e3\" x=\"158.339825\" y=\"338.835237\" style=\"stroke: #000000\"/>\n    </g>\n   </g>\n   <g id=\"line2d_116\">\n    <g clip-path=\"url(#p76f7108d03)\">\n     <use xlink:href=\"#m85c7acc1e3\" x=\"157.539914\" y=\"341.21949\" style=\"stroke: #000000\"/>\n    </g>\n   </g>\n   <g id=\"line2d_117\">\n    <g clip-path=\"url(#p76f7108d03)\"/>\n   </g>\n   <g id=\"line2d_118\">\n    <g clip-path=\"url(#p76f7108d03)\">\n     <use xlink:href=\"#m85c7acc1e3\" x=\"109.070262\" y=\"485.690322\" style=\"stroke: #000000\"/>\n    </g>\n   </g>\n   <g id=\"line2d_119\">\n    <g clip-path=\"url(#p76f7108d03)\">\n     <use xlink:href=\"#m85c7acc1e3\" x=\"133.442415\" y=\"413.045581\" style=\"stroke: #000000\"/>\n    </g>\n   </g>\n   <g id=\"line2d_120\">\n    <g clip-path=\"url(#p76f7108d03)\"/>\n   </g>\n   <g id=\"line2d_121\">\n    <g clip-path=\"url(#p76f7108d03)\">\n     <use xlink:href=\"#m85c7acc1e3\" x=\"132.473272\" y=\"415.934253\" style=\"stroke: #000000\"/>\n    </g>\n   </g>\n   <g id=\"line2d_122\">\n    <g clip-path=\"url(#p76f7108d03)\">\n     <use xlink:href=\"#m85c7acc1e3\" x=\"245.959239\" y=\"77.672856\" style=\"stroke: #000000\"/>\n    </g>\n   </g>\n   <g id=\"line2d_123\">\n    <g clip-path=\"url(#p76f7108d03)\">\n     <use xlink:href=\"#m85c7acc1e3\" x=\"113.985934\" y=\"471.038448\" style=\"stroke: #000000\"/>\n    </g>\n   </g>\n   <g id=\"line2d_124\">\n    <g clip-path=\"url(#p76f7108d03)\">\n     <use xlink:href=\"#m85c7acc1e3\" x=\"84.736844\" y=\"558.219607\" style=\"stroke: #000000\"/>\n    </g>\n   </g>\n   <g id=\"line2d_125\">\n    <g clip-path=\"url(#p76f7108d03)\">\n     <use xlink:href=\"#m85c7acc1e3\" x=\"239.081817\" y=\"98.172008\" style=\"stroke: #000000\"/>\n    </g>\n   </g>\n   <g id=\"line2d_126\">\n    <g clip-path=\"url(#p76f7108d03)\"/>\n   </g>\n   <g id=\"line2d_127\">\n    <g clip-path=\"url(#p76f7108d03)\"/>\n   </g>\n   <g id=\"line2d_128\">\n    <g clip-path=\"url(#p76f7108d03)\">\n     <use xlink:href=\"#m85c7acc1e3\" x=\"103.502378\" y=\"502.28621\" style=\"stroke: #000000\"/>\n    </g>\n   </g>\n   <g id=\"patch_3\">\n    <path d=\"M 34.839063 374.307188 \nL 34.839063 41.667187 \n\" style=\"fill: none; stroke: #000000; stroke-width: 0.8; stroke-linejoin: miter; stroke-linecap: square\"/>\n   </g>\n   <g id=\"patch_4\">\n    <path d=\"M 369.639063 374.307188 \nL 369.639063 41.667187 \n\" style=\"fill: none; stroke: #000000; stroke-width: 0.8; stroke-linejoin: miter; stroke-linecap: square\"/>\n   </g>\n   <g id=\"patch_5\">\n    <path d=\"M 34.839063 374.307188 \nL 369.639063 374.307188 \n\" style=\"fill: none; stroke: #000000; stroke-width: 0.8; stroke-linejoin: miter; stroke-linecap: square\"/>\n   </g>\n   <g id=\"patch_6\">\n    <path d=\"M 34.839063 41.667188 \nL 369.639063 41.667188 \n\" style=\"fill: none; stroke: #000000; stroke-width: 0.8; stroke-linejoin: miter; stroke-linecap: square\"/>\n   </g>\n   <g id=\"text_15\">\n    <!-- A) -->\n    <g transform=\"translate(13.914062 20.877187) scale(0.18 -0.18)\">\n     <defs>\n      <path id=\"DejaVuSans-Bold-41\" d=\"M 3419 850 \nL 1538 850 \nL 1241 0 \nL 31 0 \nL 1759 4666 \nL 3194 4666 \nL 4922 0 \nL 3713 0 \nL 3419 850 \nz\nM 1838 1716 \nL 3116 1716 \nL 2478 3572 \nL 1838 1716 \nz\n\" transform=\"scale(0.015625)\"/>\n      <path id=\"DejaVuSans-Bold-29\" d=\"M 513 -844 \nQ 913 -100 1113 609 \nQ 1313 1319 1313 2009 \nQ 1313 2700 1113 3408 \nQ 913 4116 513 4856 \nL 1441 4856 \nQ 1916 4091 2145 3389 \nQ 2375 2688 2375 2003 \nQ 2375 1319 2147 623 \nQ 1919 -72 1441 -844 \nL 513 -844 \nz\n\" transform=\"scale(0.015625)\"/>\n     </defs>\n     <use xlink:href=\"#DejaVuSans-Bold-41\"/>\n     <use xlink:href=\"#DejaVuSans-Bold-29\" x=\"77.392578\"/>\n    </g>\n   </g>\n  </g>\n </g>\n <defs>\n  <clipPath id=\"p76f7108d03\">\n   <rect x=\"34.839063\" y=\"41.667188\" width=\"334.8\" height=\"332.64\"/>\n  </clipPath>\n </defs>\n</svg>\n"
          },
          "metadata": {}
        }
      ]
    },
    {
      "cell_type": "code",
      "source": [
        "import plotly.graph_objects as go\n",
        "\n",
        "# two vectors in R3\n",
        "v1 = np.array([ 3,5,1 ])\n",
        "v2 = np.array([ 0,2,2 ])\n",
        "\n",
        "## uncomment the lines below for the second part\n",
        "# v1 = np.array([ 3.0,5.0,1.0 ])\n",
        "# v2 = np.array([ 1.5,2.5,0.5 ])\n",
        "\n",
        "\n",
        "# random scalars in the x-axis range\n",
        "scalars = np.random.uniform(low=xlim[0],high=xlim[1],size=(100,2))\n",
        "\n",
        "\n",
        "\n",
        "# create random points\n",
        "points = np.zeros((100,3))\n",
        "for i in range(len(scalars)):\n",
        "\n",
        "  # define this point as a random weighted combination of the two vectors\n",
        "  points[i,:] = v1*scalars[i,0] + v2*scalars[i,1]\n",
        "\n",
        "\n",
        "# draw the dots in the plane\n",
        "fig = go.Figure( data=[go.Scatter3d(x=points[:,0], y=points[:,1], z=points[:,2],\n",
        "                                    mode='markers', marker=dict(size=6,color='black') )])\n",
        "\n",
        "fig.update_layout(margin=dict(l=0,r=0,b=0,t=0))\n",
        "plt.savefig('Figure_03_07b.png',dpi=300)\n",
        "fig.show()"
      ],
      "metadata": {
        "id": "jDfdOUSvw9Dp",
        "outputId": "b9596a6e-0a21-4c21-d264-3b631206b442",
        "colab": {
          "base_uri": "https://localhost:8080/",
          "height": 559
        }
      },
      "execution_count": 21,
      "outputs": [
        {
          "output_type": "display_data",
          "data": {
            "text/html": [
              "<html>\n",
              "<head><meta charset=\"utf-8\" /></head>\n",
              "<body>\n",
              "    <div>            <script src=\"https://cdnjs.cloudflare.com/ajax/libs/mathjax/2.7.5/MathJax.js?config=TeX-AMS-MML_SVG\"></script><script type=\"text/javascript\">if (window.MathJax && window.MathJax.Hub && window.MathJax.Hub.Config) {window.MathJax.Hub.Config({SVG: {font: \"STIX-Web\"}});}</script>                <script type=\"text/javascript\">window.PlotlyConfig = {MathJaxConfig: 'local'};</script>\n",
              "        <script charset=\"utf-8\" src=\"https://cdn.plot.ly/plotly-2.35.2.min.js\"></script>                <div id=\"583bfb96-d42c-4f0f-aabf-da8cd1d4512b\" class=\"plotly-graph-div\" style=\"height:525px; width:100%;\"></div>            <script type=\"text/javascript\">                                    window.PLOTLYENV=window.PLOTLYENV || {};                                    if (document.getElementById(\"583bfb96-d42c-4f0f-aabf-da8cd1d4512b\")) {                    Plotly.newPlot(                        \"583bfb96-d42c-4f0f-aabf-da8cd1d4512b\",                        [{\"marker\":{\"color\":\"black\",\"size\":6},\"mode\":\"markers\",\"x\":[1.7264305527044987,11.11612906073635,1.6629251266866127,-3.9460052033148987,8.185118441559332,10.021456028422037,7.783943428923103,10.165039080977955,-0.2505312520784422,4.8676532592948485,-2.0705749869856227,-9.810184404219983,5.353022294533559,3.952596296183102,3.157942015379568,-5.831779933831589,5.927487936738945,-5.342652302410905,-7.943494212342901,9.863694587919532,-0.2732539775770393,-2.6218112940860214,9.636925627299231,-2.6422072766764035,8.620616280446903,-0.20990264305192152,4.7158166462156474,2.2016313349817933,-9.438879695024065,3.5750788509686657,-7.785882042613078,5.789076499691126,9.457355830052652,-8.717299216630705,0.9983370574767871,5.467547207024172,9.40027947902377,5.6034159771398295,8.418981966336188,-9.747787326804922,-4.810497734252108,7.229152655568295,10.574285124399701,-6.249834488559662,-7.860882590907545,-8.623934822505435,9.063989175845945,10.780479518740508,9.627053541246116,6.770354000037527,-7.467405163246462,-4.858718905226728,9.263642302222792,-9.125239942384813,0.7622712342977858,-8.436208179758935,-9.27493680706279,-8.494970709437753,-11.743273313741089,6.572131740787046,0.8723798735928536,8.857481676571526,-11.208016426644232,4.555233925247778,-9.16957011779649,-0.012595641394627322,2.8451036782060015,-0.6109760664531549,-5.273075039691758,9.105816470597137,3.816559679652544,8.999282502459296,5.304581508062505,-5.611919338407384,-3.2338542289969086,-0.336607579356472,5.295346367953427,3.487429247558701,4.152680331596891,10.629650603052763,-4.092414912763917,1.4980299439615292,3.9065238713512205,0.9978185929253867,-3.7421161342879925,-3.0258111298112365,7.3616970025240525,-1.5080331880358973,8.517817983711849,6.431086643156848,4.59520909813492,0.3288622630659468,0.6772483957696958,-1.686732722284357,-9.11261988970191,4.440849891588776,0.5925564123816773,8.44071553354119,-10.291503214694679,3.5426704091072967],\"y\":[2.9255509633756054,16.56421644527034,3.7959521817507476,-8.233609753623334,15.769652494675542,24.583768670970514,18.985798362642356,12.32706469387314,5.5248337074819975,0.468521076559842,-2.128093613212865,-22.696340410498802,14.150583752058973,5.7046405667361055,4.746763478200949,-11.30220311790893,17.75028615753778,-15.736207516942855,-10.109669358149235,21.927021300481996,4.965326405579108,-0.0013306519418518903,13.784932862191344,-10.185351302039525,16.57966226862511,-8.26490614947231,11.001195475810611,-0.9297979201092792,-20.881942374908803,11.808269212379514,-19.016656368242437,2.758354382947976,12.784250843849604,-14.371076829619893,7.450470200786395,6.463341176654202,19.71888848588246,3.35415621927652,8.305536910024474,-14.48146184083914,-15.873275268914377,18.285831896538525,22.667195751072818,-14.977560344781812,-16.338441237706014,-18.708625723936887,13.203697655602872,21.368145230909278,16.266640712138685,15.71935134548551,-16.235385423834238,-13.510393884804124,17.654370777987907,-22.76194692791207,-1.4818126356353476,-16.48889948137949,-14.216958934399852,-18.457685294625108,-16.207420788894538,14.439356889604323,0.47307778461113514,14.932925951928869,-15.000160068633432,0.4143189838093182,-16.662966853378663,-7.308803107056747,11.8339563800194,3.727552609049054,-8.053651349571467,13.982312579663873,2.859837570609864,15.834414520083664,6.740784260452665,-7.436039851863413,-8.847322901717448,-3.9162677773911634,10.429376599103684,0.22591114470808726,3.213896279869865,17.00064508589265,-5.238971894941348,-4.7692751586337385,13.34339324259563,-4.831772341311393,0.531373352659636,-10.871038121660526,5.230984760419052,0.6621321830632141,7.141124707035985,12.617990055704697,14.587467317822941,-3.9217839521285534,2.7881298517772466,-7.826028268725852,-10.40437736817856,1.6653677558576003,6.469464659377492,8.419162778358176,-14.358405569311612,6.914937761562346],\"z\":[0.6236435597696071,1.7427110309552027,1.5787186795019306,-2.9722694825368023,4.856161239263101,11.221827299741133,8.607207124078219,-1.226320747430802,5.85887537691992,-6.0216832691666236,0.6326730361012984,-9.61609453820549,7.013220692680895,0.4345121718253031,0.5361741243615246,-3.5264965394668106,9.846968908552517,-8.612671113728315,0.4816562583079653,8.775428516589288,5.329665042348494,3.4944177401728433,0.9356986924590336,-6.662408266470987,5.08550722802924,-7.985035958736414,4.713439947523082,-3.8653063667516703,-8.296769448210052,7.04149741108796,-8.635480311424999,-4.960414283306858,0.17444307044606955,-2.7480112074456198,6.119354124150679,-0.8267217660446935,7.185182513850763,-4.117065083576587,-2.9197723784237777,-1.4844120717659113,-9.459278289911566,8.646961689114132,8.568148918539885,-6.64444769336893,-5.857264449829287,-7.210045960596307,1.1183787544749446,6.994172539255265,3.4305693238105315,6.692212678768808,-6.2788452061722895,-7.032102011168486,5.30284770835752,-10.594960338065652,-2.4981742813657286,-5.240621908367575,-1.8503765249828001,-7.131057682041435,-0.5497230372397572,5.676514568554929,-0.6900953801793364,3.1229503831668346,-0.05613816644112557,-5.659326249854386,-4.436873362983346,-7.292008918530577,8.040484809078064,4.542187364319927,-1.0228846299824568,1.8412239522010232,-2.228908668926861,3.8353711834712687,-0.3319910836306743,0.046519266013099525,-4.535517263054902,-3.467457671582534,3.3689147751657815,-4.423994518703514,-2.32301082892599,2.827777615155634,0.2175813220772076,-6.766648417249111,8.134694747460669,-6.1621971318785755,5.520861531710293,-6.83662328191221,-4.584611242946351,2.6728431004444104,-4.215965937913147,4.0432078648289,8.460521853643048,-4.360266969549816,1.8851319907509856,-5.577051305680043,1.7457824847573233,-4.255765432927435,5.6793894428685885,-2.835124599696747,-0.6364012830520389,2.19137721608595],\"type\":\"scatter3d\"}],                        {\"template\":{\"data\":{\"histogram2dcontour\":[{\"type\":\"histogram2dcontour\",\"colorbar\":{\"outlinewidth\":0,\"ticks\":\"\"},\"colorscale\":[[0.0,\"#0d0887\"],[0.1111111111111111,\"#46039f\"],[0.2222222222222222,\"#7201a8\"],[0.3333333333333333,\"#9c179e\"],[0.4444444444444444,\"#bd3786\"],[0.5555555555555556,\"#d8576b\"],[0.6666666666666666,\"#ed7953\"],[0.7777777777777778,\"#fb9f3a\"],[0.8888888888888888,\"#fdca26\"],[1.0,\"#f0f921\"]]}],\"choropleth\":[{\"type\":\"choropleth\",\"colorbar\":{\"outlinewidth\":0,\"ticks\":\"\"}}],\"histogram2d\":[{\"type\":\"histogram2d\",\"colorbar\":{\"outlinewidth\":0,\"ticks\":\"\"},\"colorscale\":[[0.0,\"#0d0887\"],[0.1111111111111111,\"#46039f\"],[0.2222222222222222,\"#7201a8\"],[0.3333333333333333,\"#9c179e\"],[0.4444444444444444,\"#bd3786\"],[0.5555555555555556,\"#d8576b\"],[0.6666666666666666,\"#ed7953\"],[0.7777777777777778,\"#fb9f3a\"],[0.8888888888888888,\"#fdca26\"],[1.0,\"#f0f921\"]]}],\"heatmap\":[{\"type\":\"heatmap\",\"colorbar\":{\"outlinewidth\":0,\"ticks\":\"\"},\"colorscale\":[[0.0,\"#0d0887\"],[0.1111111111111111,\"#46039f\"],[0.2222222222222222,\"#7201a8\"],[0.3333333333333333,\"#9c179e\"],[0.4444444444444444,\"#bd3786\"],[0.5555555555555556,\"#d8576b\"],[0.6666666666666666,\"#ed7953\"],[0.7777777777777778,\"#fb9f3a\"],[0.8888888888888888,\"#fdca26\"],[1.0,\"#f0f921\"]]}],\"heatmapgl\":[{\"type\":\"heatmapgl\",\"colorbar\":{\"outlinewidth\":0,\"ticks\":\"\"},\"colorscale\":[[0.0,\"#0d0887\"],[0.1111111111111111,\"#46039f\"],[0.2222222222222222,\"#7201a8\"],[0.3333333333333333,\"#9c179e\"],[0.4444444444444444,\"#bd3786\"],[0.5555555555555556,\"#d8576b\"],[0.6666666666666666,\"#ed7953\"],[0.7777777777777778,\"#fb9f3a\"],[0.8888888888888888,\"#fdca26\"],[1.0,\"#f0f921\"]]}],\"contourcarpet\":[{\"type\":\"contourcarpet\",\"colorbar\":{\"outlinewidth\":0,\"ticks\":\"\"}}],\"contour\":[{\"type\":\"contour\",\"colorbar\":{\"outlinewidth\":0,\"ticks\":\"\"},\"colorscale\":[[0.0,\"#0d0887\"],[0.1111111111111111,\"#46039f\"],[0.2222222222222222,\"#7201a8\"],[0.3333333333333333,\"#9c179e\"],[0.4444444444444444,\"#bd3786\"],[0.5555555555555556,\"#d8576b\"],[0.6666666666666666,\"#ed7953\"],[0.7777777777777778,\"#fb9f3a\"],[0.8888888888888888,\"#fdca26\"],[1.0,\"#f0f921\"]]}],\"surface\":[{\"type\":\"surface\",\"colorbar\":{\"outlinewidth\":0,\"ticks\":\"\"},\"colorscale\":[[0.0,\"#0d0887\"],[0.1111111111111111,\"#46039f\"],[0.2222222222222222,\"#7201a8\"],[0.3333333333333333,\"#9c179e\"],[0.4444444444444444,\"#bd3786\"],[0.5555555555555556,\"#d8576b\"],[0.6666666666666666,\"#ed7953\"],[0.7777777777777778,\"#fb9f3a\"],[0.8888888888888888,\"#fdca26\"],[1.0,\"#f0f921\"]]}],\"mesh3d\":[{\"type\":\"mesh3d\",\"colorbar\":{\"outlinewidth\":0,\"ticks\":\"\"}}],\"scatter\":[{\"fillpattern\":{\"fillmode\":\"overlay\",\"size\":10,\"solidity\":0.2},\"type\":\"scatter\"}],\"parcoords\":[{\"type\":\"parcoords\",\"line\":{\"colorbar\":{\"outlinewidth\":0,\"ticks\":\"\"}}}],\"scatterpolargl\":[{\"type\":\"scatterpolargl\",\"marker\":{\"colorbar\":{\"outlinewidth\":0,\"ticks\":\"\"}}}],\"bar\":[{\"error_x\":{\"color\":\"#2a3f5f\"},\"error_y\":{\"color\":\"#2a3f5f\"},\"marker\":{\"line\":{\"color\":\"#E5ECF6\",\"width\":0.5},\"pattern\":{\"fillmode\":\"overlay\",\"size\":10,\"solidity\":0.2}},\"type\":\"bar\"}],\"scattergeo\":[{\"type\":\"scattergeo\",\"marker\":{\"colorbar\":{\"outlinewidth\":0,\"ticks\":\"\"}}}],\"scatterpolar\":[{\"type\":\"scatterpolar\",\"marker\":{\"colorbar\":{\"outlinewidth\":0,\"ticks\":\"\"}}}],\"histogram\":[{\"marker\":{\"pattern\":{\"fillmode\":\"overlay\",\"size\":10,\"solidity\":0.2}},\"type\":\"histogram\"}],\"scattergl\":[{\"type\":\"scattergl\",\"marker\":{\"colorbar\":{\"outlinewidth\":0,\"ticks\":\"\"}}}],\"scatter3d\":[{\"type\":\"scatter3d\",\"line\":{\"colorbar\":{\"outlinewidth\":0,\"ticks\":\"\"}},\"marker\":{\"colorbar\":{\"outlinewidth\":0,\"ticks\":\"\"}}}],\"scattermapbox\":[{\"type\":\"scattermapbox\",\"marker\":{\"colorbar\":{\"outlinewidth\":0,\"ticks\":\"\"}}}],\"scatterternary\":[{\"type\":\"scatterternary\",\"marker\":{\"colorbar\":{\"outlinewidth\":0,\"ticks\":\"\"}}}],\"scattercarpet\":[{\"type\":\"scattercarpet\",\"marker\":{\"colorbar\":{\"outlinewidth\":0,\"ticks\":\"\"}}}],\"carpet\":[{\"aaxis\":{\"endlinecolor\":\"#2a3f5f\",\"gridcolor\":\"white\",\"linecolor\":\"white\",\"minorgridcolor\":\"white\",\"startlinecolor\":\"#2a3f5f\"},\"baxis\":{\"endlinecolor\":\"#2a3f5f\",\"gridcolor\":\"white\",\"linecolor\":\"white\",\"minorgridcolor\":\"white\",\"startlinecolor\":\"#2a3f5f\"},\"type\":\"carpet\"}],\"table\":[{\"cells\":{\"fill\":{\"color\":\"#EBF0F8\"},\"line\":{\"color\":\"white\"}},\"header\":{\"fill\":{\"color\":\"#C8D4E3\"},\"line\":{\"color\":\"white\"}},\"type\":\"table\"}],\"barpolar\":[{\"marker\":{\"line\":{\"color\":\"#E5ECF6\",\"width\":0.5},\"pattern\":{\"fillmode\":\"overlay\",\"size\":10,\"solidity\":0.2}},\"type\":\"barpolar\"}],\"pie\":[{\"automargin\":true,\"type\":\"pie\"}]},\"layout\":{\"autotypenumbers\":\"strict\",\"colorway\":[\"#636efa\",\"#EF553B\",\"#00cc96\",\"#ab63fa\",\"#FFA15A\",\"#19d3f3\",\"#FF6692\",\"#B6E880\",\"#FF97FF\",\"#FECB52\"],\"font\":{\"color\":\"#2a3f5f\"},\"hovermode\":\"closest\",\"hoverlabel\":{\"align\":\"left\"},\"paper_bgcolor\":\"white\",\"plot_bgcolor\":\"#E5ECF6\",\"polar\":{\"bgcolor\":\"#E5ECF6\",\"angularaxis\":{\"gridcolor\":\"white\",\"linecolor\":\"white\",\"ticks\":\"\"},\"radialaxis\":{\"gridcolor\":\"white\",\"linecolor\":\"white\",\"ticks\":\"\"}},\"ternary\":{\"bgcolor\":\"#E5ECF6\",\"aaxis\":{\"gridcolor\":\"white\",\"linecolor\":\"white\",\"ticks\":\"\"},\"baxis\":{\"gridcolor\":\"white\",\"linecolor\":\"white\",\"ticks\":\"\"},\"caxis\":{\"gridcolor\":\"white\",\"linecolor\":\"white\",\"ticks\":\"\"}},\"coloraxis\":{\"colorbar\":{\"outlinewidth\":0,\"ticks\":\"\"}},\"colorscale\":{\"sequential\":[[0.0,\"#0d0887\"],[0.1111111111111111,\"#46039f\"],[0.2222222222222222,\"#7201a8\"],[0.3333333333333333,\"#9c179e\"],[0.4444444444444444,\"#bd3786\"],[0.5555555555555556,\"#d8576b\"],[0.6666666666666666,\"#ed7953\"],[0.7777777777777778,\"#fb9f3a\"],[0.8888888888888888,\"#fdca26\"],[1.0,\"#f0f921\"]],\"sequentialminus\":[[0.0,\"#0d0887\"],[0.1111111111111111,\"#46039f\"],[0.2222222222222222,\"#7201a8\"],[0.3333333333333333,\"#9c179e\"],[0.4444444444444444,\"#bd3786\"],[0.5555555555555556,\"#d8576b\"],[0.6666666666666666,\"#ed7953\"],[0.7777777777777778,\"#fb9f3a\"],[0.8888888888888888,\"#fdca26\"],[1.0,\"#f0f921\"]],\"diverging\":[[0,\"#8e0152\"],[0.1,\"#c51b7d\"],[0.2,\"#de77ae\"],[0.3,\"#f1b6da\"],[0.4,\"#fde0ef\"],[0.5,\"#f7f7f7\"],[0.6,\"#e6f5d0\"],[0.7,\"#b8e186\"],[0.8,\"#7fbc41\"],[0.9,\"#4d9221\"],[1,\"#276419\"]]},\"xaxis\":{\"gridcolor\":\"white\",\"linecolor\":\"white\",\"ticks\":\"\",\"title\":{\"standoff\":15},\"zerolinecolor\":\"white\",\"automargin\":true,\"zerolinewidth\":2},\"yaxis\":{\"gridcolor\":\"white\",\"linecolor\":\"white\",\"ticks\":\"\",\"title\":{\"standoff\":15},\"zerolinecolor\":\"white\",\"automargin\":true,\"zerolinewidth\":2},\"scene\":{\"xaxis\":{\"backgroundcolor\":\"#E5ECF6\",\"gridcolor\":\"white\",\"linecolor\":\"white\",\"showbackground\":true,\"ticks\":\"\",\"zerolinecolor\":\"white\",\"gridwidth\":2},\"yaxis\":{\"backgroundcolor\":\"#E5ECF6\",\"gridcolor\":\"white\",\"linecolor\":\"white\",\"showbackground\":true,\"ticks\":\"\",\"zerolinecolor\":\"white\",\"gridwidth\":2},\"zaxis\":{\"backgroundcolor\":\"#E5ECF6\",\"gridcolor\":\"white\",\"linecolor\":\"white\",\"showbackground\":true,\"ticks\":\"\",\"zerolinecolor\":\"white\",\"gridwidth\":2}},\"shapedefaults\":{\"line\":{\"color\":\"#2a3f5f\"}},\"annotationdefaults\":{\"arrowcolor\":\"#2a3f5f\",\"arrowhead\":0,\"arrowwidth\":1},\"geo\":{\"bgcolor\":\"white\",\"landcolor\":\"#E5ECF6\",\"subunitcolor\":\"white\",\"showland\":true,\"showlakes\":true,\"lakecolor\":\"white\"},\"title\":{\"x\":0.05},\"mapbox\":{\"style\":\"light\"}}},\"margin\":{\"l\":0,\"r\":0,\"b\":0,\"t\":0}},                        {\"responsive\": true}                    ).then(function(){\n",
              "                            \n",
              "var gd = document.getElementById('583bfb96-d42c-4f0f-aabf-da8cd1d4512b');\n",
              "var x = new MutationObserver(function (mutations, observer) {{\n",
              "        var display = window.getComputedStyle(gd).display;\n",
              "        if (!display || display === 'none') {{\n",
              "            console.log([gd, 'removed!']);\n",
              "            Plotly.purge(gd);\n",
              "            observer.disconnect();\n",
              "        }}\n",
              "}});\n",
              "\n",
              "// Listen for the removal of the full notebook cells\n",
              "var notebookContainer = gd.closest('#notebook-container');\n",
              "if (notebookContainer) {{\n",
              "    x.observe(notebookContainer, {childList: true});\n",
              "}}\n",
              "\n",
              "// Listen for the clearing of the current output cell\n",
              "var outputEl = gd.closest('.output');\n",
              "if (outputEl) {{\n",
              "    x.observe(outputEl, {childList: true});\n",
              "}}\n",
              "\n",
              "                        })                };                            </script>        </div>\n",
              "</body>\n",
              "</html>"
            ]
          },
          "metadata": {}
        },
        {
          "output_type": "display_data",
          "data": {
            "text/plain": [
              "<Figure size 640x480 with 0 Axes>"
            ]
          },
          "metadata": {}
        }
      ]
    }
  ]
}