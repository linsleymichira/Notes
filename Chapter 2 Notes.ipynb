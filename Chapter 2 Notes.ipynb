{
  "cells": [
    {
      "cell_type": "markdown",
      "metadata": {
        "id": "view-in-github",
        "colab_type": "text"
      },
      "source": [
        "<a href=\"https://colab.research.google.com/github/linsleymichira/Notes/blob/main/Chapter%202%20Notes.ipynb\" target=\"_parent\"><img src=\"https://colab.research.google.com/assets/colab-badge.svg\" alt=\"Open In Colab\"/></a>"
      ]
    },
    {
      "cell_type": "code",
      "execution_count": 1,
      "metadata": {
        "id": "Leffsd-Wrzhs"
      },
      "outputs": [],
      "source": [
        "# import libraries\n",
        "import numpy as np\n",
        "import matplotlib.pyplot as plt\n",
        "\n",
        "\n",
        "# NOTE: these lines define global figure properties used for publication.\n",
        "import matplotlib_inline.backend_inline\n",
        "matplotlib_inline.backend_inline.set_matplotlib_formats('svg') # display figures in vector format\n",
        "plt.rcParams.update({'font.size':14}) # set global font size"
      ]
    },
    {
      "cell_type": "markdown",
      "metadata": {
        "id": "v4wBEeUUrzht"
      },
      "source": [
        "# Practical Linear Alagebra for Data Science: From Core Concepts to Applications Using Python\n",
        "\n",
        "## Chapter 1: Introduction\n",
        "\n",
        "### What is Linear Algebra & Why Learn It?\n",
        "\n",
        "- linear algebra\n",
        "    - has an interesting history in mathematics dating back to\n",
        "        - the 17th century in the West\n",
        "        - much earlier in China\n",
        "    - 2 types\n",
        "        - modern linear algebra\n",
        "            - computational\n",
        "            - best learned through code and applications in\n",
        "                - graphics\n",
        "                - statistics\n",
        "                - data science\n",
        "                - AI\n",
        "                - numerical simulations\n",
        "            - provides the structural beams that support nearly every algorithm implemented on computers\n",
        "        - traditional linear algebra\n",
        "            - abstract\n",
        "            - learned through\n",
        "                - proofs\n",
        "                    - sequence of statements showing that a set of assumptions leads to a logical conclusion\n",
        "                    - unquestionably important in pure mathematics\n",
        "                - pondering infinite-dimensional vector spaces\n",
        "            - often intellectual fodder for advanced mathematics university students\n",
        "    - branch of mathematics\n",
        "    - isn't excessively memorization-heavy, but there are a few things you'll simply need to commit to memory\n",
        "- matrices\n",
        "    - spreadsheets of numbers at the heart of linear algebra\n",
        "    - used to provide a compact notation for storing sets of numbers like\n",
        "        - geometric coordinates\n",
        "        - systems of equations\n",
        "    - were used for multivariate mathematics in the 20th century including\n",
        "        - calculus\n",
        "        - differential equations\n",
        "        - physics\n",
        "        - economics\n",
        "    - has\n",
        "        - rows\n",
        "        - columns\n",
        "    - has a (*row,column*) index\n",
        "    - involves matrix decompositions\n",
        "- vectors\n",
        "    - were used for multivariate mathematics in the 20th century including\n",
        "        - calculus\n",
        "        - differential equations\n",
        "        - physics\n",
        "        - economics\n",
        "    - provide the foundations upon which all of linear algebra is built\n",
        "    - ordered list of numbers in linear algebra\n",
        "    - may contain other mathematical objects including functions in abstract linear algebra\n",
        "    - have several important characteristics:\n",
        "        - Dimensionality\n",
        "            - number of numbers in the vector\n",
        "            - often indicated using a fancy-looking $ℝ^N$, where\n",
        "                - $ℝ$\n",
        "                    - indicates real-valued numbers\n",
        "                - $^N$\n",
        "                    - indicates the dimensionality\n",
        "            - number of elements in that vector\n",
        "            - number of geometric dimensions used to print out a numerical object in Python\n",
        "            - number of elements in that vector\n",
        "        - Orientation\n",
        "            - whether the vector is in column orientation or row orientation\n",
        "            - usually doesn't matter when using vectors to store data but some operations in Python can give errors or unexpected results if the orientation is wrong\n",
        "            - important to understand\n",
        "            - given by brackets in NumPy where the outermost brackets group all of the numbers together into one object\n",
        "            - indeed important\n",
        "    - 2 types\n",
        "        - row vectors\n",
        "            - written as $w^T$ where\n",
        "                - $T$\n",
        "                    - indicates the transpose operation\n",
        "            - has all numbers in one row\n",
        "        - column vectors\n",
        "            - has multiple rows, with each row containing one number\n",
        "    - can be represented using several data types in Python\n",
        "    - 2 interpretations\n",
        "        - algebraic interpretation\n",
        "            - ordered list of numbers\n",
        "        - geometric interpretation\n",
        "            - straight line with a specific\n",
        "                - length also called magnitude\n",
        "                - direction also called angle\n",
        "    - has 2 points\n",
        "        - tail\n",
        "            - where it starts\n",
        "        - head\n",
        "            - where it ends\n",
        "    - like nouns\n",
        "    - characters in our linear algebra story\n",
        "    - point along an infinitely long line that\n",
        "        - passes through the origin\n",
        "        - goes to infinity in both directions called a \"one-dimensional subspace\"\n",
        "    - have either one row or one column, depending on their orientation\n",
        "- computers\n",
        "    - extremely effecient at working with matrices\n",
        "- modern computing\n",
        "    - gave rise to modern linear algebra\n",
        "- Python\n",
        "    - currently the most widely used language in\n",
        "        - data science\n",
        "        - machine learning\n",
        "        - related fields\n",
        "    - will allow adding scalars to vectors, comparable to scalar-vector multiplication\n",
        "- commutivity principle of multiplication\n",
        "    - states that $a*b = b*a$\n",
        "- math\n",
        "    - not a spectator sport\n",
        "\n",
        "## Chapter 2: Vectors, Part 1\n",
        "\n",
        "### Creating & Visualizing Vectors in NumPy\n",
        "\n",
        "- column orientation\n",
        "    - standing up tall\n",
        "- row orienation\n",
        "    - laying flat and wide\n",
        "- $C$\n",
        "    - complex-valued numbers\n",
        "- ∈\n",
        "    - \"is contained in the set of\"\n",
        "- 1D array\n",
        "    - list of numbers without a particular orientation regardless of the number of elements in Python\n",
        "- length\n",
        "    - also known as shape\n",
        "    - mathematical dimensionality\n",
        "    - number of elements in the vector in Python\n",
        "    - geometric distance\n",
        "- terminology\n",
        "    - often a sticky issue at the intersection of different disciplines\n",
        "- transpose operation\n",
        "    - transforms a column vector into a row vector\n",
        "    - converts column vectors into row vectors, and vice versa\n",
        "- list type\n",
        "    - may seem like the simplest way to represent a vector and it is for some applications but many linear algebra operations won't work on Python lists\n",
        "- Dimensions\n",
        "    - always listed as (rows,columns)\n",
        "\n",
        "### Geometry of Vectors\n",
        "\n",
        "- angle\n",
        "    - computed relative to the positive x-axis\n",
        "- standard position\n",
        "\n",
        "### Operations on Vectors\n",
        "\n",
        "- operations\n",
        "\n",
        "### Adding Two Vectors\n",
        "\n",
        "- vector addition\n",
        "    - defined only for two vectors that have the same dimensionality\n",
        "- broadcasting\n",
        "    - operation that exists only in modern computer-based linear algebra\n",
        "    - essentially means to repeat an operation multiple times between one vector and each element of another vector\n",
        "    - allows for efficient and compact computations\n",
        "    - used often in numerical coding\n",
        "    - general coding operation that is used to expand vectors in arithmetic operations such as\n",
        "        - addition\n",
        "        - multiplication\n",
        "        - division\n",
        "\n",
        "### Geometry of Vector Addition & Subtraction\n",
        "\n",
        "- orthagonal vector decomposition\n",
        "    - basis for linear least squares\n",
        "    - directly leads to\n",
        "        - Gram-Schmidt procedure\n",
        "        - QR decomposition\n",
        "            - used frequently when solving inverse problemns in statistics\n",
        "- linear least squares\n",
        "    - one of the most important applications of linear algebra in\n",
        "        - science\n",
        "        - engineering\n",
        "\n",
        "### Vector-Scalar Multiplication\n",
        "\n",
        "- scalar\n",
        "    - number on its own, not embedded in a vector or matrix in linear algebra\n",
        "    - typically indicated using lowercase Greek letters such as $α$ or $λ$\n",
        "    - added to each vector element in scalar-vector addition\n",
        "    - scale vectors without changing their direction\n",
        "    - do not change the direction of the vector but the vector direction flips when the scalar is negative\n",
        "- vector-scalar multiplication\n",
        "    - very simple\n",
        "    - 4 effects that depend on whether the scalar is\n",
        "        - greater than 1\n",
        "        - between 0 and 1\n",
        "        - exactly 0\n",
        "        - negative\n",
        "    - leads directly to vector averaging in combination with vector addition\n",
        "\n",
        "### The Zeros Vector\n",
        "\n",
        "- zeros vector\n",
        "    - vector of all zeros, indicated using a boldface zero, **0**\n",
        "    - special vector in linear algebra\n",
        "- trivial solution\n",
        "    - using the zeros vector to solve a problem\n",
        "\n",
        "### Scalar-Vector Addition\n",
        "\n",
        "- matrix spaces\n",
        "- eigenvectors\n",
        "- singular vectors\n",
        "- vector averaging\n",
        "    - same as averging numbers\n",
        "\n",
        "### Vector Broadcasting in Python\n",
        "\n",
        "- *k*-means clustering\n",
        "\n",
        "### Vector Magnitude & Unit Vectors\n",
        "\n",
        "- magnitude\n",
        "    - also called the geometric length or the norm\n",
        "    - distance from tail to head of a vector\n",
        "    - computed using the standard Euclidean distance formula\n",
        "    - indicated using double-vertical bars around the vector: $||v||$\n",
        "    - $||v|| = \\sqrt{\\sum_{i}^{n}=1v_{i}^2}$\n",
        "- Euclidean distance formula\n",
        "    - square root of the sum of squared vector elements\n",
        "- `len()`\n",
        "    - short for length in Python\n",
        "    - returns the dimensionality of an array\n",
        "- `np.norm()`\n",
        "    - returns the geometric length or magnitude\n",
        "- unit vector\n",
        "    - vector that has a geometric length of one\n",
        "    - defined as $||v|| = 1$\n",
        "    - can be crafted from a nonunit vector\n",
        "- orthagonal matrices\n",
        "- rotation matrices\n",
        "\n",
        "*Equation 2-8: Creating a unit vector*\n",
        "\n",
        "$\\hat{v} = \\frac{v}{||v||}$\n",
        "\n",
        "### The Vector Dot Product\n",
        "\n",
        "- dot product\n",
        "    - sometimes called the inner product\n",
        "    - one of the most important operations in all of linear algebra\n",
        "    - basic computational building block from which many operations and algorithms are built including\n",
        "        - convolution\n",
        "        - correlation\n",
        "        - Fourier transform\n",
        "        - matrix multiplication\n",
        "            - collection of dot products\n",
        "        - linear feature extraction\n",
        "        - signal filtering\n",
        "    - single number that provides information about the relationship between two vectors\n",
        "    - can be interpreted as a measure of similarity or mapping between two vectors\n",
        "    - product of the magnitudes of the two vectors, scaled by the cosine of the angle between them\n",
        "    - $\\alpha = \\cos(\\theta_{v,w})$  $||v||$   $||w||$\n",
        "    - perhaps the most important, and most frequently used, way to multiply vectors but there are other ways to multiply vectors\n",
        "- `np.dot()`\n",
        "    - does not actually implement the vector dot product\n",
        "    - implements matrix multiplication\n",
        "- Pearson correlation coefficient\n",
        "\n",
        "### The Dot Product Is Distributive\n",
        "\n",
        "- distributive property\n",
        "    - $a(b+c) = ab + ac$\n",
        "\n",
        "### Geometry of the Dot Product\n",
        "\n",
        "- Law of Cosines\n",
        "- orthagonal vectors\n",
        "    - have a zero dot product\n",
        "    - have a dot product of zero\n",
        "    - meet at a 90° angle\n",
        "- memorization\n",
        "    - important and inescapable part of learning mathematics\n",
        "\n",
        "### Hadamard Multiplication\n",
        "\n",
        "- Hadamard multiplication\n",
        "    - fancy term for element-wise multiplication\n",
        "    - convenient way to organize multiple scalar multiplications\n",
        "    - defined only for two vectors of equal dimensionality\n",
        "\n",
        "### Outer Product\n",
        "\n",
        "- outer product\n",
        "    - way to create a matrix from a column vector and a row vector\n",
        "    - quite different from the dot product\n",
        "    - produces a matrix instead of a scalar\n",
        "    - indicated as $vw^T$\n",
        "    - similar to broadcasting but they are not the same\n",
        "    - specific mathematical procedure for multiplying two vectors\n",
        "\n",
        "- rank-1 matrix\n",
        "\n",
        "- NumPy\n",
        "    - can compute the outer product via the function `np.outer()` or the function `np.dot()` if the two input vectors are in, respectively, column and row orientation\n",
        "\n",
        "### Cross & Triple Products\n",
        "\n",
        "- cross product\n",
        "- triple product\n",
        "\n",
        "### Orthogonal Vector Decomposition\n",
        "\n",
        "- decompositions\n",
        "    - used\n",
        "        - to reveal information that is \"hidden\" in a matrix\n",
        "        - to make the matrix the matrix easier to work with\n",
        "        - for data compression\n",
        "- matrix decompositions\n",
        "    - big deal\n",
        "- prime factorization\n",
        "    - has many applications in\n",
        "        - numerical processing\n",
        "        - cryptography\n",
        "- orthogonal projection\n",
        "    - projecting a point onto a line with minimum distance\n",
        "    - basis for many applications in statistics and machine learning, including the famous least squares formula for solving linear models\n",
        "- perpendicular component\n",
        "- parallel component\n",
        "    - $t_{||v}=v\\frac{t^{T}v}{v^{T}v}$\n",
        "\n",
        "\n",
        "### Summary\n",
        "\n",
        "- applied linear algebratician\n",
        "\n",
        "- vector\n",
        "    - ordered list of numbers that is placed in a column or in a row\n",
        "    - can be represented as a line in a geometric space with the number of ases equal to the dimensionality\n",
        "- dimensionality\n",
        "    - number of elements in a vector\n",
        "- dot product\n",
        "    - single number that encodes the relationship between two vectors of the same dimesionality\n",
        "    - computed as element-wise multiplation and sum\n",
        "    - zero for vectors that are orthogonal, which geometrically means that vectors meet at a right angle\n",
        "- orthogonal vector decomposition\n",
        "    - involves breaking up a vector into the sum of two other vectors that are orthogonal and parallel to a reference vector\n",
        "    - \"mapping over magnitude\"\n",
        "\n",
        "### Code Exercises\n",
        "\n",
        "#### Exercise 2-1"
      ]
    },
    {
      "cell_type": "code",
      "execution_count": 2,
      "metadata": {
        "id": "Hf6Fn1Dkrzhu",
        "outputId": "4347e4b1-bb68-46f8-c270-a13967046066",
        "colab": {
          "base_uri": "https://localhost:8080/",
          "height": 447
        }
      },
      "outputs": [
        {
          "output_type": "display_data",
          "data": {
            "text/plain": [
              "<Figure size 640x480 with 1 Axes>"
            ],
            "image/svg+xml": "<?xml version=\"1.0\" encoding=\"utf-8\" standalone=\"no\"?>\n<!DOCTYPE svg PUBLIC \"-//W3C//DTD SVG 1.1//EN\"\n  \"http://www.w3.org/Graphics/SVG/1.1/DTD/svg11.dtd\">\n<svg xmlns:xlink=\"http://www.w3.org/1999/xlink\" width=\"312.604812pt\" height=\"319.82675pt\" viewBox=\"0 0 312.604812 319.82675\" xmlns=\"http://www.w3.org/2000/svg\" version=\"1.1\">\n <metadata>\n  <rdf:RDF xmlns:dc=\"http://purl.org/dc/elements/1.1/\" xmlns:cc=\"http://creativecommons.org/ns#\" xmlns:rdf=\"http://www.w3.org/1999/02/22-rdf-syntax-ns#\">\n   <cc:Work>\n    <dc:type rdf:resource=\"http://purl.org/dc/dcmitype/StillImage\"/>\n    <dc:date>2024-10-22T00:48:06.382290</dc:date>\n    <dc:format>image/svg+xml</dc:format>\n    <dc:creator>\n     <cc:Agent>\n      <dc:title>Matplotlib v3.7.1, https://matplotlib.org/</dc:title>\n     </cc:Agent>\n    </dc:creator>\n   </cc:Work>\n  </rdf:RDF>\n </metadata>\n <defs>\n  <style type=\"text/css\">*{stroke-linejoin: round; stroke-linecap: butt}</style>\n </defs>\n <g id=\"figure_1\">\n  <g id=\"patch_1\">\n   <path d=\"M 0 319.82675 \nL 312.604812 319.82675 \nL 312.604812 0 \nL 0 0 \nz\n\" style=\"fill: #ffffff\"/>\n  </g>\n  <g id=\"axes_1\">\n   <g id=\"patch_2\">\n    <path d=\"M 34.839062 292.077375 \nL 300.951062 292.077375 \nL 300.951062 25.965375 \nL 34.839062 25.965375 \nz\n\" style=\"fill: #ffffff\"/>\n   </g>\n   <g id=\"patch_3\">\n    <path d=\"M 190.071062 114.669375 \nL 188.583451 125.082654 \nL 186.599969 124.090913 \nL 168.886803 159.517245 \nL 166.903322 158.525505 \nL 184.616488 123.099172 \nL 182.633006 122.107432 \nz\n\" clip-path=\"url(#pc40eb6073e)\" style=\"stroke: #000000; stroke-linejoin: miter\"/>\n   </g>\n   <g id=\"patch_4\">\n    <path d=\"M 278.775062 247.725375 \nL 270.471866 241.267333 \nL 272.317021 240.03723 \nL 189.148485 115.284427 \nL 190.99364 114.054323 \nL 274.162176 238.807127 \nL 276.00733 237.577024 \nz\n\" clip-path=\"url(#pc40eb6073e)\" style=\"fill: #808080; stroke: #808080; stroke-linejoin: miter\"/>\n   </g>\n   <g id=\"patch_5\">\n    <path d=\"M 278.775062 247.725375 \nL 268.904631 244.0889 \nL 270.289955 242.357246 \nL 167.202401 159.887202 \nL 168.587724 158.155548 \nL 271.675278 240.625591 \nL 273.060602 238.893936 \nz\n\" clip-path=\"url(#pc40eb6073e)\" style=\"fill: #cccccc; stroke: #cccccc; stroke-linejoin: miter\"/>\n   </g>\n   <g id=\"matplotlib.axis_1\">\n    <g id=\"xtick_1\">\n     <g id=\"line2d_1\">\n      <path d=\"M 34.839063 292.077375 \nL 34.839063 25.965375 \n\" clip-path=\"url(#pc40eb6073e)\" style=\"fill: none; stroke-dasharray: 1.85,0.8; stroke-dashoffset: 0; stroke: #b0b0b0; stroke-width: 0.5\"/>\n     </g>\n     <g id=\"line2d_2\">\n      <defs>\n       <path id=\"macc320a22a\" d=\"M 0 0 \nL 0 3.5 \n\" style=\"stroke: #000000; stroke-width: 0.8\"/>\n      </defs>\n      <g>\n       <use xlink:href=\"#macc320a22a\" x=\"34.839063\" y=\"292.077375\" style=\"stroke: #000000; stroke-width: 0.8\"/>\n      </g>\n     </g>\n     <g id=\"text_1\">\n      <!-- −6 -->\n      <g transform=\"translate(24.519531 309.715187) scale(0.14 -0.14)\">\n       <defs>\n        <path id=\"DejaVuSans-2212\" d=\"M 678 2272 \nL 4684 2272 \nL 4684 1741 \nL 678 1741 \nL 678 2272 \nz\n\" transform=\"scale(0.015625)\"/>\n        <path id=\"DejaVuSans-36\" d=\"M 2113 2584 \nQ 1688 2584 1439 2293 \nQ 1191 2003 1191 1497 \nQ 1191 994 1439 701 \nQ 1688 409 2113 409 \nQ 2538 409 2786 701 \nQ 3034 994 3034 1497 \nQ 3034 2003 2786 2293 \nQ 2538 2584 2113 2584 \nz\nM 3366 4563 \nL 3366 3988 \nQ 3128 4100 2886 4159 \nQ 2644 4219 2406 4219 \nQ 1781 4219 1451 3797 \nQ 1122 3375 1075 2522 \nQ 1259 2794 1537 2939 \nQ 1816 3084 2150 3084 \nQ 2853 3084 3261 2657 \nQ 3669 2231 3669 1497 \nQ 3669 778 3244 343 \nQ 2819 -91 2113 -91 \nQ 1303 -91 875 529 \nQ 447 1150 447 2328 \nQ 447 3434 972 4092 \nQ 1497 4750 2381 4750 \nQ 2619 4750 2861 4703 \nQ 3103 4656 3366 4563 \nz\n\" transform=\"scale(0.015625)\"/>\n       </defs>\n       <use xlink:href=\"#DejaVuSans-2212\"/>\n       <use xlink:href=\"#DejaVuSans-36\" x=\"83.789062\"/>\n      </g>\n     </g>\n    </g>\n    <g id=\"xtick_2\">\n     <g id=\"line2d_3\">\n      <path d=\"M 79.191063 292.077375 \nL 79.191063 25.965375 \n\" clip-path=\"url(#pc40eb6073e)\" style=\"fill: none; stroke-dasharray: 1.85,0.8; stroke-dashoffset: 0; stroke: #b0b0b0; stroke-width: 0.5\"/>\n     </g>\n     <g id=\"line2d_4\">\n      <g>\n       <use xlink:href=\"#macc320a22a\" x=\"79.191063\" y=\"292.077375\" style=\"stroke: #000000; stroke-width: 0.8\"/>\n      </g>\n     </g>\n     <g id=\"text_2\">\n      <!-- −4 -->\n      <g transform=\"translate(68.871531 309.715187) scale(0.14 -0.14)\">\n       <defs>\n        <path id=\"DejaVuSans-34\" d=\"M 2419 4116 \nL 825 1625 \nL 2419 1625 \nL 2419 4116 \nz\nM 2253 4666 \nL 3047 4666 \nL 3047 1625 \nL 3713 1625 \nL 3713 1100 \nL 3047 1100 \nL 3047 0 \nL 2419 0 \nL 2419 1100 \nL 313 1100 \nL 313 1709 \nL 2253 4666 \nz\n\" transform=\"scale(0.015625)\"/>\n       </defs>\n       <use xlink:href=\"#DejaVuSans-2212\"/>\n       <use xlink:href=\"#DejaVuSans-34\" x=\"83.789062\"/>\n      </g>\n     </g>\n    </g>\n    <g id=\"xtick_3\">\n     <g id=\"line2d_5\">\n      <path d=\"M 123.543063 292.077375 \nL 123.543063 25.965375 \n\" clip-path=\"url(#pc40eb6073e)\" style=\"fill: none; stroke-dasharray: 1.85,0.8; stroke-dashoffset: 0; stroke: #b0b0b0; stroke-width: 0.5\"/>\n     </g>\n     <g id=\"line2d_6\">\n      <g>\n       <use xlink:href=\"#macc320a22a\" x=\"123.543063\" y=\"292.077375\" style=\"stroke: #000000; stroke-width: 0.8\"/>\n      </g>\n     </g>\n     <g id=\"text_3\">\n      <!-- −2 -->\n      <g transform=\"translate(113.223531 309.715187) scale(0.14 -0.14)\">\n       <defs>\n        <path id=\"DejaVuSans-32\" d=\"M 1228 531 \nL 3431 531 \nL 3431 0 \nL 469 0 \nL 469 531 \nQ 828 903 1448 1529 \nQ 2069 2156 2228 2338 \nQ 2531 2678 2651 2914 \nQ 2772 3150 2772 3378 \nQ 2772 3750 2511 3984 \nQ 2250 4219 1831 4219 \nQ 1534 4219 1204 4116 \nQ 875 4013 500 3803 \nL 500 4441 \nQ 881 4594 1212 4672 \nQ 1544 4750 1819 4750 \nQ 2544 4750 2975 4387 \nQ 3406 4025 3406 3419 \nQ 3406 3131 3298 2873 \nQ 3191 2616 2906 2266 \nQ 2828 2175 2409 1742 \nQ 1991 1309 1228 531 \nz\n\" transform=\"scale(0.015625)\"/>\n       </defs>\n       <use xlink:href=\"#DejaVuSans-2212\"/>\n       <use xlink:href=\"#DejaVuSans-32\" x=\"83.789062\"/>\n      </g>\n     </g>\n    </g>\n    <g id=\"xtick_4\">\n     <g id=\"line2d_7\">\n      <path d=\"M 167.895062 292.077375 \nL 167.895062 25.965375 \n\" clip-path=\"url(#pc40eb6073e)\" style=\"fill: none; stroke-dasharray: 1.85,0.8; stroke-dashoffset: 0; stroke: #b0b0b0; stroke-width: 0.5\"/>\n     </g>\n     <g id=\"line2d_8\">\n      <g>\n       <use xlink:href=\"#macc320a22a\" x=\"167.895062\" y=\"292.077375\" style=\"stroke: #000000; stroke-width: 0.8\"/>\n      </g>\n     </g>\n     <g id=\"text_4\">\n      <!-- 0 -->\n      <g transform=\"translate(163.441312 309.715187) scale(0.14 -0.14)\">\n       <defs>\n        <path id=\"DejaVuSans-30\" d=\"M 2034 4250 \nQ 1547 4250 1301 3770 \nQ 1056 3291 1056 2328 \nQ 1056 1369 1301 889 \nQ 1547 409 2034 409 \nQ 2525 409 2770 889 \nQ 3016 1369 3016 2328 \nQ 3016 3291 2770 3770 \nQ 2525 4250 2034 4250 \nz\nM 2034 4750 \nQ 2819 4750 3233 4129 \nQ 3647 3509 3647 2328 \nQ 3647 1150 3233 529 \nQ 2819 -91 2034 -91 \nQ 1250 -91 836 529 \nQ 422 1150 422 2328 \nQ 422 3509 836 4129 \nQ 1250 4750 2034 4750 \nz\n\" transform=\"scale(0.015625)\"/>\n       </defs>\n       <use xlink:href=\"#DejaVuSans-30\"/>\n      </g>\n     </g>\n    </g>\n    <g id=\"xtick_5\">\n     <g id=\"line2d_9\">\n      <path d=\"M 212.247062 292.077375 \nL 212.247062 25.965375 \n\" clip-path=\"url(#pc40eb6073e)\" style=\"fill: none; stroke-dasharray: 1.85,0.8; stroke-dashoffset: 0; stroke: #b0b0b0; stroke-width: 0.5\"/>\n     </g>\n     <g id=\"line2d_10\">\n      <g>\n       <use xlink:href=\"#macc320a22a\" x=\"212.247062\" y=\"292.077375\" style=\"stroke: #000000; stroke-width: 0.8\"/>\n      </g>\n     </g>\n     <g id=\"text_5\">\n      <!-- 2 -->\n      <g transform=\"translate(207.793312 309.715187) scale(0.14 -0.14)\">\n       <use xlink:href=\"#DejaVuSans-32\"/>\n      </g>\n     </g>\n    </g>\n    <g id=\"xtick_6\">\n     <g id=\"line2d_11\">\n      <path d=\"M 256.599062 292.077375 \nL 256.599062 25.965375 \n\" clip-path=\"url(#pc40eb6073e)\" style=\"fill: none; stroke-dasharray: 1.85,0.8; stroke-dashoffset: 0; stroke: #b0b0b0; stroke-width: 0.5\"/>\n     </g>\n     <g id=\"line2d_12\">\n      <g>\n       <use xlink:href=\"#macc320a22a\" x=\"256.599062\" y=\"292.077375\" style=\"stroke: #000000; stroke-width: 0.8\"/>\n      </g>\n     </g>\n     <g id=\"text_6\">\n      <!-- 4 -->\n      <g transform=\"translate(252.145312 309.715187) scale(0.14 -0.14)\">\n       <use xlink:href=\"#DejaVuSans-34\"/>\n      </g>\n     </g>\n    </g>\n    <g id=\"xtick_7\">\n     <g id=\"line2d_13\">\n      <path d=\"M 300.951062 292.077375 \nL 300.951062 25.965375 \n\" clip-path=\"url(#pc40eb6073e)\" style=\"fill: none; stroke-dasharray: 1.85,0.8; stroke-dashoffset: 0; stroke: #b0b0b0; stroke-width: 0.5\"/>\n     </g>\n     <g id=\"line2d_14\">\n      <g>\n       <use xlink:href=\"#macc320a22a\" x=\"300.951062\" y=\"292.077375\" style=\"stroke: #000000; stroke-width: 0.8\"/>\n      </g>\n     </g>\n     <g id=\"text_7\">\n      <!-- 6 -->\n      <g transform=\"translate(296.497312 309.715187) scale(0.14 -0.14)\">\n       <use xlink:href=\"#DejaVuSans-36\"/>\n      </g>\n     </g>\n    </g>\n   </g>\n   <g id=\"matplotlib.axis_2\">\n    <g id=\"ytick_1\">\n     <g id=\"line2d_15\">\n      <path d=\"M 34.839062 292.077375 \nL 300.951062 292.077375 \n\" clip-path=\"url(#pc40eb6073e)\" style=\"fill: none; stroke-dasharray: 1.85,0.8; stroke-dashoffset: 0; stroke: #b0b0b0; stroke-width: 0.5\"/>\n     </g>\n     <g id=\"line2d_16\">\n      <defs>\n       <path id=\"mdc8cdffadd\" d=\"M 0 0 \nL -3.5 0 \n\" style=\"stroke: #000000; stroke-width: 0.8\"/>\n      </defs>\n      <g>\n       <use xlink:href=\"#mdc8cdffadd\" x=\"34.839062\" y=\"292.077375\" style=\"stroke: #000000; stroke-width: 0.8\"/>\n      </g>\n     </g>\n     <g id=\"text_8\">\n      <!-- −6 -->\n      <g transform=\"translate(7.2 297.396281) scale(0.14 -0.14)\">\n       <use xlink:href=\"#DejaVuSans-2212\"/>\n       <use xlink:href=\"#DejaVuSans-36\" x=\"83.789062\"/>\n      </g>\n     </g>\n    </g>\n    <g id=\"ytick_2\">\n     <g id=\"line2d_17\">\n      <path d=\"M 34.839062 247.725375 \nL 300.951062 247.725375 \n\" clip-path=\"url(#pc40eb6073e)\" style=\"fill: none; stroke-dasharray: 1.85,0.8; stroke-dashoffset: 0; stroke: #b0b0b0; stroke-width: 0.5\"/>\n     </g>\n     <g id=\"line2d_18\">\n      <g>\n       <use xlink:href=\"#mdc8cdffadd\" x=\"34.839062\" y=\"247.725375\" style=\"stroke: #000000; stroke-width: 0.8\"/>\n      </g>\n     </g>\n     <g id=\"text_9\">\n      <!-- −4 -->\n      <g transform=\"translate(7.2 253.044281) scale(0.14 -0.14)\">\n       <use xlink:href=\"#DejaVuSans-2212\"/>\n       <use xlink:href=\"#DejaVuSans-34\" x=\"83.789062\"/>\n      </g>\n     </g>\n    </g>\n    <g id=\"ytick_3\">\n     <g id=\"line2d_19\">\n      <path d=\"M 34.839062 203.373375 \nL 300.951062 203.373375 \n\" clip-path=\"url(#pc40eb6073e)\" style=\"fill: none; stroke-dasharray: 1.85,0.8; stroke-dashoffset: 0; stroke: #b0b0b0; stroke-width: 0.5\"/>\n     </g>\n     <g id=\"line2d_20\">\n      <g>\n       <use xlink:href=\"#mdc8cdffadd\" x=\"34.839062\" y=\"203.373375\" style=\"stroke: #000000; stroke-width: 0.8\"/>\n      </g>\n     </g>\n     <g id=\"text_10\">\n      <!-- −2 -->\n      <g transform=\"translate(7.2 208.692281) scale(0.14 -0.14)\">\n       <use xlink:href=\"#DejaVuSans-2212\"/>\n       <use xlink:href=\"#DejaVuSans-32\" x=\"83.789062\"/>\n      </g>\n     </g>\n    </g>\n    <g id=\"ytick_4\">\n     <g id=\"line2d_21\">\n      <path d=\"M 34.839062 159.021375 \nL 300.951062 159.021375 \n\" clip-path=\"url(#pc40eb6073e)\" style=\"fill: none; stroke-dasharray: 1.85,0.8; stroke-dashoffset: 0; stroke: #b0b0b0; stroke-width: 0.5\"/>\n     </g>\n     <g id=\"line2d_22\">\n      <g>\n       <use xlink:href=\"#mdc8cdffadd\" x=\"34.839062\" y=\"159.021375\" style=\"stroke: #000000; stroke-width: 0.8\"/>\n      </g>\n     </g>\n     <g id=\"text_11\">\n      <!-- 0 -->\n      <g transform=\"translate(18.931562 164.340281) scale(0.14 -0.14)\">\n       <use xlink:href=\"#DejaVuSans-30\"/>\n      </g>\n     </g>\n    </g>\n    <g id=\"ytick_5\">\n     <g id=\"line2d_23\">\n      <path d=\"M 34.839062 114.669375 \nL 300.951062 114.669375 \n\" clip-path=\"url(#pc40eb6073e)\" style=\"fill: none; stroke-dasharray: 1.85,0.8; stroke-dashoffset: 0; stroke: #b0b0b0; stroke-width: 0.5\"/>\n     </g>\n     <g id=\"line2d_24\">\n      <g>\n       <use xlink:href=\"#mdc8cdffadd\" x=\"34.839062\" y=\"114.669375\" style=\"stroke: #000000; stroke-width: 0.8\"/>\n      </g>\n     </g>\n     <g id=\"text_12\">\n      <!-- 2 -->\n      <g transform=\"translate(18.931562 119.988281) scale(0.14 -0.14)\">\n       <use xlink:href=\"#DejaVuSans-32\"/>\n      </g>\n     </g>\n    </g>\n    <g id=\"ytick_6\">\n     <g id=\"line2d_25\">\n      <path d=\"M 34.839062 70.317375 \nL 300.951062 70.317375 \n\" clip-path=\"url(#pc40eb6073e)\" style=\"fill: none; stroke-dasharray: 1.85,0.8; stroke-dashoffset: 0; stroke: #b0b0b0; stroke-width: 0.5\"/>\n     </g>\n     <g id=\"line2d_26\">\n      <g>\n       <use xlink:href=\"#mdc8cdffadd\" x=\"34.839062\" y=\"70.317375\" style=\"stroke: #000000; stroke-width: 0.8\"/>\n      </g>\n     </g>\n     <g id=\"text_13\">\n      <!-- 4 -->\n      <g transform=\"translate(18.931562 75.636281) scale(0.14 -0.14)\">\n       <use xlink:href=\"#DejaVuSans-34\"/>\n      </g>\n     </g>\n    </g>\n    <g id=\"ytick_7\">\n     <g id=\"line2d_27\">\n      <path d=\"M 34.839062 25.965375 \nL 300.951062 25.965375 \n\" clip-path=\"url(#pc40eb6073e)\" style=\"fill: none; stroke-dasharray: 1.85,0.8; stroke-dashoffset: 0; stroke: #b0b0b0; stroke-width: 0.5\"/>\n     </g>\n     <g id=\"line2d_28\">\n      <g>\n       <use xlink:href=\"#mdc8cdffadd\" x=\"34.839062\" y=\"25.965375\" style=\"stroke: #000000; stroke-width: 0.8\"/>\n      </g>\n     </g>\n     <g id=\"text_14\">\n      <!-- 6 -->\n      <g transform=\"translate(18.931562 31.284281) scale(0.14 -0.14)\">\n       <use xlink:href=\"#DejaVuSans-36\"/>\n      </g>\n     </g>\n    </g>\n   </g>\n   <g id=\"patch_6\">\n    <path d=\"M 34.839062 292.077375 \nL 34.839062 25.965375 \n\" style=\"fill: none; stroke: #000000; stroke-width: 0.8; stroke-linejoin: miter; stroke-linecap: square\"/>\n   </g>\n   <g id=\"patch_7\">\n    <path d=\"M 300.951062 292.077375 \nL 300.951062 25.965375 \n\" style=\"fill: none; stroke: #000000; stroke-width: 0.8; stroke-linejoin: miter; stroke-linecap: square\"/>\n   </g>\n   <g id=\"patch_8\">\n    <path d=\"M 34.839063 292.077375 \nL 300.951062 292.077375 \n\" style=\"fill: none; stroke: #000000; stroke-width: 0.8; stroke-linejoin: miter; stroke-linecap: square\"/>\n   </g>\n   <g id=\"patch_9\">\n    <path d=\"M 34.839063 25.965375 \nL 300.951062 25.965375 \n\" style=\"fill: none; stroke: #000000; stroke-width: 0.8; stroke-linejoin: miter; stroke-linecap: square\"/>\n   </g>\n   <g id=\"text_15\">\n    <!-- Vectors v, w, and v+w -->\n    <g transform=\"translate(74.2075 19.965375) scale(0.168 -0.168)\">\n     <defs>\n      <path id=\"DejaVuSans-56\" d=\"M 1831 0 \nL 50 4666 \nL 709 4666 \nL 2188 738 \nL 3669 4666 \nL 4325 4666 \nL 2547 0 \nL 1831 0 \nz\n\" transform=\"scale(0.015625)\"/>\n      <path id=\"DejaVuSans-65\" d=\"M 3597 1894 \nL 3597 1613 \nL 953 1613 \nQ 991 1019 1311 708 \nQ 1631 397 2203 397 \nQ 2534 397 2845 478 \nQ 3156 559 3463 722 \nL 3463 178 \nQ 3153 47 2828 -22 \nQ 2503 -91 2169 -91 \nQ 1331 -91 842 396 \nQ 353 884 353 1716 \nQ 353 2575 817 3079 \nQ 1281 3584 2069 3584 \nQ 2775 3584 3186 3129 \nQ 3597 2675 3597 1894 \nz\nM 3022 2063 \nQ 3016 2534 2758 2815 \nQ 2500 3097 2075 3097 \nQ 1594 3097 1305 2825 \nQ 1016 2553 972 2059 \nL 3022 2063 \nz\n\" transform=\"scale(0.015625)\"/>\n      <path id=\"DejaVuSans-63\" d=\"M 3122 3366 \nL 3122 2828 \nQ 2878 2963 2633 3030 \nQ 2388 3097 2138 3097 \nQ 1578 3097 1268 2742 \nQ 959 2388 959 1747 \nQ 959 1106 1268 751 \nQ 1578 397 2138 397 \nQ 2388 397 2633 464 \nQ 2878 531 3122 666 \nL 3122 134 \nQ 2881 22 2623 -34 \nQ 2366 -91 2075 -91 \nQ 1284 -91 818 406 \nQ 353 903 353 1747 \nQ 353 2603 823 3093 \nQ 1294 3584 2113 3584 \nQ 2378 3584 2631 3529 \nQ 2884 3475 3122 3366 \nz\n\" transform=\"scale(0.015625)\"/>\n      <path id=\"DejaVuSans-74\" d=\"M 1172 4494 \nL 1172 3500 \nL 2356 3500 \nL 2356 3053 \nL 1172 3053 \nL 1172 1153 \nQ 1172 725 1289 603 \nQ 1406 481 1766 481 \nL 2356 481 \nL 2356 0 \nL 1766 0 \nQ 1100 0 847 248 \nQ 594 497 594 1153 \nL 594 3053 \nL 172 3053 \nL 172 3500 \nL 594 3500 \nL 594 4494 \nL 1172 4494 \nz\n\" transform=\"scale(0.015625)\"/>\n      <path id=\"DejaVuSans-6f\" d=\"M 1959 3097 \nQ 1497 3097 1228 2736 \nQ 959 2375 959 1747 \nQ 959 1119 1226 758 \nQ 1494 397 1959 397 \nQ 2419 397 2687 759 \nQ 2956 1122 2956 1747 \nQ 2956 2369 2687 2733 \nQ 2419 3097 1959 3097 \nz\nM 1959 3584 \nQ 2709 3584 3137 3096 \nQ 3566 2609 3566 1747 \nQ 3566 888 3137 398 \nQ 2709 -91 1959 -91 \nQ 1206 -91 779 398 \nQ 353 888 353 1747 \nQ 353 2609 779 3096 \nQ 1206 3584 1959 3584 \nz\n\" transform=\"scale(0.015625)\"/>\n      <path id=\"DejaVuSans-72\" d=\"M 2631 2963 \nQ 2534 3019 2420 3045 \nQ 2306 3072 2169 3072 \nQ 1681 3072 1420 2755 \nQ 1159 2438 1159 1844 \nL 1159 0 \nL 581 0 \nL 581 3500 \nL 1159 3500 \nL 1159 2956 \nQ 1341 3275 1631 3429 \nQ 1922 3584 2338 3584 \nQ 2397 3584 2469 3576 \nQ 2541 3569 2628 3553 \nL 2631 2963 \nz\n\" transform=\"scale(0.015625)\"/>\n      <path id=\"DejaVuSans-73\" d=\"M 2834 3397 \nL 2834 2853 \nQ 2591 2978 2328 3040 \nQ 2066 3103 1784 3103 \nQ 1356 3103 1142 2972 \nQ 928 2841 928 2578 \nQ 928 2378 1081 2264 \nQ 1234 2150 1697 2047 \nL 1894 2003 \nQ 2506 1872 2764 1633 \nQ 3022 1394 3022 966 \nQ 3022 478 2636 193 \nQ 2250 -91 1575 -91 \nQ 1294 -91 989 -36 \nQ 684 19 347 128 \nL 347 722 \nQ 666 556 975 473 \nQ 1284 391 1588 391 \nQ 1994 391 2212 530 \nQ 2431 669 2431 922 \nQ 2431 1156 2273 1281 \nQ 2116 1406 1581 1522 \nL 1381 1569 \nQ 847 1681 609 1914 \nQ 372 2147 372 2553 \nQ 372 3047 722 3315 \nQ 1072 3584 1716 3584 \nQ 2034 3584 2315 3537 \nQ 2597 3491 2834 3397 \nz\n\" transform=\"scale(0.015625)\"/>\n      <path id=\"DejaVuSans-20\" transform=\"scale(0.015625)\"/>\n      <path id=\"DejaVuSans-76\" d=\"M 191 3500 \nL 800 3500 \nL 1894 563 \nL 2988 3500 \nL 3597 3500 \nL 2284 0 \nL 1503 0 \nL 191 3500 \nz\n\" transform=\"scale(0.015625)\"/>\n      <path id=\"DejaVuSans-2c\" d=\"M 750 794 \nL 1409 794 \nL 1409 256 \nL 897 -744 \nL 494 -744 \nL 750 256 \nL 750 794 \nz\n\" transform=\"scale(0.015625)\"/>\n      <path id=\"DejaVuSans-77\" d=\"M 269 3500 \nL 844 3500 \nL 1563 769 \nL 2278 3500 \nL 2956 3500 \nL 3675 769 \nL 4391 3500 \nL 4966 3500 \nL 4050 0 \nL 3372 0 \nL 2619 2869 \nL 1863 0 \nL 1184 0 \nL 269 3500 \nz\n\" transform=\"scale(0.015625)\"/>\n      <path id=\"DejaVuSans-61\" d=\"M 2194 1759 \nQ 1497 1759 1228 1600 \nQ 959 1441 959 1056 \nQ 959 750 1161 570 \nQ 1363 391 1709 391 \nQ 2188 391 2477 730 \nQ 2766 1069 2766 1631 \nL 2766 1759 \nL 2194 1759 \nz\nM 3341 1997 \nL 3341 0 \nL 2766 0 \nL 2766 531 \nQ 2569 213 2275 61 \nQ 1981 -91 1556 -91 \nQ 1019 -91 701 211 \nQ 384 513 384 1019 \nQ 384 1609 779 1909 \nQ 1175 2209 1959 2209 \nL 2766 2209 \nL 2766 2266 \nQ 2766 2663 2505 2880 \nQ 2244 3097 1772 3097 \nQ 1472 3097 1187 3025 \nQ 903 2953 641 2809 \nL 641 3341 \nQ 956 3463 1253 3523 \nQ 1550 3584 1831 3584 \nQ 2591 3584 2966 3190 \nQ 3341 2797 3341 1997 \nz\n\" transform=\"scale(0.015625)\"/>\n      <path id=\"DejaVuSans-6e\" d=\"M 3513 2113 \nL 3513 0 \nL 2938 0 \nL 2938 2094 \nQ 2938 2591 2744 2837 \nQ 2550 3084 2163 3084 \nQ 1697 3084 1428 2787 \nQ 1159 2491 1159 1978 \nL 1159 0 \nL 581 0 \nL 581 3500 \nL 1159 3500 \nL 1159 2956 \nQ 1366 3272 1645 3428 \nQ 1925 3584 2291 3584 \nQ 2894 3584 3203 3211 \nQ 3513 2838 3513 2113 \nz\n\" transform=\"scale(0.015625)\"/>\n      <path id=\"DejaVuSans-64\" d=\"M 2906 2969 \nL 2906 4863 \nL 3481 4863 \nL 3481 0 \nL 2906 0 \nL 2906 525 \nQ 2725 213 2448 61 \nQ 2172 -91 1784 -91 \nQ 1150 -91 751 415 \nQ 353 922 353 1747 \nQ 353 2572 751 3078 \nQ 1150 3584 1784 3584 \nQ 2172 3584 2448 3432 \nQ 2725 3281 2906 2969 \nz\nM 947 1747 \nQ 947 1113 1208 752 \nQ 1469 391 1925 391 \nQ 2381 391 2643 752 \nQ 2906 1113 2906 1747 \nQ 2906 2381 2643 2742 \nQ 2381 3103 1925 3103 \nQ 1469 3103 1208 2742 \nQ 947 2381 947 1747 \nz\n\" transform=\"scale(0.015625)\"/>\n      <path id=\"DejaVuSans-2b\" d=\"M 2944 4013 \nL 2944 2272 \nL 4684 2272 \nL 4684 1741 \nL 2944 1741 \nL 2944 0 \nL 2419 0 \nL 2419 1741 \nL 678 1741 \nL 678 2272 \nL 2419 2272 \nL 2419 4013 \nL 2944 4013 \nz\n\" transform=\"scale(0.015625)\"/>\n     </defs>\n     <use xlink:href=\"#DejaVuSans-56\"/>\n     <use xlink:href=\"#DejaVuSans-65\" x=\"60.658203\"/>\n     <use xlink:href=\"#DejaVuSans-63\" x=\"122.181641\"/>\n     <use xlink:href=\"#DejaVuSans-74\" x=\"177.162109\"/>\n     <use xlink:href=\"#DejaVuSans-6f\" x=\"216.371094\"/>\n     <use xlink:href=\"#DejaVuSans-72\" x=\"277.552734\"/>\n     <use xlink:href=\"#DejaVuSans-73\" x=\"318.666016\"/>\n     <use xlink:href=\"#DejaVuSans-20\" x=\"370.765625\"/>\n     <use xlink:href=\"#DejaVuSans-76\" x=\"402.552734\"/>\n     <use xlink:href=\"#DejaVuSans-2c\" x=\"461.732422\"/>\n     <use xlink:href=\"#DejaVuSans-20\" x=\"493.519531\"/>\n     <use xlink:href=\"#DejaVuSans-77\" x=\"525.306641\"/>\n     <use xlink:href=\"#DejaVuSans-2c\" x=\"607.09375\"/>\n     <use xlink:href=\"#DejaVuSans-20\" x=\"638.880859\"/>\n     <use xlink:href=\"#DejaVuSans-61\" x=\"670.667969\"/>\n     <use xlink:href=\"#DejaVuSans-6e\" x=\"731.947266\"/>\n     <use xlink:href=\"#DejaVuSans-64\" x=\"795.326172\"/>\n     <use xlink:href=\"#DejaVuSans-20\" x=\"858.802734\"/>\n     <use xlink:href=\"#DejaVuSans-76\" x=\"890.589844\"/>\n     <use xlink:href=\"#DejaVuSans-2b\" x=\"949.769531\"/>\n     <use xlink:href=\"#DejaVuSans-77\" x=\"1033.558594\"/>\n    </g>\n   </g>\n   <g id=\"legend_1\">\n    <g id=\"patch_10\">\n     <path d=\"M 214.883875 98.8135 \nL 291.151062 98.8135 \nQ 293.951062 98.8135 293.951062 96.0135 \nL 293.951062 35.765375 \nQ 293.951062 32.965375 291.151062 32.965375 \nL 214.883875 32.965375 \nQ 212.083875 32.965375 212.083875 35.765375 \nL 212.083875 96.0135 \nQ 212.083875 98.8135 214.883875 98.8135 \nz\n\" style=\"fill: #ffffff; opacity: 0.8; stroke: #cccccc; stroke-linejoin: miter\"/>\n    </g>\n    <g id=\"patch_11\">\n     <path d=\"M 217.683875 49.203187 \nL 245.683875 49.203187 \nL 245.683875 39.403187 \nL 217.683875 39.403187 \nz\n\" style=\"stroke: #000000; stroke-linejoin: miter\"/>\n    </g>\n    <g id=\"text_16\">\n     <!-- v -->\n     <g transform=\"translate(256.883875 49.203187) scale(0.14 -0.14)\">\n      <use xlink:href=\"#DejaVuSans-76\"/>\n     </g>\n    </g>\n    <g id=\"patch_12\">\n     <path d=\"M 217.683875 69.752562 \nL 245.683875 69.752562 \nL 245.683875 59.952562 \nL 217.683875 59.952562 \nz\n\" style=\"fill: #808080; stroke: #808080; stroke-linejoin: miter\"/>\n    </g>\n    <g id=\"text_17\">\n     <!-- w -->\n     <g transform=\"translate(256.883875 69.752562) scale(0.14 -0.14)\">\n      <use xlink:href=\"#DejaVuSans-77\"/>\n     </g>\n    </g>\n    <g id=\"patch_13\">\n     <path d=\"M 217.683875 90.301937 \nL 245.683875 90.301937 \nL 245.683875 80.501937 \nL 217.683875 80.501937 \nz\n\" style=\"fill: #cccccc; stroke: #cccccc; stroke-linejoin: miter\"/>\n    </g>\n    <g id=\"text_18\">\n     <!-- v+w -->\n     <g transform=\"translate(256.883875 90.301937) scale(0.14 -0.14)\">\n      <use xlink:href=\"#DejaVuSans-76\"/>\n      <use xlink:href=\"#DejaVuSans-2b\" x=\"59.179688\"/>\n      <use xlink:href=\"#DejaVuSans-77\" x=\"142.96875\"/>\n     </g>\n    </g>\n   </g>\n  </g>\n </g>\n <defs>\n  <clipPath id=\"pc40eb6073e\">\n   <rect x=\"34.839062\" y=\"25.965375\" width=\"266.112\" height=\"266.112\"/>\n  </clipPath>\n </defs>\n</svg>\n"
          },
          "metadata": {}
        }
      ],
      "source": [
        "# The vectors\n",
        "v = np.array([1,2])\n",
        "w = np.array([4,-6])\n",
        "vPlusW = v+w\n",
        "\n",
        "# now plot all three vectors\n",
        "a1 = plt.arrow(0,0,v[0],v[1],head_width=.3,width=.1,color='k',length_includes_head=True)\n",
        "a2 = plt.arrow(v[0],v[1],w[0],w[1],head_width=.3,width=.1,color=[.5,.5,.5],length_includes_head=True)\n",
        "a3 = plt.arrow(0,0,vPlusW[0],vPlusW[1],head_width=.3,width=.1,color=[.8,.8,.8],length_includes_head=True)\n",
        "\n",
        "# make the plot look a bit nicer\n",
        "plt.grid(linestyle='--',linewidth=.5)\n",
        "plt.axis('square')\n",
        "plt.axis([-6,6,-6,6])\n",
        "plt.legend([a1,a2,a3],['v','w','v+w'])\n",
        "plt.title('Vectors v, w, and v+w')\n",
        "plt.savefig('Figure_02_02a.png',dpi=300) # write out the fig to a file\n",
        "plt.show()"
      ]
    },
    {
      "cell_type": "code",
      "execution_count": 3,
      "metadata": {
        "id": "yR3ijb6brzhv",
        "outputId": "23f49b8c-e459-4e25-c541-1087fa0782af",
        "colab": {
          "base_uri": "https://localhost:8080/",
          "height": 447
        }
      },
      "outputs": [
        {
          "output_type": "display_data",
          "data": {
            "text/plain": [
              "<Figure size 640x480 with 1 Axes>"
            ],
            "image/svg+xml": "<?xml version=\"1.0\" encoding=\"utf-8\" standalone=\"no\"?>\n<!DOCTYPE svg PUBLIC \"-//W3C//DTD SVG 1.1//EN\"\n  \"http://www.w3.org/Graphics/SVG/1.1/DTD/svg11.dtd\">\n<svg xmlns:xlink=\"http://www.w3.org/1999/xlink\" width=\"312.604812pt\" height=\"319.82675pt\" viewBox=\"0 0 312.604812 319.82675\" xmlns=\"http://www.w3.org/2000/svg\" version=\"1.1\">\n <metadata>\n  <rdf:RDF xmlns:dc=\"http://purl.org/dc/elements/1.1/\" xmlns:cc=\"http://creativecommons.org/ns#\" xmlns:rdf=\"http://www.w3.org/1999/02/22-rdf-syntax-ns#\">\n   <cc:Work>\n    <dc:type rdf:resource=\"http://purl.org/dc/dcmitype/StillImage\"/>\n    <dc:date>2024-10-22T00:48:13.195606</dc:date>\n    <dc:format>image/svg+xml</dc:format>\n    <dc:creator>\n     <cc:Agent>\n      <dc:title>Matplotlib v3.7.1, https://matplotlib.org/</dc:title>\n     </cc:Agent>\n    </dc:creator>\n   </cc:Work>\n  </rdf:RDF>\n </metadata>\n <defs>\n  <style type=\"text/css\">*{stroke-linejoin: round; stroke-linecap: butt}</style>\n </defs>\n <g id=\"figure_1\">\n  <g id=\"patch_1\">\n   <path d=\"M 0 319.82675 \nL 312.604812 319.82675 \nL 312.604812 0 \nL 0 0 \nz\n\" style=\"fill: #ffffff\"/>\n  </g>\n  <g id=\"axes_1\">\n   <g id=\"patch_2\">\n    <path d=\"M 34.839062 292.077375 \nL 300.951062 292.077375 \nL 300.951062 25.965375 \nL 34.839062 25.965375 \nz\n\" style=\"fill: #ffffff\"/>\n   </g>\n   <g id=\"patch_3\">\n    <path d=\"M 190.071062 114.669375 \nL 188.583451 125.082654 \nL 186.599969 124.090913 \nL 168.886803 159.517245 \nL 166.903322 158.525505 \nL 184.616488 123.099172 \nL 182.633006 122.107432 \nz\n\" clip-path=\"url(#p4e46a3d5ac)\" style=\"stroke: #000000; stroke-linejoin: miter\"/>\n   </g>\n   <g id=\"patch_4\">\n    <path d=\"M 256.599062 292.077375 \nL 248.295866 285.619333 \nL 250.141021 284.38923 \nL 166.972485 159.636427 \nL 168.81764 158.406323 \nL 251.986176 283.159127 \nL 253.83133 281.929024 \nz\n\" clip-path=\"url(#p4e46a3d5ac)\" style=\"fill: #808080; stroke: #808080; stroke-linejoin: miter\"/>\n   </g>\n   <g id=\"patch_5\">\n    <path d=\"M 190.071062 114.669375 \nL 196.689599 122.845214 \nL 194.613195 123.623865 \nL 257.637264 291.688049 \nL 255.560861 292.466701 \nL 192.536792 124.402517 \nL 190.460388 125.181168 \nz\n\" clip-path=\"url(#p4e46a3d5ac)\" style=\"fill: #cccccc; stroke: #cccccc; stroke-linejoin: miter\"/>\n   </g>\n   <g id=\"matplotlib.axis_1\">\n    <g id=\"xtick_1\">\n     <g id=\"line2d_1\">\n      <path d=\"M 34.839063 292.077375 \nL 34.839063 25.965375 \n\" clip-path=\"url(#p4e46a3d5ac)\" style=\"fill: none; stroke-dasharray: 1.85,0.8; stroke-dashoffset: 0; stroke: #b0b0b0; stroke-width: 0.5\"/>\n     </g>\n     <g id=\"line2d_2\">\n      <defs>\n       <path id=\"mf7e7aae55e\" d=\"M 0 0 \nL 0 3.5 \n\" style=\"stroke: #000000; stroke-width: 0.8\"/>\n      </defs>\n      <g>\n       <use xlink:href=\"#mf7e7aae55e\" x=\"34.839063\" y=\"292.077375\" style=\"stroke: #000000; stroke-width: 0.8\"/>\n      </g>\n     </g>\n     <g id=\"text_1\">\n      <!-- −6 -->\n      <g transform=\"translate(24.519531 309.715187) scale(0.14 -0.14)\">\n       <defs>\n        <path id=\"DejaVuSans-2212\" d=\"M 678 2272 \nL 4684 2272 \nL 4684 1741 \nL 678 1741 \nL 678 2272 \nz\n\" transform=\"scale(0.015625)\"/>\n        <path id=\"DejaVuSans-36\" d=\"M 2113 2584 \nQ 1688 2584 1439 2293 \nQ 1191 2003 1191 1497 \nQ 1191 994 1439 701 \nQ 1688 409 2113 409 \nQ 2538 409 2786 701 \nQ 3034 994 3034 1497 \nQ 3034 2003 2786 2293 \nQ 2538 2584 2113 2584 \nz\nM 3366 4563 \nL 3366 3988 \nQ 3128 4100 2886 4159 \nQ 2644 4219 2406 4219 \nQ 1781 4219 1451 3797 \nQ 1122 3375 1075 2522 \nQ 1259 2794 1537 2939 \nQ 1816 3084 2150 3084 \nQ 2853 3084 3261 2657 \nQ 3669 2231 3669 1497 \nQ 3669 778 3244 343 \nQ 2819 -91 2113 -91 \nQ 1303 -91 875 529 \nQ 447 1150 447 2328 \nQ 447 3434 972 4092 \nQ 1497 4750 2381 4750 \nQ 2619 4750 2861 4703 \nQ 3103 4656 3366 4563 \nz\n\" transform=\"scale(0.015625)\"/>\n       </defs>\n       <use xlink:href=\"#DejaVuSans-2212\"/>\n       <use xlink:href=\"#DejaVuSans-36\" x=\"83.789062\"/>\n      </g>\n     </g>\n    </g>\n    <g id=\"xtick_2\">\n     <g id=\"line2d_3\">\n      <path d=\"M 79.191063 292.077375 \nL 79.191063 25.965375 \n\" clip-path=\"url(#p4e46a3d5ac)\" style=\"fill: none; stroke-dasharray: 1.85,0.8; stroke-dashoffset: 0; stroke: #b0b0b0; stroke-width: 0.5\"/>\n     </g>\n     <g id=\"line2d_4\">\n      <g>\n       <use xlink:href=\"#mf7e7aae55e\" x=\"79.191063\" y=\"292.077375\" style=\"stroke: #000000; stroke-width: 0.8\"/>\n      </g>\n     </g>\n     <g id=\"text_2\">\n      <!-- −4 -->\n      <g transform=\"translate(68.871531 309.715187) scale(0.14 -0.14)\">\n       <defs>\n        <path id=\"DejaVuSans-34\" d=\"M 2419 4116 \nL 825 1625 \nL 2419 1625 \nL 2419 4116 \nz\nM 2253 4666 \nL 3047 4666 \nL 3047 1625 \nL 3713 1625 \nL 3713 1100 \nL 3047 1100 \nL 3047 0 \nL 2419 0 \nL 2419 1100 \nL 313 1100 \nL 313 1709 \nL 2253 4666 \nz\n\" transform=\"scale(0.015625)\"/>\n       </defs>\n       <use xlink:href=\"#DejaVuSans-2212\"/>\n       <use xlink:href=\"#DejaVuSans-34\" x=\"83.789062\"/>\n      </g>\n     </g>\n    </g>\n    <g id=\"xtick_3\">\n     <g id=\"line2d_5\">\n      <path d=\"M 123.543063 292.077375 \nL 123.543063 25.965375 \n\" clip-path=\"url(#p4e46a3d5ac)\" style=\"fill: none; stroke-dasharray: 1.85,0.8; stroke-dashoffset: 0; stroke: #b0b0b0; stroke-width: 0.5\"/>\n     </g>\n     <g id=\"line2d_6\">\n      <g>\n       <use xlink:href=\"#mf7e7aae55e\" x=\"123.543063\" y=\"292.077375\" style=\"stroke: #000000; stroke-width: 0.8\"/>\n      </g>\n     </g>\n     <g id=\"text_3\">\n      <!-- −2 -->\n      <g transform=\"translate(113.223531 309.715187) scale(0.14 -0.14)\">\n       <defs>\n        <path id=\"DejaVuSans-32\" d=\"M 1228 531 \nL 3431 531 \nL 3431 0 \nL 469 0 \nL 469 531 \nQ 828 903 1448 1529 \nQ 2069 2156 2228 2338 \nQ 2531 2678 2651 2914 \nQ 2772 3150 2772 3378 \nQ 2772 3750 2511 3984 \nQ 2250 4219 1831 4219 \nQ 1534 4219 1204 4116 \nQ 875 4013 500 3803 \nL 500 4441 \nQ 881 4594 1212 4672 \nQ 1544 4750 1819 4750 \nQ 2544 4750 2975 4387 \nQ 3406 4025 3406 3419 \nQ 3406 3131 3298 2873 \nQ 3191 2616 2906 2266 \nQ 2828 2175 2409 1742 \nQ 1991 1309 1228 531 \nz\n\" transform=\"scale(0.015625)\"/>\n       </defs>\n       <use xlink:href=\"#DejaVuSans-2212\"/>\n       <use xlink:href=\"#DejaVuSans-32\" x=\"83.789062\"/>\n      </g>\n     </g>\n    </g>\n    <g id=\"xtick_4\">\n     <g id=\"line2d_7\">\n      <path d=\"M 167.895062 292.077375 \nL 167.895062 25.965375 \n\" clip-path=\"url(#p4e46a3d5ac)\" style=\"fill: none; stroke-dasharray: 1.85,0.8; stroke-dashoffset: 0; stroke: #b0b0b0; stroke-width: 0.5\"/>\n     </g>\n     <g id=\"line2d_8\">\n      <g>\n       <use xlink:href=\"#mf7e7aae55e\" x=\"167.895062\" y=\"292.077375\" style=\"stroke: #000000; stroke-width: 0.8\"/>\n      </g>\n     </g>\n     <g id=\"text_4\">\n      <!-- 0 -->\n      <g transform=\"translate(163.441312 309.715187) scale(0.14 -0.14)\">\n       <defs>\n        <path id=\"DejaVuSans-30\" d=\"M 2034 4250 \nQ 1547 4250 1301 3770 \nQ 1056 3291 1056 2328 \nQ 1056 1369 1301 889 \nQ 1547 409 2034 409 \nQ 2525 409 2770 889 \nQ 3016 1369 3016 2328 \nQ 3016 3291 2770 3770 \nQ 2525 4250 2034 4250 \nz\nM 2034 4750 \nQ 2819 4750 3233 4129 \nQ 3647 3509 3647 2328 \nQ 3647 1150 3233 529 \nQ 2819 -91 2034 -91 \nQ 1250 -91 836 529 \nQ 422 1150 422 2328 \nQ 422 3509 836 4129 \nQ 1250 4750 2034 4750 \nz\n\" transform=\"scale(0.015625)\"/>\n       </defs>\n       <use xlink:href=\"#DejaVuSans-30\"/>\n      </g>\n     </g>\n    </g>\n    <g id=\"xtick_5\">\n     <g id=\"line2d_9\">\n      <path d=\"M 212.247062 292.077375 \nL 212.247062 25.965375 \n\" clip-path=\"url(#p4e46a3d5ac)\" style=\"fill: none; stroke-dasharray: 1.85,0.8; stroke-dashoffset: 0; stroke: #b0b0b0; stroke-width: 0.5\"/>\n     </g>\n     <g id=\"line2d_10\">\n      <g>\n       <use xlink:href=\"#mf7e7aae55e\" x=\"212.247062\" y=\"292.077375\" style=\"stroke: #000000; stroke-width: 0.8\"/>\n      </g>\n     </g>\n     <g id=\"text_5\">\n      <!-- 2 -->\n      <g transform=\"translate(207.793312 309.715187) scale(0.14 -0.14)\">\n       <use xlink:href=\"#DejaVuSans-32\"/>\n      </g>\n     </g>\n    </g>\n    <g id=\"xtick_6\">\n     <g id=\"line2d_11\">\n      <path d=\"M 256.599062 292.077375 \nL 256.599062 25.965375 \n\" clip-path=\"url(#p4e46a3d5ac)\" style=\"fill: none; stroke-dasharray: 1.85,0.8; stroke-dashoffset: 0; stroke: #b0b0b0; stroke-width: 0.5\"/>\n     </g>\n     <g id=\"line2d_12\">\n      <g>\n       <use xlink:href=\"#mf7e7aae55e\" x=\"256.599062\" y=\"292.077375\" style=\"stroke: #000000; stroke-width: 0.8\"/>\n      </g>\n     </g>\n     <g id=\"text_6\">\n      <!-- 4 -->\n      <g transform=\"translate(252.145312 309.715187) scale(0.14 -0.14)\">\n       <use xlink:href=\"#DejaVuSans-34\"/>\n      </g>\n     </g>\n    </g>\n    <g id=\"xtick_7\">\n     <g id=\"line2d_13\">\n      <path d=\"M 300.951062 292.077375 \nL 300.951062 25.965375 \n\" clip-path=\"url(#p4e46a3d5ac)\" style=\"fill: none; stroke-dasharray: 1.85,0.8; stroke-dashoffset: 0; stroke: #b0b0b0; stroke-width: 0.5\"/>\n     </g>\n     <g id=\"line2d_14\">\n      <g>\n       <use xlink:href=\"#mf7e7aae55e\" x=\"300.951062\" y=\"292.077375\" style=\"stroke: #000000; stroke-width: 0.8\"/>\n      </g>\n     </g>\n     <g id=\"text_7\">\n      <!-- 6 -->\n      <g transform=\"translate(296.497312 309.715187) scale(0.14 -0.14)\">\n       <use xlink:href=\"#DejaVuSans-36\"/>\n      </g>\n     </g>\n    </g>\n   </g>\n   <g id=\"matplotlib.axis_2\">\n    <g id=\"ytick_1\">\n     <g id=\"line2d_15\">\n      <path d=\"M 34.839062 292.077375 \nL 300.951062 292.077375 \n\" clip-path=\"url(#p4e46a3d5ac)\" style=\"fill: none; stroke-dasharray: 1.85,0.8; stroke-dashoffset: 0; stroke: #b0b0b0; stroke-width: 0.5\"/>\n     </g>\n     <g id=\"line2d_16\">\n      <defs>\n       <path id=\"mee657fe58f\" d=\"M 0 0 \nL -3.5 0 \n\" style=\"stroke: #000000; stroke-width: 0.8\"/>\n      </defs>\n      <g>\n       <use xlink:href=\"#mee657fe58f\" x=\"34.839062\" y=\"292.077375\" style=\"stroke: #000000; stroke-width: 0.8\"/>\n      </g>\n     </g>\n     <g id=\"text_8\">\n      <!-- −6 -->\n      <g transform=\"translate(7.2 297.396281) scale(0.14 -0.14)\">\n       <use xlink:href=\"#DejaVuSans-2212\"/>\n       <use xlink:href=\"#DejaVuSans-36\" x=\"83.789062\"/>\n      </g>\n     </g>\n    </g>\n    <g id=\"ytick_2\">\n     <g id=\"line2d_17\">\n      <path d=\"M 34.839062 247.725375 \nL 300.951062 247.725375 \n\" clip-path=\"url(#p4e46a3d5ac)\" style=\"fill: none; stroke-dasharray: 1.85,0.8; stroke-dashoffset: 0; stroke: #b0b0b0; stroke-width: 0.5\"/>\n     </g>\n     <g id=\"line2d_18\">\n      <g>\n       <use xlink:href=\"#mee657fe58f\" x=\"34.839062\" y=\"247.725375\" style=\"stroke: #000000; stroke-width: 0.8\"/>\n      </g>\n     </g>\n     <g id=\"text_9\">\n      <!-- −4 -->\n      <g transform=\"translate(7.2 253.044281) scale(0.14 -0.14)\">\n       <use xlink:href=\"#DejaVuSans-2212\"/>\n       <use xlink:href=\"#DejaVuSans-34\" x=\"83.789062\"/>\n      </g>\n     </g>\n    </g>\n    <g id=\"ytick_3\">\n     <g id=\"line2d_19\">\n      <path d=\"M 34.839062 203.373375 \nL 300.951062 203.373375 \n\" clip-path=\"url(#p4e46a3d5ac)\" style=\"fill: none; stroke-dasharray: 1.85,0.8; stroke-dashoffset: 0; stroke: #b0b0b0; stroke-width: 0.5\"/>\n     </g>\n     <g id=\"line2d_20\">\n      <g>\n       <use xlink:href=\"#mee657fe58f\" x=\"34.839062\" y=\"203.373375\" style=\"stroke: #000000; stroke-width: 0.8\"/>\n      </g>\n     </g>\n     <g id=\"text_10\">\n      <!-- −2 -->\n      <g transform=\"translate(7.2 208.692281) scale(0.14 -0.14)\">\n       <use xlink:href=\"#DejaVuSans-2212\"/>\n       <use xlink:href=\"#DejaVuSans-32\" x=\"83.789062\"/>\n      </g>\n     </g>\n    </g>\n    <g id=\"ytick_4\">\n     <g id=\"line2d_21\">\n      <path d=\"M 34.839062 159.021375 \nL 300.951062 159.021375 \n\" clip-path=\"url(#p4e46a3d5ac)\" style=\"fill: none; stroke-dasharray: 1.85,0.8; stroke-dashoffset: 0; stroke: #b0b0b0; stroke-width: 0.5\"/>\n     </g>\n     <g id=\"line2d_22\">\n      <g>\n       <use xlink:href=\"#mee657fe58f\" x=\"34.839062\" y=\"159.021375\" style=\"stroke: #000000; stroke-width: 0.8\"/>\n      </g>\n     </g>\n     <g id=\"text_11\">\n      <!-- 0 -->\n      <g transform=\"translate(18.931562 164.340281) scale(0.14 -0.14)\">\n       <use xlink:href=\"#DejaVuSans-30\"/>\n      </g>\n     </g>\n    </g>\n    <g id=\"ytick_5\">\n     <g id=\"line2d_23\">\n      <path d=\"M 34.839062 114.669375 \nL 300.951062 114.669375 \n\" clip-path=\"url(#p4e46a3d5ac)\" style=\"fill: none; stroke-dasharray: 1.85,0.8; stroke-dashoffset: 0; stroke: #b0b0b0; stroke-width: 0.5\"/>\n     </g>\n     <g id=\"line2d_24\">\n      <g>\n       <use xlink:href=\"#mee657fe58f\" x=\"34.839062\" y=\"114.669375\" style=\"stroke: #000000; stroke-width: 0.8\"/>\n      </g>\n     </g>\n     <g id=\"text_12\">\n      <!-- 2 -->\n      <g transform=\"translate(18.931562 119.988281) scale(0.14 -0.14)\">\n       <use xlink:href=\"#DejaVuSans-32\"/>\n      </g>\n     </g>\n    </g>\n    <g id=\"ytick_6\">\n     <g id=\"line2d_25\">\n      <path d=\"M 34.839062 70.317375 \nL 300.951062 70.317375 \n\" clip-path=\"url(#p4e46a3d5ac)\" style=\"fill: none; stroke-dasharray: 1.85,0.8; stroke-dashoffset: 0; stroke: #b0b0b0; stroke-width: 0.5\"/>\n     </g>\n     <g id=\"line2d_26\">\n      <g>\n       <use xlink:href=\"#mee657fe58f\" x=\"34.839062\" y=\"70.317375\" style=\"stroke: #000000; stroke-width: 0.8\"/>\n      </g>\n     </g>\n     <g id=\"text_13\">\n      <!-- 4 -->\n      <g transform=\"translate(18.931562 75.636281) scale(0.14 -0.14)\">\n       <use xlink:href=\"#DejaVuSans-34\"/>\n      </g>\n     </g>\n    </g>\n    <g id=\"ytick_7\">\n     <g id=\"line2d_27\">\n      <path d=\"M 34.839062 25.965375 \nL 300.951062 25.965375 \n\" clip-path=\"url(#p4e46a3d5ac)\" style=\"fill: none; stroke-dasharray: 1.85,0.8; stroke-dashoffset: 0; stroke: #b0b0b0; stroke-width: 0.5\"/>\n     </g>\n     <g id=\"line2d_28\">\n      <g>\n       <use xlink:href=\"#mee657fe58f\" x=\"34.839062\" y=\"25.965375\" style=\"stroke: #000000; stroke-width: 0.8\"/>\n      </g>\n     </g>\n     <g id=\"text_14\">\n      <!-- 6 -->\n      <g transform=\"translate(18.931562 31.284281) scale(0.14 -0.14)\">\n       <use xlink:href=\"#DejaVuSans-36\"/>\n      </g>\n     </g>\n    </g>\n   </g>\n   <g id=\"patch_6\">\n    <path d=\"M 34.839062 292.077375 \nL 34.839062 25.965375 \n\" style=\"fill: none; stroke: #000000; stroke-width: 0.8; stroke-linejoin: miter; stroke-linecap: square\"/>\n   </g>\n   <g id=\"patch_7\">\n    <path d=\"M 300.951062 292.077375 \nL 300.951062 25.965375 \n\" style=\"fill: none; stroke: #000000; stroke-width: 0.8; stroke-linejoin: miter; stroke-linecap: square\"/>\n   </g>\n   <g id=\"patch_8\">\n    <path d=\"M 34.839063 292.077375 \nL 300.951062 292.077375 \n\" style=\"fill: none; stroke: #000000; stroke-width: 0.8; stroke-linejoin: miter; stroke-linecap: square\"/>\n   </g>\n   <g id=\"patch_9\">\n    <path d=\"M 34.839063 25.965375 \nL 300.951062 25.965375 \n\" style=\"fill: none; stroke: #000000; stroke-width: 0.8; stroke-linejoin: miter; stroke-linecap: square\"/>\n   </g>\n   <g id=\"text_15\">\n    <!-- Vectors v, w, and v-w -->\n    <g transform=\"translate(78.436375 19.965375) scale(0.168 -0.168)\">\n     <defs>\n      <path id=\"DejaVuSans-56\" d=\"M 1831 0 \nL 50 4666 \nL 709 4666 \nL 2188 738 \nL 3669 4666 \nL 4325 4666 \nL 2547 0 \nL 1831 0 \nz\n\" transform=\"scale(0.015625)\"/>\n      <path id=\"DejaVuSans-65\" d=\"M 3597 1894 \nL 3597 1613 \nL 953 1613 \nQ 991 1019 1311 708 \nQ 1631 397 2203 397 \nQ 2534 397 2845 478 \nQ 3156 559 3463 722 \nL 3463 178 \nQ 3153 47 2828 -22 \nQ 2503 -91 2169 -91 \nQ 1331 -91 842 396 \nQ 353 884 353 1716 \nQ 353 2575 817 3079 \nQ 1281 3584 2069 3584 \nQ 2775 3584 3186 3129 \nQ 3597 2675 3597 1894 \nz\nM 3022 2063 \nQ 3016 2534 2758 2815 \nQ 2500 3097 2075 3097 \nQ 1594 3097 1305 2825 \nQ 1016 2553 972 2059 \nL 3022 2063 \nz\n\" transform=\"scale(0.015625)\"/>\n      <path id=\"DejaVuSans-63\" d=\"M 3122 3366 \nL 3122 2828 \nQ 2878 2963 2633 3030 \nQ 2388 3097 2138 3097 \nQ 1578 3097 1268 2742 \nQ 959 2388 959 1747 \nQ 959 1106 1268 751 \nQ 1578 397 2138 397 \nQ 2388 397 2633 464 \nQ 2878 531 3122 666 \nL 3122 134 \nQ 2881 22 2623 -34 \nQ 2366 -91 2075 -91 \nQ 1284 -91 818 406 \nQ 353 903 353 1747 \nQ 353 2603 823 3093 \nQ 1294 3584 2113 3584 \nQ 2378 3584 2631 3529 \nQ 2884 3475 3122 3366 \nz\n\" transform=\"scale(0.015625)\"/>\n      <path id=\"DejaVuSans-74\" d=\"M 1172 4494 \nL 1172 3500 \nL 2356 3500 \nL 2356 3053 \nL 1172 3053 \nL 1172 1153 \nQ 1172 725 1289 603 \nQ 1406 481 1766 481 \nL 2356 481 \nL 2356 0 \nL 1766 0 \nQ 1100 0 847 248 \nQ 594 497 594 1153 \nL 594 3053 \nL 172 3053 \nL 172 3500 \nL 594 3500 \nL 594 4494 \nL 1172 4494 \nz\n\" transform=\"scale(0.015625)\"/>\n      <path id=\"DejaVuSans-6f\" d=\"M 1959 3097 \nQ 1497 3097 1228 2736 \nQ 959 2375 959 1747 \nQ 959 1119 1226 758 \nQ 1494 397 1959 397 \nQ 2419 397 2687 759 \nQ 2956 1122 2956 1747 \nQ 2956 2369 2687 2733 \nQ 2419 3097 1959 3097 \nz\nM 1959 3584 \nQ 2709 3584 3137 3096 \nQ 3566 2609 3566 1747 \nQ 3566 888 3137 398 \nQ 2709 -91 1959 -91 \nQ 1206 -91 779 398 \nQ 353 888 353 1747 \nQ 353 2609 779 3096 \nQ 1206 3584 1959 3584 \nz\n\" transform=\"scale(0.015625)\"/>\n      <path id=\"DejaVuSans-72\" d=\"M 2631 2963 \nQ 2534 3019 2420 3045 \nQ 2306 3072 2169 3072 \nQ 1681 3072 1420 2755 \nQ 1159 2438 1159 1844 \nL 1159 0 \nL 581 0 \nL 581 3500 \nL 1159 3500 \nL 1159 2956 \nQ 1341 3275 1631 3429 \nQ 1922 3584 2338 3584 \nQ 2397 3584 2469 3576 \nQ 2541 3569 2628 3553 \nL 2631 2963 \nz\n\" transform=\"scale(0.015625)\"/>\n      <path id=\"DejaVuSans-73\" d=\"M 2834 3397 \nL 2834 2853 \nQ 2591 2978 2328 3040 \nQ 2066 3103 1784 3103 \nQ 1356 3103 1142 2972 \nQ 928 2841 928 2578 \nQ 928 2378 1081 2264 \nQ 1234 2150 1697 2047 \nL 1894 2003 \nQ 2506 1872 2764 1633 \nQ 3022 1394 3022 966 \nQ 3022 478 2636 193 \nQ 2250 -91 1575 -91 \nQ 1294 -91 989 -36 \nQ 684 19 347 128 \nL 347 722 \nQ 666 556 975 473 \nQ 1284 391 1588 391 \nQ 1994 391 2212 530 \nQ 2431 669 2431 922 \nQ 2431 1156 2273 1281 \nQ 2116 1406 1581 1522 \nL 1381 1569 \nQ 847 1681 609 1914 \nQ 372 2147 372 2553 \nQ 372 3047 722 3315 \nQ 1072 3584 1716 3584 \nQ 2034 3584 2315 3537 \nQ 2597 3491 2834 3397 \nz\n\" transform=\"scale(0.015625)\"/>\n      <path id=\"DejaVuSans-20\" transform=\"scale(0.015625)\"/>\n      <path id=\"DejaVuSans-76\" d=\"M 191 3500 \nL 800 3500 \nL 1894 563 \nL 2988 3500 \nL 3597 3500 \nL 2284 0 \nL 1503 0 \nL 191 3500 \nz\n\" transform=\"scale(0.015625)\"/>\n      <path id=\"DejaVuSans-2c\" d=\"M 750 794 \nL 1409 794 \nL 1409 256 \nL 897 -744 \nL 494 -744 \nL 750 256 \nL 750 794 \nz\n\" transform=\"scale(0.015625)\"/>\n      <path id=\"DejaVuSans-77\" d=\"M 269 3500 \nL 844 3500 \nL 1563 769 \nL 2278 3500 \nL 2956 3500 \nL 3675 769 \nL 4391 3500 \nL 4966 3500 \nL 4050 0 \nL 3372 0 \nL 2619 2869 \nL 1863 0 \nL 1184 0 \nL 269 3500 \nz\n\" transform=\"scale(0.015625)\"/>\n      <path id=\"DejaVuSans-61\" d=\"M 2194 1759 \nQ 1497 1759 1228 1600 \nQ 959 1441 959 1056 \nQ 959 750 1161 570 \nQ 1363 391 1709 391 \nQ 2188 391 2477 730 \nQ 2766 1069 2766 1631 \nL 2766 1759 \nL 2194 1759 \nz\nM 3341 1997 \nL 3341 0 \nL 2766 0 \nL 2766 531 \nQ 2569 213 2275 61 \nQ 1981 -91 1556 -91 \nQ 1019 -91 701 211 \nQ 384 513 384 1019 \nQ 384 1609 779 1909 \nQ 1175 2209 1959 2209 \nL 2766 2209 \nL 2766 2266 \nQ 2766 2663 2505 2880 \nQ 2244 3097 1772 3097 \nQ 1472 3097 1187 3025 \nQ 903 2953 641 2809 \nL 641 3341 \nQ 956 3463 1253 3523 \nQ 1550 3584 1831 3584 \nQ 2591 3584 2966 3190 \nQ 3341 2797 3341 1997 \nz\n\" transform=\"scale(0.015625)\"/>\n      <path id=\"DejaVuSans-6e\" d=\"M 3513 2113 \nL 3513 0 \nL 2938 0 \nL 2938 2094 \nQ 2938 2591 2744 2837 \nQ 2550 3084 2163 3084 \nQ 1697 3084 1428 2787 \nQ 1159 2491 1159 1978 \nL 1159 0 \nL 581 0 \nL 581 3500 \nL 1159 3500 \nL 1159 2956 \nQ 1366 3272 1645 3428 \nQ 1925 3584 2291 3584 \nQ 2894 3584 3203 3211 \nQ 3513 2838 3513 2113 \nz\n\" transform=\"scale(0.015625)\"/>\n      <path id=\"DejaVuSans-64\" d=\"M 2906 2969 \nL 2906 4863 \nL 3481 4863 \nL 3481 0 \nL 2906 0 \nL 2906 525 \nQ 2725 213 2448 61 \nQ 2172 -91 1784 -91 \nQ 1150 -91 751 415 \nQ 353 922 353 1747 \nQ 353 2572 751 3078 \nQ 1150 3584 1784 3584 \nQ 2172 3584 2448 3432 \nQ 2725 3281 2906 2969 \nz\nM 947 1747 \nQ 947 1113 1208 752 \nQ 1469 391 1925 391 \nQ 2381 391 2643 752 \nQ 2906 1113 2906 1747 \nQ 2906 2381 2643 2742 \nQ 2381 3103 1925 3103 \nQ 1469 3103 1208 2742 \nQ 947 2381 947 1747 \nz\n\" transform=\"scale(0.015625)\"/>\n      <path id=\"DejaVuSans-2d\" d=\"M 313 2009 \nL 1997 2009 \nL 1997 1497 \nL 313 1497 \nL 313 2009 \nz\n\" transform=\"scale(0.015625)\"/>\n     </defs>\n     <use xlink:href=\"#DejaVuSans-56\"/>\n     <use xlink:href=\"#DejaVuSans-65\" x=\"60.658203\"/>\n     <use xlink:href=\"#DejaVuSans-63\" x=\"122.181641\"/>\n     <use xlink:href=\"#DejaVuSans-74\" x=\"177.162109\"/>\n     <use xlink:href=\"#DejaVuSans-6f\" x=\"216.371094\"/>\n     <use xlink:href=\"#DejaVuSans-72\" x=\"277.552734\"/>\n     <use xlink:href=\"#DejaVuSans-73\" x=\"318.666016\"/>\n     <use xlink:href=\"#DejaVuSans-20\" x=\"370.765625\"/>\n     <use xlink:href=\"#DejaVuSans-76\" x=\"402.552734\"/>\n     <use xlink:href=\"#DejaVuSans-2c\" x=\"461.732422\"/>\n     <use xlink:href=\"#DejaVuSans-20\" x=\"493.519531\"/>\n     <use xlink:href=\"#DejaVuSans-77\" x=\"525.306641\"/>\n     <use xlink:href=\"#DejaVuSans-2c\" x=\"607.09375\"/>\n     <use xlink:href=\"#DejaVuSans-20\" x=\"638.880859\"/>\n     <use xlink:href=\"#DejaVuSans-61\" x=\"670.667969\"/>\n     <use xlink:href=\"#DejaVuSans-6e\" x=\"731.947266\"/>\n     <use xlink:href=\"#DejaVuSans-64\" x=\"795.326172\"/>\n     <use xlink:href=\"#DejaVuSans-20\" x=\"858.802734\"/>\n     <use xlink:href=\"#DejaVuSans-76\" x=\"890.589844\"/>\n     <use xlink:href=\"#DejaVuSans-2d\" x=\"947.144531\"/>\n     <use xlink:href=\"#DejaVuSans-77\" x=\"983.228516\"/>\n    </g>\n   </g>\n   <g id=\"legend_1\">\n    <g id=\"patch_10\">\n     <path d=\"M 221.932 98.8135 \nL 291.151062 98.8135 \nQ 293.951062 98.8135 293.951062 96.0135 \nL 293.951062 35.765375 \nQ 293.951062 32.965375 291.151062 32.965375 \nL 221.932 32.965375 \nQ 219.132 32.965375 219.132 35.765375 \nL 219.132 96.0135 \nQ 219.132 98.8135 221.932 98.8135 \nz\n\" style=\"fill: #ffffff; opacity: 0.8; stroke: #cccccc; stroke-linejoin: miter\"/>\n    </g>\n    <g id=\"patch_11\">\n     <path d=\"M 224.732 49.203187 \nL 252.732 49.203187 \nL 252.732 39.403187 \nL 224.732 39.403187 \nz\n\" style=\"stroke: #000000; stroke-linejoin: miter\"/>\n    </g>\n    <g id=\"text_16\">\n     <!-- v -->\n     <g transform=\"translate(263.932 49.203187) scale(0.14 -0.14)\">\n      <use xlink:href=\"#DejaVuSans-76\"/>\n     </g>\n    </g>\n    <g id=\"patch_12\">\n     <path d=\"M 224.732 69.752562 \nL 252.732 69.752562 \nL 252.732 59.952562 \nL 224.732 59.952562 \nz\n\" style=\"fill: #808080; stroke: #808080; stroke-linejoin: miter\"/>\n    </g>\n    <g id=\"text_17\">\n     <!-- w -->\n     <g transform=\"translate(263.932 69.752562) scale(0.14 -0.14)\">\n      <use xlink:href=\"#DejaVuSans-77\"/>\n     </g>\n    </g>\n    <g id=\"patch_13\">\n     <path d=\"M 224.732 90.301937 \nL 252.732 90.301937 \nL 252.732 80.501937 \nL 224.732 80.501937 \nz\n\" style=\"fill: #cccccc; stroke: #cccccc; stroke-linejoin: miter\"/>\n    </g>\n    <g id=\"text_18\">\n     <!-- v-w -->\n     <g transform=\"translate(263.932 90.301937) scale(0.14 -0.14)\">\n      <use xlink:href=\"#DejaVuSans-76\"/>\n      <use xlink:href=\"#DejaVuSans-2d\" x=\"56.554688\"/>\n      <use xlink:href=\"#DejaVuSans-77\" x=\"92.638672\"/>\n     </g>\n    </g>\n   </g>\n  </g>\n </g>\n <defs>\n  <clipPath id=\"p4e46a3d5ac\">\n   <rect x=\"34.839062\" y=\"25.965375\" width=\"266.112\" height=\"266.112\"/>\n  </clipPath>\n </defs>\n</svg>\n"
          },
          "metadata": {}
        }
      ],
      "source": [
        "# The vector\n",
        "vMinusW = v-w\n",
        "\n",
        "# now plot all three vectors\n",
        "a1 = plt.arrow(0,0,v[0],v[1],head_width=.3,width=.1,color='k',length_includes_head=True)\n",
        "a2 = plt.arrow(0,0,w[0],w[1],head_width=.3,width=.1,color=[.5,.5,.5],length_includes_head=True)\n",
        "a3 = plt.arrow(w[0],w[1],vMinusW[0],vMinusW[1],head_width=.3,width=.1,color=[.8,.8,.8],length_includes_head=True)\n",
        "\n",
        "# make the plot look a bit nicer\n",
        "plt.grid(linestyle='--',linewidth=.5)\n",
        "plt.axis('square')\n",
        "plt.axis([-6,6,-6,6])\n",
        "plt.legend([a1,a2,a3],['v','w','v-w'])\n",
        "plt.title('Vectors v, w, and v-w')\n",
        "plt.savefig('Figure_02_02a.png',dpi=300) # write out the fig to a file\n",
        "plt.show()"
      ]
    },
    {
      "cell_type": "markdown",
      "metadata": {
        "id": "YUiDoDN1rzhv"
      },
      "source": [
        "#### Exercise 2-2"
      ]
    },
    {
      "cell_type": "code",
      "execution_count": null,
      "metadata": {
        "id": "z2GLMuworzhv",
        "outputId": "5a5c9222-8767-49f4-8916-6e222adcd16c"
      },
      "outputs": [
        {
          "name": "stdout",
          "output_type": "stream",
          "text": [
            "107.70793842609746\n",
            "107.70793842609746\n",
            "59.60704656330491\n",
            "59.60704656330491\n",
            "161.33195591698504\n",
            "161.33195591698504\n",
            "71.79136438319027\n",
            "71.79136438319027\n"
          ]
        }
      ],
      "source": [
        "# the function\n",
        "def norm(v):\n",
        "    return np.sqrt(np.sum(v**2))\n",
        "\n",
        "# confirm\n",
        "a = np.array([6, 54, 93])\n",
        "b = np.array([41, 36, 24])\n",
        "c = np.array([17, 99, 73, 103])\n",
        "d = np.array([[7],[49], [52]])\n",
        "\n",
        "print(norm(a))\n",
        "print(np.linalg.norm(a))\n",
        "\n",
        "print(norm(b))\n",
        "print(np.linalg.norm(b))\n",
        "\n",
        "print(norm(c))\n",
        "print(np.linalg.norm(c))\n",
        "\n",
        "print(norm(d))\n",
        "print(np.linalg.norm(d))\n",
        "\n"
      ]
    },
    {
      "cell_type": "markdown",
      "metadata": {
        "id": "i7iDdCcgrzhv"
      },
      "source": [
        "#### Exercise 2-3"
      ]
    },
    {
      "cell_type": "code",
      "execution_count": null,
      "metadata": {
        "id": "Nk3k4KAjrzhv",
        "outputId": "4886152a-c95d-48a9-d184-c7ab363f9192"
      },
      "outputs": [
        {
          "name": "stdout",
          "output_type": "stream",
          "text": [
            "[0.0557062  0.5013558  0.86344611]\n",
            "[0.68783814 0.60395544 0.40263696]\n",
            "[0.1053728 0.6136416 0.4524832 0.6384352]\n",
            "[[0.09750476]\n",
            " [0.68253334]\n",
            " [0.7243211 ]]\n",
            "[nan nan nan]\n"
          ]
        },
        {
          "name": "stderr",
          "output_type": "stream",
          "text": [
            "/var/folders/2d/r_wmk31n6458mxhbcjjsgbpw0000gn/T/ipykernel_33697/1504181385.py:7: RuntimeWarning: invalid value encountered in divide\n",
            "  return v / vectorNorm\n"
          ]
        }
      ],
      "source": [
        "def unitVector(v):\n",
        "\n",
        "    # calculates vector norm\n",
        "    vectorNorm = np.linalg.norm(v)\n",
        "\n",
        "    # create unit vector\n",
        "    return v / vectorNorm\n",
        "\n",
        "print(unitVector(a))\n",
        "print(unitVector(b))\n",
        "print(unitVector(c))\n",
        "print(unitVector(d))\n",
        "\n",
        "e = np.array([0, 0, 0])\n",
        "\n",
        "print(unitVector(e))"
      ]
    },
    {
      "cell_type": "markdown",
      "metadata": {
        "id": "oEogPV35rzhv"
      },
      "source": [
        "#### Exercise 2-4"
      ]
    },
    {
      "cell_type": "code",
      "execution_count": null,
      "metadata": {
        "id": "gQQttSaCrzhw",
        "outputId": "7f2ad5ec-1a77-4d02-d5e9-fd60015bc11b"
      },
      "outputs": [
        {
          "name": "stdout",
          "output_type": "stream",
          "text": [
            "[0.5013558  4.51220223 7.77101495]\n",
            "[5.50270511 4.83164352 3.22109568]\n",
            "[0.7376096  4.29549122 3.16738241 4.46904642]\n",
            "[[0.58502858]\n",
            " [4.09520006]\n",
            " [4.3459266 ]]\n"
          ]
        }
      ],
      "source": [
        "def arbitraryMagnitude(v,m):\n",
        "\n",
        "    # calculate vector norm:\n",
        "    newVectorNorm = np.linalg.norm(v)\n",
        "\n",
        "    # create unit vector:\n",
        "    newUnitVector = v / newVectorNorm\n",
        "\n",
        "    # multiply unit vector and magnitude\n",
        "    return m * newUnitVector\n",
        "\n",
        "print(arbitraryMagnitude(a,9))\n",
        "print(arbitraryMagnitude(b,8))\n",
        "print(arbitraryMagnitude(c,7))\n",
        "print(arbitraryMagnitude(d,6))"
      ]
    },
    {
      "cell_type": "markdown",
      "metadata": {
        "id": "73i9bqNarzhw"
      },
      "source": [
        "#### Exercise 2-5"
      ]
    },
    {
      "cell_type": "code",
      "execution_count": null,
      "metadata": {
        "id": "TZc4um7Krzhw",
        "outputId": "f597fb04-e38c-44b4-a421-767c02a54e40"
      },
      "outputs": [
        {
          "name": "stdout",
          "output_type": "stream",
          "text": [
            "[[1. 2. 3.]]\n",
            " \n",
            "[[1.]\n",
            " [2.]\n",
            " [3.]]\n"
          ]
        }
      ],
      "source": [
        "# the row vector to transpose\n",
        "v = np.array([[1,2,3.]])\n",
        "\n",
        "# initialize the column vector\n",
        "vt = np.zeros((3,1))\n",
        "\n",
        "# direct implementation of the formula using a for loop\n",
        "for i in range(v.shape[1]):\n",
        "  vt[i,0] = v[0,i]\n",
        "\n",
        "# confirm!\n",
        "print(v), print(' ')\n",
        "print(vt)\n"
      ]
    },
    {
      "cell_type": "markdown",
      "source": [
        "#### Exercise 2-6"
      ],
      "metadata": {
        "id": "m32Srie2snRn"
      }
    },
    {
      "cell_type": "code",
      "execution_count": 4,
      "metadata": {
        "id": "ZC3KQZmZrzhw",
        "outputId": "8c3ca3f8-7f39-4f9a-86e1-2f20e2367444",
        "colab": {
          "base_uri": "https://localhost:8080/"
        }
      },
      "outputs": [
        {
          "output_type": "stream",
          "name": "stdout",
          "text": [
            "5\n",
            "5\n"
          ]
        }
      ],
      "source": [
        "squarednorm = np.sum(v**2)\n",
        "\n",
        "print(squarednorm)\n",
        "\n",
        "squarednorm2 = np.dot(v,v)\n",
        "\n",
        "print(squarednorm2)"
      ]
    },
    {
      "cell_type": "markdown",
      "source": [
        "#### Exercise 2-7"
      ],
      "metadata": {
        "id": "blBAHpJNtsJo"
      }
    },
    {
      "cell_type": "code",
      "source": [
        "a = np.array([1,2,3])\n",
        "b = np.array([4,5,6])\n",
        "\n",
        "print(np.dot(a,b))\n",
        "print(np.dot(b,a))\n",
        "\n",
        "print(np.sum(np.multiply(a,b)))\n",
        "print(np.sum(np.multiply(b,a)))"
      ],
      "metadata": {
        "id": "YgBB7-XQtr2e",
        "outputId": "f02878ce-4de0-419a-e2f7-7ab48aafcd2c",
        "colab": {
          "base_uri": "https://localhost:8080/"
        }
      },
      "execution_count": 9,
      "outputs": [
        {
          "output_type": "stream",
          "name": "stdout",
          "text": [
            "32\n",
            "32\n",
            "32\n",
            "32\n"
          ]
        }
      ]
    },
    {
      "cell_type": "markdown",
      "source": [
        "#### Exercise 2-8"
      ],
      "metadata": {
        "id": "TJ3BBztMvKeU"
      }
    },
    {
      "cell_type": "code",
      "source": [
        "a = np.array([3,4])\n",
        "b = np.array([3,1])\n",
        "beta = np.dot(a,b) / np.dot(a,a)\n",
        "\n",
        "print(beta)\n",
        "bproj = beta * a\n",
        "\n",
        "print(bproj)\n",
        "\n",
        "plt.arrow(0,0,a[0],a[1], color='red')\n",
        "plt.arrow(0,0,b[0],b[1])\n",
        "plt.arrow(b[0],b[1],beta[0],beta[1], color='red')\n",
        "plt.axis('square')\n",
        "plt.axis([-5,5,-5,5])\n",
        "plt.grid()\n",
        "plt.legend(['a','b'])"
      ],
      "metadata": {
        "id": "nExNF5OvtiDJ",
        "outputId": "52ba036d-9fab-42b0-9f84-e28cb394382d",
        "colab": {
          "base_uri": "https://localhost:8080/",
          "height": 646
        }
      },
      "execution_count": 23,
      "outputs": [
        {
          "output_type": "stream",
          "name": "stdout",
          "text": [
            "0.52\n",
            "[1.56 2.08]\n"
          ]
        },
        {
          "output_type": "error",
          "ename": "IndexError",
          "evalue": "invalid index to scalar variable.",
          "traceback": [
            "\u001b[0;31m---------------------------------------------------------------------------\u001b[0m",
            "\u001b[0;31mIndexError\u001b[0m                                Traceback (most recent call last)",
            "\u001b[0;32m<ipython-input-23-5dca3194e253>\u001b[0m in \u001b[0;36m<cell line: 12>\u001b[0;34m()\u001b[0m\n\u001b[1;32m     10\u001b[0m \u001b[0mplt\u001b[0m\u001b[0;34m.\u001b[0m\u001b[0marrow\u001b[0m\u001b[0;34m(\u001b[0m\u001b[0;36m0\u001b[0m\u001b[0;34m,\u001b[0m\u001b[0;36m0\u001b[0m\u001b[0;34m,\u001b[0m\u001b[0ma\u001b[0m\u001b[0;34m[\u001b[0m\u001b[0;36m0\u001b[0m\u001b[0;34m]\u001b[0m\u001b[0;34m,\u001b[0m\u001b[0ma\u001b[0m\u001b[0;34m[\u001b[0m\u001b[0;36m1\u001b[0m\u001b[0;34m]\u001b[0m\u001b[0;34m,\u001b[0m \u001b[0mcolor\u001b[0m\u001b[0;34m=\u001b[0m\u001b[0;34m'red'\u001b[0m\u001b[0;34m)\u001b[0m\u001b[0;34m\u001b[0m\u001b[0;34m\u001b[0m\u001b[0m\n\u001b[1;32m     11\u001b[0m \u001b[0mplt\u001b[0m\u001b[0;34m.\u001b[0m\u001b[0marrow\u001b[0m\u001b[0;34m(\u001b[0m\u001b[0;36m0\u001b[0m\u001b[0;34m,\u001b[0m\u001b[0;36m0\u001b[0m\u001b[0;34m,\u001b[0m\u001b[0mb\u001b[0m\u001b[0;34m[\u001b[0m\u001b[0;36m0\u001b[0m\u001b[0;34m]\u001b[0m\u001b[0;34m,\u001b[0m\u001b[0mb\u001b[0m\u001b[0;34m[\u001b[0m\u001b[0;36m1\u001b[0m\u001b[0;34m]\u001b[0m\u001b[0;34m)\u001b[0m\u001b[0;34m\u001b[0m\u001b[0;34m\u001b[0m\u001b[0m\n\u001b[0;32m---> 12\u001b[0;31m \u001b[0mplt\u001b[0m\u001b[0;34m.\u001b[0m\u001b[0marrow\u001b[0m\u001b[0;34m(\u001b[0m\u001b[0mb\u001b[0m\u001b[0;34m[\u001b[0m\u001b[0;36m0\u001b[0m\u001b[0;34m]\u001b[0m\u001b[0;34m,\u001b[0m\u001b[0mb\u001b[0m\u001b[0;34m[\u001b[0m\u001b[0;36m1\u001b[0m\u001b[0;34m]\u001b[0m\u001b[0;34m,\u001b[0m\u001b[0mbeta\u001b[0m\u001b[0;34m[\u001b[0m\u001b[0;36m0\u001b[0m\u001b[0;34m]\u001b[0m\u001b[0;34m,\u001b[0m\u001b[0mbeta\u001b[0m\u001b[0;34m[\u001b[0m\u001b[0;36m1\u001b[0m\u001b[0;34m]\u001b[0m\u001b[0;34m,\u001b[0m \u001b[0mcolor\u001b[0m\u001b[0;34m=\u001b[0m\u001b[0;34m'red'\u001b[0m\u001b[0;34m)\u001b[0m\u001b[0;34m\u001b[0m\u001b[0;34m\u001b[0m\u001b[0m\n\u001b[0m\u001b[1;32m     13\u001b[0m \u001b[0mplt\u001b[0m\u001b[0;34m.\u001b[0m\u001b[0maxis\u001b[0m\u001b[0;34m(\u001b[0m\u001b[0;34m'square'\u001b[0m\u001b[0;34m)\u001b[0m\u001b[0;34m\u001b[0m\u001b[0;34m\u001b[0m\u001b[0m\n\u001b[1;32m     14\u001b[0m \u001b[0mplt\u001b[0m\u001b[0;34m.\u001b[0m\u001b[0maxis\u001b[0m\u001b[0;34m(\u001b[0m\u001b[0;34m[\u001b[0m\u001b[0;34m-\u001b[0m\u001b[0;36m5\u001b[0m\u001b[0;34m,\u001b[0m\u001b[0;36m5\u001b[0m\u001b[0;34m,\u001b[0m\u001b[0;34m-\u001b[0m\u001b[0;36m5\u001b[0m\u001b[0;34m,\u001b[0m\u001b[0;36m5\u001b[0m\u001b[0;34m]\u001b[0m\u001b[0;34m)\u001b[0m\u001b[0;34m\u001b[0m\u001b[0;34m\u001b[0m\u001b[0m\n",
            "\u001b[0;31mIndexError\u001b[0m: invalid index to scalar variable."
          ]
        },
        {
          "output_type": "display_data",
          "data": {
            "text/plain": [
              "<Figure size 640x480 with 1 Axes>"
            ],
            "image/svg+xml": "<?xml version=\"1.0\" encoding=\"utf-8\" standalone=\"no\"?>\n<!DOCTYPE svg PUBLIC \"-//W3C//DTD SVG 1.1//EN\"\n  \"http://www.w3.org/Graphics/SVG/1.1/DTD/svg11.dtd\">\n<svg xmlns:xlink=\"http://www.w3.org/1999/xlink\" width=\"400.784375pt\" height=\"301.061375pt\" viewBox=\"0 0 400.784375 301.061375\" xmlns=\"http://www.w3.org/2000/svg\" version=\"1.1\">\n <metadata>\n  <rdf:RDF xmlns:dc=\"http://purl.org/dc/elements/1.1/\" xmlns:cc=\"http://creativecommons.org/ns#\" xmlns:rdf=\"http://www.w3.org/1999/02/22-rdf-syntax-ns#\">\n   <cc:Work>\n    <dc:type rdf:resource=\"http://purl.org/dc/dcmitype/StillImage\"/>\n    <dc:date>2024-10-22T01:16:54.503401</dc:date>\n    <dc:format>image/svg+xml</dc:format>\n    <dc:creator>\n     <cc:Agent>\n      <dc:title>Matplotlib v3.7.1, https://matplotlib.org/</dc:title>\n     </cc:Agent>\n    </dc:creator>\n   </cc:Work>\n  </rdf:RDF>\n </metadata>\n <defs>\n  <style type=\"text/css\">*{stroke-linejoin: round; stroke-linecap: butt}</style>\n </defs>\n <g id=\"figure_1\">\n  <g id=\"patch_1\">\n   <path d=\"M 0 301.061375 \nL 400.784375 301.061375 \nL 400.784375 0 \nL 0 0 \nz\n\" style=\"fill: #ffffff\"/>\n  </g>\n  <g id=\"axes_1\">\n   <g id=\"patch_2\">\n    <path d=\"M 36.464375 273.312 \nL 393.584375 273.312 \nL 393.584375 7.2 \nL 36.464375 7.2 \nz\n\" style=\"fill: #ffffff\"/>\n   </g>\n   <g id=\"patch_3\">\n    <path d=\"M 377.182109 19.296 \nL 377.020034 19.567883 \nL 376.933594 19.531632 \nL 52.783542 261.205467 \nL 52.697102 261.169215 \nL 376.847154 19.495381 \nL 376.760714 19.45913 \nz\n\" clip-path=\"url(#p6941154a1f)\" style=\"fill: #ff0000; stroke: #ff0000; stroke-linejoin: miter\"/>\n   </g>\n   <g id=\"patch_4\">\n    <path d=\"M 377.351648 200.682905 \nL 376.941627 200.854859 \nL 376.907458 200.797541 \nL 52.757406 261.216 \nL 52.723238 261.158682 \nL 376.87329 200.740223 \nL 376.839121 200.682905 \nz\n\" clip-path=\"url(#p6941154a1f)\" style=\"fill: #1f77b4; stroke: #000000; stroke-linejoin: miter\"/>\n   </g>\n   <g id=\"matplotlib.axis_1\">\n    <g id=\"xtick_1\">\n     <g id=\"line2d_1\">\n      <defs>\n       <path id=\"m27a9146f54\" d=\"M 0 0 \nL 0 3.5 \n\" style=\"stroke: #000000; stroke-width: 0.8\"/>\n      </defs>\n      <g>\n       <use xlink:href=\"#m27a9146f54\" x=\"52.740322\" y=\"273.312\" style=\"stroke: #000000; stroke-width: 0.8\"/>\n      </g>\n     </g>\n     <g id=\"text_1\">\n      <!-- 0.0 -->\n      <g transform=\"translate(41.608135 290.949812) scale(0.14 -0.14)\">\n       <defs>\n        <path id=\"DejaVuSans-30\" d=\"M 2034 4250 \nQ 1547 4250 1301 3770 \nQ 1056 3291 1056 2328 \nQ 1056 1369 1301 889 \nQ 1547 409 2034 409 \nQ 2525 409 2770 889 \nQ 3016 1369 3016 2328 \nQ 3016 3291 2770 3770 \nQ 2525 4250 2034 4250 \nz\nM 2034 4750 \nQ 2819 4750 3233 4129 \nQ 3647 3509 3647 2328 \nQ 3647 1150 3233 529 \nQ 2819 -91 2034 -91 \nQ 1250 -91 836 529 \nQ 422 1150 422 2328 \nQ 422 3509 836 4129 \nQ 1250 4750 2034 4750 \nz\n\" transform=\"scale(0.015625)\"/>\n        <path id=\"DejaVuSans-2e\" d=\"M 684 794 \nL 1344 794 \nL 1344 0 \nL 684 0 \nL 684 794 \nz\n\" transform=\"scale(0.015625)\"/>\n       </defs>\n       <use xlink:href=\"#DejaVuSans-30\"/>\n       <use xlink:href=\"#DejaVuSans-2e\" x=\"63.623047\"/>\n       <use xlink:href=\"#DejaVuSans-30\" x=\"95.410156\"/>\n      </g>\n     </g>\n    </g>\n    <g id=\"xtick_2\">\n     <g id=\"line2d_2\">\n      <g>\n       <use xlink:href=\"#m27a9146f54\" x=\"106.765331\" y=\"273.312\" style=\"stroke: #000000; stroke-width: 0.8\"/>\n      </g>\n     </g>\n     <g id=\"text_2\">\n      <!-- 0.5 -->\n      <g transform=\"translate(95.633143 290.949812) scale(0.14 -0.14)\">\n       <defs>\n        <path id=\"DejaVuSans-35\" d=\"M 691 4666 \nL 3169 4666 \nL 3169 4134 \nL 1269 4134 \nL 1269 2991 \nQ 1406 3038 1543 3061 \nQ 1681 3084 1819 3084 \nQ 2600 3084 3056 2656 \nQ 3513 2228 3513 1497 \nQ 3513 744 3044 326 \nQ 2575 -91 1722 -91 \nQ 1428 -91 1123 -41 \nQ 819 9 494 109 \nL 494 744 \nQ 775 591 1075 516 \nQ 1375 441 1709 441 \nQ 2250 441 2565 725 \nQ 2881 1009 2881 1497 \nQ 2881 1984 2565 2268 \nQ 2250 2553 1709 2553 \nQ 1456 2553 1204 2497 \nQ 953 2441 691 2322 \nL 691 4666 \nz\n\" transform=\"scale(0.015625)\"/>\n       </defs>\n       <use xlink:href=\"#DejaVuSans-30\"/>\n       <use xlink:href=\"#DejaVuSans-2e\" x=\"63.623047\"/>\n       <use xlink:href=\"#DejaVuSans-35\" x=\"95.410156\"/>\n      </g>\n     </g>\n    </g>\n    <g id=\"xtick_3\">\n     <g id=\"line2d_3\">\n      <g>\n       <use xlink:href=\"#m27a9146f54\" x=\"160.79034\" y=\"273.312\" style=\"stroke: #000000; stroke-width: 0.8\"/>\n      </g>\n     </g>\n     <g id=\"text_3\">\n      <!-- 1.0 -->\n      <g transform=\"translate(149.658152 290.949812) scale(0.14 -0.14)\">\n       <defs>\n        <path id=\"DejaVuSans-31\" d=\"M 794 531 \nL 1825 531 \nL 1825 4091 \nL 703 3866 \nL 703 4441 \nL 1819 4666 \nL 2450 4666 \nL 2450 531 \nL 3481 531 \nL 3481 0 \nL 794 0 \nL 794 531 \nz\n\" transform=\"scale(0.015625)\"/>\n       </defs>\n       <use xlink:href=\"#DejaVuSans-31\"/>\n       <use xlink:href=\"#DejaVuSans-2e\" x=\"63.623047\"/>\n       <use xlink:href=\"#DejaVuSans-30\" x=\"95.410156\"/>\n      </g>\n     </g>\n    </g>\n    <g id=\"xtick_4\">\n     <g id=\"line2d_4\">\n      <g>\n       <use xlink:href=\"#m27a9146f54\" x=\"214.815348\" y=\"273.312\" style=\"stroke: #000000; stroke-width: 0.8\"/>\n      </g>\n     </g>\n     <g id=\"text_4\">\n      <!-- 1.5 -->\n      <g transform=\"translate(203.683161 290.949812) scale(0.14 -0.14)\">\n       <use xlink:href=\"#DejaVuSans-31\"/>\n       <use xlink:href=\"#DejaVuSans-2e\" x=\"63.623047\"/>\n       <use xlink:href=\"#DejaVuSans-35\" x=\"95.410156\"/>\n      </g>\n     </g>\n    </g>\n    <g id=\"xtick_5\">\n     <g id=\"line2d_5\">\n      <g>\n       <use xlink:href=\"#m27a9146f54\" x=\"268.840357\" y=\"273.312\" style=\"stroke: #000000; stroke-width: 0.8\"/>\n      </g>\n     </g>\n     <g id=\"text_5\">\n      <!-- 2.0 -->\n      <g transform=\"translate(257.708169 290.949812) scale(0.14 -0.14)\">\n       <defs>\n        <path id=\"DejaVuSans-32\" d=\"M 1228 531 \nL 3431 531 \nL 3431 0 \nL 469 0 \nL 469 531 \nQ 828 903 1448 1529 \nQ 2069 2156 2228 2338 \nQ 2531 2678 2651 2914 \nQ 2772 3150 2772 3378 \nQ 2772 3750 2511 3984 \nQ 2250 4219 1831 4219 \nQ 1534 4219 1204 4116 \nQ 875 4013 500 3803 \nL 500 4441 \nQ 881 4594 1212 4672 \nQ 1544 4750 1819 4750 \nQ 2544 4750 2975 4387 \nQ 3406 4025 3406 3419 \nQ 3406 3131 3298 2873 \nQ 3191 2616 2906 2266 \nQ 2828 2175 2409 1742 \nQ 1991 1309 1228 531 \nz\n\" transform=\"scale(0.015625)\"/>\n       </defs>\n       <use xlink:href=\"#DejaVuSans-32\"/>\n       <use xlink:href=\"#DejaVuSans-2e\" x=\"63.623047\"/>\n       <use xlink:href=\"#DejaVuSans-30\" x=\"95.410156\"/>\n      </g>\n     </g>\n    </g>\n    <g id=\"xtick_6\">\n     <g id=\"line2d_6\">\n      <g>\n       <use xlink:href=\"#m27a9146f54\" x=\"322.865365\" y=\"273.312\" style=\"stroke: #000000; stroke-width: 0.8\"/>\n      </g>\n     </g>\n     <g id=\"text_6\">\n      <!-- 2.5 -->\n      <g transform=\"translate(311.733178 290.949812) scale(0.14 -0.14)\">\n       <use xlink:href=\"#DejaVuSans-32\"/>\n       <use xlink:href=\"#DejaVuSans-2e\" x=\"63.623047\"/>\n       <use xlink:href=\"#DejaVuSans-35\" x=\"95.410156\"/>\n      </g>\n     </g>\n    </g>\n    <g id=\"xtick_7\">\n     <g id=\"line2d_7\">\n      <g>\n       <use xlink:href=\"#m27a9146f54\" x=\"376.890374\" y=\"273.312\" style=\"stroke: #000000; stroke-width: 0.8\"/>\n      </g>\n     </g>\n     <g id=\"text_7\">\n      <!-- 3.0 -->\n      <g transform=\"translate(365.758187 290.949812) scale(0.14 -0.14)\">\n       <defs>\n        <path id=\"DejaVuSans-33\" d=\"M 2597 2516 \nQ 3050 2419 3304 2112 \nQ 3559 1806 3559 1356 \nQ 3559 666 3084 287 \nQ 2609 -91 1734 -91 \nQ 1441 -91 1130 -33 \nQ 819 25 488 141 \nL 488 750 \nQ 750 597 1062 519 \nQ 1375 441 1716 441 \nQ 2309 441 2620 675 \nQ 2931 909 2931 1356 \nQ 2931 1769 2642 2001 \nQ 2353 2234 1838 2234 \nL 1294 2234 \nL 1294 2753 \nL 1863 2753 \nQ 2328 2753 2575 2939 \nQ 2822 3125 2822 3475 \nQ 2822 3834 2567 4026 \nQ 2313 4219 1838 4219 \nQ 1578 4219 1281 4162 \nQ 984 4106 628 3988 \nL 628 4550 \nQ 988 4650 1302 4700 \nQ 1616 4750 1894 4750 \nQ 2613 4750 3031 4423 \nQ 3450 4097 3450 3541 \nQ 3450 3153 3228 2886 \nQ 3006 2619 2597 2516 \nz\n\" transform=\"scale(0.015625)\"/>\n       </defs>\n       <use xlink:href=\"#DejaVuSans-33\"/>\n       <use xlink:href=\"#DejaVuSans-2e\" x=\"63.623047\"/>\n       <use xlink:href=\"#DejaVuSans-30\" x=\"95.410156\"/>\n      </g>\n     </g>\n    </g>\n   </g>\n   <g id=\"matplotlib.axis_2\">\n    <g id=\"ytick_1\">\n     <g id=\"line2d_8\">\n      <defs>\n       <path id=\"m0dd3385074\" d=\"M 0 0 \nL -3.5 0 \n\" style=\"stroke: #000000; stroke-width: 0.8\"/>\n      </defs>\n      <g>\n       <use xlink:href=\"#m0dd3385074\" x=\"36.464375\" y=\"261.187341\" style=\"stroke: #000000; stroke-width: 0.8\"/>\n      </g>\n     </g>\n     <g id=\"text_8\">\n      <!-- 0.0 -->\n      <g transform=\"translate(7.2 266.506247) scale(0.14 -0.14)\">\n       <use xlink:href=\"#DejaVuSans-30\"/>\n       <use xlink:href=\"#DejaVuSans-2e\" x=\"63.623047\"/>\n       <use xlink:href=\"#DejaVuSans-30\" x=\"95.410156\"/>\n      </g>\n     </g>\n    </g>\n    <g id=\"ytick_2\">\n     <g id=\"line2d_9\">\n      <g>\n       <use xlink:href=\"#m0dd3385074\" x=\"36.464375\" y=\"230.978112\" style=\"stroke: #000000; stroke-width: 0.8\"/>\n      </g>\n     </g>\n     <g id=\"text_9\">\n      <!-- 0.5 -->\n      <g transform=\"translate(7.2 236.297018) scale(0.14 -0.14)\">\n       <use xlink:href=\"#DejaVuSans-30\"/>\n       <use xlink:href=\"#DejaVuSans-2e\" x=\"63.623047\"/>\n       <use xlink:href=\"#DejaVuSans-35\" x=\"95.410156\"/>\n      </g>\n     </g>\n    </g>\n    <g id=\"ytick_3\">\n     <g id=\"line2d_10\">\n      <g>\n       <use xlink:href=\"#m0dd3385074\" x=\"36.464375\" y=\"200.768882\" style=\"stroke: #000000; stroke-width: 0.8\"/>\n      </g>\n     </g>\n     <g id=\"text_10\">\n      <!-- 1.0 -->\n      <g transform=\"translate(7.2 206.087789) scale(0.14 -0.14)\">\n       <use xlink:href=\"#DejaVuSans-31\"/>\n       <use xlink:href=\"#DejaVuSans-2e\" x=\"63.623047\"/>\n       <use xlink:href=\"#DejaVuSans-30\" x=\"95.410156\"/>\n      </g>\n     </g>\n    </g>\n    <g id=\"ytick_4\">\n     <g id=\"line2d_11\">\n      <g>\n       <use xlink:href=\"#m0dd3385074\" x=\"36.464375\" y=\"170.559653\" style=\"stroke: #000000; stroke-width: 0.8\"/>\n      </g>\n     </g>\n     <g id=\"text_11\">\n      <!-- 1.5 -->\n      <g transform=\"translate(7.2 175.878559) scale(0.14 -0.14)\">\n       <use xlink:href=\"#DejaVuSans-31\"/>\n       <use xlink:href=\"#DejaVuSans-2e\" x=\"63.623047\"/>\n       <use xlink:href=\"#DejaVuSans-35\" x=\"95.410156\"/>\n      </g>\n     </g>\n    </g>\n    <g id=\"ytick_5\">\n     <g id=\"line2d_12\">\n      <g>\n       <use xlink:href=\"#m0dd3385074\" x=\"36.464375\" y=\"140.350424\" style=\"stroke: #000000; stroke-width: 0.8\"/>\n      </g>\n     </g>\n     <g id=\"text_12\">\n      <!-- 2.0 -->\n      <g transform=\"translate(7.2 145.66933) scale(0.14 -0.14)\">\n       <use xlink:href=\"#DejaVuSans-32\"/>\n       <use xlink:href=\"#DejaVuSans-2e\" x=\"63.623047\"/>\n       <use xlink:href=\"#DejaVuSans-30\" x=\"95.410156\"/>\n      </g>\n     </g>\n    </g>\n    <g id=\"ytick_6\">\n     <g id=\"line2d_13\">\n      <g>\n       <use xlink:href=\"#m0dd3385074\" x=\"36.464375\" y=\"110.141194\" style=\"stroke: #000000; stroke-width: 0.8\"/>\n      </g>\n     </g>\n     <g id=\"text_13\">\n      <!-- 2.5 -->\n      <g transform=\"translate(7.2 115.460101) scale(0.14 -0.14)\">\n       <use xlink:href=\"#DejaVuSans-32\"/>\n       <use xlink:href=\"#DejaVuSans-2e\" x=\"63.623047\"/>\n       <use xlink:href=\"#DejaVuSans-35\" x=\"95.410156\"/>\n      </g>\n     </g>\n    </g>\n    <g id=\"ytick_7\">\n     <g id=\"line2d_14\">\n      <g>\n       <use xlink:href=\"#m0dd3385074\" x=\"36.464375\" y=\"79.931965\" style=\"stroke: #000000; stroke-width: 0.8\"/>\n      </g>\n     </g>\n     <g id=\"text_14\">\n      <!-- 3.0 -->\n      <g transform=\"translate(7.2 85.250871) scale(0.14 -0.14)\">\n       <use xlink:href=\"#DejaVuSans-33\"/>\n       <use xlink:href=\"#DejaVuSans-2e\" x=\"63.623047\"/>\n       <use xlink:href=\"#DejaVuSans-30\" x=\"95.410156\"/>\n      </g>\n     </g>\n    </g>\n    <g id=\"ytick_8\">\n     <g id=\"line2d_15\">\n      <g>\n       <use xlink:href=\"#m0dd3385074\" x=\"36.464375\" y=\"49.722736\" style=\"stroke: #000000; stroke-width: 0.8\"/>\n      </g>\n     </g>\n     <g id=\"text_15\">\n      <!-- 3.5 -->\n      <g transform=\"translate(7.2 55.041642) scale(0.14 -0.14)\">\n       <use xlink:href=\"#DejaVuSans-33\"/>\n       <use xlink:href=\"#DejaVuSans-2e\" x=\"63.623047\"/>\n       <use xlink:href=\"#DejaVuSans-35\" x=\"95.410156\"/>\n      </g>\n     </g>\n    </g>\n    <g id=\"ytick_9\">\n     <g id=\"line2d_16\">\n      <g>\n       <use xlink:href=\"#m0dd3385074\" x=\"36.464375\" y=\"19.513506\" style=\"stroke: #000000; stroke-width: 0.8\"/>\n      </g>\n     </g>\n     <g id=\"text_16\">\n      <!-- 4.0 -->\n      <g transform=\"translate(7.2 24.832413) scale(0.14 -0.14)\">\n       <defs>\n        <path id=\"DejaVuSans-34\" d=\"M 2419 4116 \nL 825 1625 \nL 2419 1625 \nL 2419 4116 \nz\nM 2253 4666 \nL 3047 4666 \nL 3047 1625 \nL 3713 1625 \nL 3713 1100 \nL 3047 1100 \nL 3047 0 \nL 2419 0 \nL 2419 1100 \nL 313 1100 \nL 313 1709 \nL 2253 4666 \nz\n\" transform=\"scale(0.015625)\"/>\n       </defs>\n       <use xlink:href=\"#DejaVuSans-34\"/>\n       <use xlink:href=\"#DejaVuSans-2e\" x=\"63.623047\"/>\n       <use xlink:href=\"#DejaVuSans-30\" x=\"95.410156\"/>\n      </g>\n     </g>\n    </g>\n   </g>\n   <g id=\"patch_5\">\n    <path d=\"M 36.464375 273.312 \nL 36.464375 7.2 \n\" style=\"fill: none; stroke: #000000; stroke-width: 0.8; stroke-linejoin: miter; stroke-linecap: square\"/>\n   </g>\n   <g id=\"patch_6\">\n    <path d=\"M 393.584375 273.312 \nL 393.584375 7.2 \n\" style=\"fill: none; stroke: #000000; stroke-width: 0.8; stroke-linejoin: miter; stroke-linecap: square\"/>\n   </g>\n   <g id=\"patch_7\">\n    <path d=\"M 36.464375 273.312 \nL 393.584375 273.312 \n\" style=\"fill: none; stroke: #000000; stroke-width: 0.8; stroke-linejoin: miter; stroke-linecap: square\"/>\n   </g>\n   <g id=\"patch_8\">\n    <path d=\"M 36.464375 7.2 \nL 393.584375 7.2 \n\" style=\"fill: none; stroke: #000000; stroke-width: 0.8; stroke-linejoin: miter; stroke-linecap: square\"/>\n   </g>\n  </g>\n </g>\n <defs>\n  <clipPath id=\"p6941154a1f\">\n   <rect x=\"36.464375\" y=\"7.2\" width=\"357.12\" height=\"266.112\"/>\n  </clipPath>\n </defs>\n</svg>\n"
          },
          "metadata": {}
        }
      ]
    },
    {
      "cell_type": "code",
      "source": [
        "# the vectors a and b\n",
        "a = np.array([1,2])\n",
        "b = np.array([1.5,.5])\n",
        "\n",
        "# compute beta\n",
        "beta = np.dot(a,b) / np.dot(a,a)\n",
        "\n",
        "# compute the projection vector (not explicitly used in the plot)\n",
        "projvect = b - beta*a\n",
        "\n",
        "\n",
        "# draw the figure\n",
        "plt.figure(figsize=(4,4))\n",
        "\n",
        "# vectors\n",
        "plt.arrow(0,0,a[0],a[1],head_width=.2,width=.02,color='k',length_includes_head=True)\n",
        "plt.arrow(0,0,b[0],b[1],head_width=.2,width=.02,color='k',length_includes_head=True)\n",
        "\n",
        "# projection vector\n",
        "plt.plot([b[0],beta*a[0]],[b[1],beta*a[1]],'k--')\n",
        "\n",
        "# projection on a\n",
        "plt.plot(beta*a[0],beta*a[1],'ko',markerfacecolor='w',markersize=13)\n",
        "\n",
        "# make the plot look nicer\n",
        "plt.plot([-1,2.5],[0,0],'--',color='gray',linewidth=.5)\n",
        "plt.plot([0,0],[-1,2.5],'--',color='gray',linewidth=.5)\n",
        "\n",
        "# add labels\n",
        "plt.text(a[0]+.1,a[1],'a',fontweight='bold',fontsize=18)\n",
        "plt.text(b[0],b[1]-.3,'b',fontweight='bold',fontsize=18)\n",
        "plt.text(beta*a[0]-.35,beta*a[1],r'',fontweight='bold',fontsize=18)\n",
        "plt.text((b[0]+beta*a[0])/2,(b[1]+beta*a[1])/2+.1,r'(b-a)',fontweight='bold',fontsize=18)\n",
        "\n",
        "# some finishing touches\n",
        "plt.axis('square')\n",
        "plt.axis([-1,2.5,-1,2.5])\n",
        "plt.show()"
      ],
      "metadata": {
        "id": "M2dtMKOMwQjJ",
        "outputId": "8c168cd4-6ea4-4053-c219-0ecb166fef32",
        "colab": {
          "base_uri": "https://localhost:8080/",
          "height": 370
        }
      },
      "execution_count": 24,
      "outputs": [
        {
          "output_type": "display_data",
          "data": {
            "text/plain": [
              "<Figure size 400x400 with 1 Axes>"
            ],
            "image/svg+xml": "<?xml version=\"1.0\" encoding=\"utf-8\" standalone=\"no\"?>\n<!DOCTYPE svg PUBLIC \"-//W3C//DTD SVG 1.1//EN\"\n  \"http://www.w3.org/Graphics/SVG/1.1/DTD/svg11.dtd\">\n<svg xmlns:xlink=\"http://www.w3.org/1999/xlink\" width=\"277.155937pt\" height=\"262.028281pt\" viewBox=\"0 0 277.155937 262.028281\" xmlns=\"http://www.w3.org/2000/svg\" version=\"1.1\">\n <metadata>\n  <rdf:RDF xmlns:dc=\"http://purl.org/dc/elements/1.1/\" xmlns:cc=\"http://creativecommons.org/ns#\" xmlns:rdf=\"http://www.w3.org/1999/02/22-rdf-syntax-ns#\">\n   <cc:Work>\n    <dc:type rdf:resource=\"http://purl.org/dc/dcmitype/StillImage\"/>\n    <dc:date>2024-10-22T01:18:13.680491</dc:date>\n    <dc:format>image/svg+xml</dc:format>\n    <dc:creator>\n     <cc:Agent>\n      <dc:title>Matplotlib v3.7.1, https://matplotlib.org/</dc:title>\n     </cc:Agent>\n    </dc:creator>\n   </cc:Work>\n  </rdf:RDF>\n </metadata>\n <defs>\n  <style type=\"text/css\">*{stroke-linejoin: round; stroke-linecap: butt}</style>\n </defs>\n <g id=\"figure_1\">\n  <g id=\"patch_1\">\n   <path d=\"M 0 262.028281 \nL 277.155937 262.028281 \nL 277.155937 0 \nL 0 0 \nz\n\" style=\"fill: #ffffff\"/>\n  </g>\n  <g id=\"axes_1\">\n   <g id=\"patch_2\">\n    <path d=\"M 48.195937 234.278906 \nL 269.955938 234.278906 \nL 269.955938 12.518906 \nL 48.195937 12.518906 \nz\n\" style=\"fill: #ffffff\"/>\n   </g>\n   <g id=\"patch_3\">\n    <path d=\"M 174.915937 44.198906 \nL 172.082392 64.033724 \nL 166.982011 61.483533 \nL 112.122647 171.202261 \nL 110.989228 170.635552 \nL 165.848592 60.916824 \nL 160.748211 58.366633 \nz\n\" clip-path=\"url(#p4f21269b3b)\" style=\"stroke: #000000; stroke-linejoin: miter\"/>\n   </g>\n   <g id=\"patch_4\">\n    <path d=\"M 206.595937 139.238906 \nL 190.566984 151.260621 \nL 188.763727 145.850849 \nL 111.756299 171.519992 \nL 111.355576 170.317821 \nL 188.363003 144.648678 \nL 186.559746 139.238906 \nz\n\" clip-path=\"url(#p4f21269b3b)\" style=\"stroke: #000000; stroke-linejoin: miter\"/>\n   </g>\n   <g id=\"matplotlib.axis_1\">\n    <g id=\"xtick_1\">\n     <g id=\"line2d_1\">\n      <defs>\n       <path id=\"mdc89a7ba2e\" d=\"M 0 0 \nL 0 3.5 \n\" style=\"stroke: #000000; stroke-width: 0.8\"/>\n      </defs>\n      <g>\n       <use xlink:href=\"#mdc89a7ba2e\" x=\"48.195938\" y=\"234.278906\" style=\"stroke: #000000; stroke-width: 0.8\"/>\n      </g>\n     </g>\n     <g id=\"text_1\">\n      <!-- −1 -->\n      <g transform=\"translate(37.876406 251.916719) scale(0.14 -0.14)\">\n       <defs>\n        <path id=\"DejaVuSans-2212\" d=\"M 678 2272 \nL 4684 2272 \nL 4684 1741 \nL 678 1741 \nL 678 2272 \nz\n\" transform=\"scale(0.015625)\"/>\n        <path id=\"DejaVuSans-31\" d=\"M 794 531 \nL 1825 531 \nL 1825 4091 \nL 703 3866 \nL 703 4441 \nL 1819 4666 \nL 2450 4666 \nL 2450 531 \nL 3481 531 \nL 3481 0 \nL 794 0 \nL 794 531 \nz\n\" transform=\"scale(0.015625)\"/>\n       </defs>\n       <use xlink:href=\"#DejaVuSans-2212\"/>\n       <use xlink:href=\"#DejaVuSans-31\" x=\"83.789062\"/>\n      </g>\n     </g>\n    </g>\n    <g id=\"xtick_2\">\n     <g id=\"line2d_2\">\n      <g>\n       <use xlink:href=\"#mdc89a7ba2e\" x=\"111.555937\" y=\"234.278906\" style=\"stroke: #000000; stroke-width: 0.8\"/>\n      </g>\n     </g>\n     <g id=\"text_2\">\n      <!-- 0 -->\n      <g transform=\"translate(107.102187 251.916719) scale(0.14 -0.14)\">\n       <defs>\n        <path id=\"DejaVuSans-30\" d=\"M 2034 4250 \nQ 1547 4250 1301 3770 \nQ 1056 3291 1056 2328 \nQ 1056 1369 1301 889 \nQ 1547 409 2034 409 \nQ 2525 409 2770 889 \nQ 3016 1369 3016 2328 \nQ 3016 3291 2770 3770 \nQ 2525 4250 2034 4250 \nz\nM 2034 4750 \nQ 2819 4750 3233 4129 \nQ 3647 3509 3647 2328 \nQ 3647 1150 3233 529 \nQ 2819 -91 2034 -91 \nQ 1250 -91 836 529 \nQ 422 1150 422 2328 \nQ 422 3509 836 4129 \nQ 1250 4750 2034 4750 \nz\n\" transform=\"scale(0.015625)\"/>\n       </defs>\n       <use xlink:href=\"#DejaVuSans-30\"/>\n      </g>\n     </g>\n    </g>\n    <g id=\"xtick_3\">\n     <g id=\"line2d_3\">\n      <g>\n       <use xlink:href=\"#mdc89a7ba2e\" x=\"174.915937\" y=\"234.278906\" style=\"stroke: #000000; stroke-width: 0.8\"/>\n      </g>\n     </g>\n     <g id=\"text_3\">\n      <!-- 1 -->\n      <g transform=\"translate(170.462187 251.916719) scale(0.14 -0.14)\">\n       <use xlink:href=\"#DejaVuSans-31\"/>\n      </g>\n     </g>\n    </g>\n    <g id=\"xtick_4\">\n     <g id=\"line2d_4\">\n      <g>\n       <use xlink:href=\"#mdc89a7ba2e\" x=\"238.275937\" y=\"234.278906\" style=\"stroke: #000000; stroke-width: 0.8\"/>\n      </g>\n     </g>\n     <g id=\"text_4\">\n      <!-- 2 -->\n      <g transform=\"translate(233.822187 251.916719) scale(0.14 -0.14)\">\n       <defs>\n        <path id=\"DejaVuSans-32\" d=\"M 1228 531 \nL 3431 531 \nL 3431 0 \nL 469 0 \nL 469 531 \nQ 828 903 1448 1529 \nQ 2069 2156 2228 2338 \nQ 2531 2678 2651 2914 \nQ 2772 3150 2772 3378 \nQ 2772 3750 2511 3984 \nQ 2250 4219 1831 4219 \nQ 1534 4219 1204 4116 \nQ 875 4013 500 3803 \nL 500 4441 \nQ 881 4594 1212 4672 \nQ 1544 4750 1819 4750 \nQ 2544 4750 2975 4387 \nQ 3406 4025 3406 3419 \nQ 3406 3131 3298 2873 \nQ 3191 2616 2906 2266 \nQ 2828 2175 2409 1742 \nQ 1991 1309 1228 531 \nz\n\" transform=\"scale(0.015625)\"/>\n       </defs>\n       <use xlink:href=\"#DejaVuSans-32\"/>\n      </g>\n     </g>\n    </g>\n   </g>\n   <g id=\"matplotlib.axis_2\">\n    <g id=\"ytick_1\">\n     <g id=\"line2d_5\">\n      <defs>\n       <path id=\"mc63a1e9aa3\" d=\"M 0 0 \nL -3.5 0 \n\" style=\"stroke: #000000; stroke-width: 0.8\"/>\n      </defs>\n      <g>\n       <use xlink:href=\"#mc63a1e9aa3\" x=\"48.195937\" y=\"234.278906\" style=\"stroke: #000000; stroke-width: 0.8\"/>\n      </g>\n     </g>\n     <g id=\"text_5\">\n      <!-- −1.0 -->\n      <g transform=\"translate(7.2 239.597813) scale(0.14 -0.14)\">\n       <defs>\n        <path id=\"DejaVuSans-2e\" d=\"M 684 794 \nL 1344 794 \nL 1344 0 \nL 684 0 \nL 684 794 \nz\n\" transform=\"scale(0.015625)\"/>\n       </defs>\n       <use xlink:href=\"#DejaVuSans-2212\"/>\n       <use xlink:href=\"#DejaVuSans-31\" x=\"83.789062\"/>\n       <use xlink:href=\"#DejaVuSans-2e\" x=\"147.412109\"/>\n       <use xlink:href=\"#DejaVuSans-30\" x=\"179.199219\"/>\n      </g>\n     </g>\n    </g>\n    <g id=\"ytick_2\">\n     <g id=\"line2d_6\">\n      <g>\n       <use xlink:href=\"#mc63a1e9aa3\" x=\"48.195937\" y=\"202.598906\" style=\"stroke: #000000; stroke-width: 0.8\"/>\n      </g>\n     </g>\n     <g id=\"text_6\">\n      <!-- −0.5 -->\n      <g transform=\"translate(7.2 207.917813) scale(0.14 -0.14)\">\n       <defs>\n        <path id=\"DejaVuSans-35\" d=\"M 691 4666 \nL 3169 4666 \nL 3169 4134 \nL 1269 4134 \nL 1269 2991 \nQ 1406 3038 1543 3061 \nQ 1681 3084 1819 3084 \nQ 2600 3084 3056 2656 \nQ 3513 2228 3513 1497 \nQ 3513 744 3044 326 \nQ 2575 -91 1722 -91 \nQ 1428 -91 1123 -41 \nQ 819 9 494 109 \nL 494 744 \nQ 775 591 1075 516 \nQ 1375 441 1709 441 \nQ 2250 441 2565 725 \nQ 2881 1009 2881 1497 \nQ 2881 1984 2565 2268 \nQ 2250 2553 1709 2553 \nQ 1456 2553 1204 2497 \nQ 953 2441 691 2322 \nL 691 4666 \nz\n\" transform=\"scale(0.015625)\"/>\n       </defs>\n       <use xlink:href=\"#DejaVuSans-2212\"/>\n       <use xlink:href=\"#DejaVuSans-30\" x=\"83.789062\"/>\n       <use xlink:href=\"#DejaVuSans-2e\" x=\"147.412109\"/>\n       <use xlink:href=\"#DejaVuSans-35\" x=\"179.199219\"/>\n      </g>\n     </g>\n    </g>\n    <g id=\"ytick_3\">\n     <g id=\"line2d_7\">\n      <g>\n       <use xlink:href=\"#mc63a1e9aa3\" x=\"48.195937\" y=\"170.918906\" style=\"stroke: #000000; stroke-width: 0.8\"/>\n      </g>\n     </g>\n     <g id=\"text_7\">\n      <!-- 0.0 -->\n      <g transform=\"translate(18.931562 176.237813) scale(0.14 -0.14)\">\n       <use xlink:href=\"#DejaVuSans-30\"/>\n       <use xlink:href=\"#DejaVuSans-2e\" x=\"63.623047\"/>\n       <use xlink:href=\"#DejaVuSans-30\" x=\"95.410156\"/>\n      </g>\n     </g>\n    </g>\n    <g id=\"ytick_4\">\n     <g id=\"line2d_8\">\n      <g>\n       <use xlink:href=\"#mc63a1e9aa3\" x=\"48.195937\" y=\"139.238906\" style=\"stroke: #000000; stroke-width: 0.8\"/>\n      </g>\n     </g>\n     <g id=\"text_8\">\n      <!-- 0.5 -->\n      <g transform=\"translate(18.931562 144.557813) scale(0.14 -0.14)\">\n       <use xlink:href=\"#DejaVuSans-30\"/>\n       <use xlink:href=\"#DejaVuSans-2e\" x=\"63.623047\"/>\n       <use xlink:href=\"#DejaVuSans-35\" x=\"95.410156\"/>\n      </g>\n     </g>\n    </g>\n    <g id=\"ytick_5\">\n     <g id=\"line2d_9\">\n      <g>\n       <use xlink:href=\"#mc63a1e9aa3\" x=\"48.195937\" y=\"107.558906\" style=\"stroke: #000000; stroke-width: 0.8\"/>\n      </g>\n     </g>\n     <g id=\"text_9\">\n      <!-- 1.0 -->\n      <g transform=\"translate(18.931562 112.877813) scale(0.14 -0.14)\">\n       <use xlink:href=\"#DejaVuSans-31\"/>\n       <use xlink:href=\"#DejaVuSans-2e\" x=\"63.623047\"/>\n       <use xlink:href=\"#DejaVuSans-30\" x=\"95.410156\"/>\n      </g>\n     </g>\n    </g>\n    <g id=\"ytick_6\">\n     <g id=\"line2d_10\">\n      <g>\n       <use xlink:href=\"#mc63a1e9aa3\" x=\"48.195937\" y=\"75.878906\" style=\"stroke: #000000; stroke-width: 0.8\"/>\n      </g>\n     </g>\n     <g id=\"text_10\">\n      <!-- 1.5 -->\n      <g transform=\"translate(18.931562 81.197813) scale(0.14 -0.14)\">\n       <use xlink:href=\"#DejaVuSans-31\"/>\n       <use xlink:href=\"#DejaVuSans-2e\" x=\"63.623047\"/>\n       <use xlink:href=\"#DejaVuSans-35\" x=\"95.410156\"/>\n      </g>\n     </g>\n    </g>\n    <g id=\"ytick_7\">\n     <g id=\"line2d_11\">\n      <g>\n       <use xlink:href=\"#mc63a1e9aa3\" x=\"48.195937\" y=\"44.198906\" style=\"stroke: #000000; stroke-width: 0.8\"/>\n      </g>\n     </g>\n     <g id=\"text_11\">\n      <!-- 2.0 -->\n      <g transform=\"translate(18.931562 49.517813) scale(0.14 -0.14)\">\n       <use xlink:href=\"#DejaVuSans-32\"/>\n       <use xlink:href=\"#DejaVuSans-2e\" x=\"63.623047\"/>\n       <use xlink:href=\"#DejaVuSans-30\" x=\"95.410156\"/>\n      </g>\n     </g>\n    </g>\n    <g id=\"ytick_8\">\n     <g id=\"line2d_12\">\n      <g>\n       <use xlink:href=\"#mc63a1e9aa3\" x=\"48.195937\" y=\"12.518906\" style=\"stroke: #000000; stroke-width: 0.8\"/>\n      </g>\n     </g>\n     <g id=\"text_12\">\n      <!-- 2.5 -->\n      <g transform=\"translate(18.931562 17.837813) scale(0.14 -0.14)\">\n       <use xlink:href=\"#DejaVuSans-32\"/>\n       <use xlink:href=\"#DejaVuSans-2e\" x=\"63.623047\"/>\n       <use xlink:href=\"#DejaVuSans-35\" x=\"95.410156\"/>\n      </g>\n     </g>\n    </g>\n   </g>\n   <g id=\"line2d_13\">\n    <path d=\"M 206.595937 139.238906 \nL 143.235938 107.558906 \n\" clip-path=\"url(#p4f21269b3b)\" style=\"fill: none; stroke-dasharray: 5.55,2.4; stroke-dashoffset: 0; stroke: #000000; stroke-width: 1.5\"/>\n   </g>\n   <g id=\"line2d_14\">\n    <defs>\n     <path id=\"mbec8db2446\" d=\"M 0 6.5 \nC 1.72382 6.5 3.377269 5.815119 4.596194 4.596194 \nC 5.815119 3.377269 6.5 1.72382 6.5 0 \nC 6.5 -1.72382 5.815119 -3.377269 4.596194 -4.596194 \nC 3.377269 -5.815119 1.72382 -6.5 0 -6.5 \nC -1.72382 -6.5 -3.377269 -5.815119 -4.596194 -4.596194 \nC -5.815119 -3.377269 -6.5 -1.72382 -6.5 0 \nC -6.5 1.72382 -5.815119 3.377269 -4.596194 4.596194 \nC -3.377269 5.815119 -1.72382 6.5 0 6.5 \nz\n\" style=\"stroke: #000000\"/>\n    </defs>\n    <g clip-path=\"url(#p4f21269b3b)\">\n     <use xlink:href=\"#mbec8db2446\" x=\"143.235938\" y=\"107.558906\" style=\"fill: #ffffff; stroke: #000000\"/>\n    </g>\n   </g>\n   <g id=\"line2d_15\">\n    <path d=\"M 48.195938 170.918906 \nL 269.955938 170.918906 \n\" clip-path=\"url(#p4f21269b3b)\" style=\"fill: none; stroke-dasharray: 1.85,0.8; stroke-dashoffset: 0; stroke: #808080; stroke-width: 0.5\"/>\n   </g>\n   <g id=\"line2d_16\">\n    <path d=\"M 111.555937 234.278906 \nL 111.555937 12.518906 \n\" clip-path=\"url(#p4f21269b3b)\" style=\"fill: none; stroke-dasharray: 1.85,0.8; stroke-dashoffset: 0; stroke: #808080; stroke-width: 0.5\"/>\n   </g>\n   <g id=\"patch_5\">\n    <path d=\"M 48.195937 234.278906 \nL 48.195937 12.518906 \n\" style=\"fill: none; stroke: #000000; stroke-width: 0.8; stroke-linejoin: miter; stroke-linecap: square\"/>\n   </g>\n   <g id=\"patch_6\">\n    <path d=\"M 269.955938 234.278906 \nL 269.955938 12.518906 \n\" style=\"fill: none; stroke: #000000; stroke-width: 0.8; stroke-linejoin: miter; stroke-linecap: square\"/>\n   </g>\n   <g id=\"patch_7\">\n    <path d=\"M 48.195938 234.278906 \nL 269.955938 234.278906 \n\" style=\"fill: none; stroke: #000000; stroke-width: 0.8; stroke-linejoin: miter; stroke-linecap: square\"/>\n   </g>\n   <g id=\"patch_8\">\n    <path d=\"M 48.195938 12.518906 \nL 269.955938 12.518906 \n\" style=\"fill: none; stroke: #000000; stroke-width: 0.8; stroke-linejoin: miter; stroke-linecap: square\"/>\n   </g>\n   <g id=\"text_13\">\n    <!-- a -->\n    <g transform=\"translate(181.251937 44.198906) scale(0.18 -0.18)\">\n     <defs>\n      <path id=\"DejaVuSans-Bold-61\" d=\"M 2106 1575 \nQ 1756 1575 1579 1456 \nQ 1403 1338 1403 1106 \nQ 1403 894 1545 773 \nQ 1688 653 1941 653 \nQ 2256 653 2472 879 \nQ 2688 1106 2688 1447 \nL 2688 1575 \nL 2106 1575 \nz\nM 3816 1997 \nL 3816 0 \nL 2688 0 \nL 2688 519 \nQ 2463 200 2181 54 \nQ 1900 -91 1497 -91 \nQ 953 -91 614 226 \nQ 275 544 275 1050 \nQ 275 1666 698 1953 \nQ 1122 2241 2028 2241 \nL 2688 2241 \nL 2688 2328 \nQ 2688 2594 2478 2717 \nQ 2269 2841 1825 2841 \nQ 1466 2841 1156 2769 \nQ 847 2697 581 2553 \nL 581 3406 \nQ 941 3494 1303 3539 \nQ 1666 3584 2028 3584 \nQ 2975 3584 3395 3211 \nQ 3816 2838 3816 1997 \nz\n\" transform=\"scale(0.015625)\"/>\n     </defs>\n     <use xlink:href=\"#DejaVuSans-Bold-61\"/>\n    </g>\n   </g>\n   <g id=\"text_14\">\n    <!-- b -->\n    <g transform=\"translate(206.595937 158.246906) scale(0.18 -0.18)\">\n     <defs>\n      <path id=\"DejaVuSans-Bold-62\" d=\"M 2400 722 \nQ 2759 722 2948 984 \nQ 3138 1247 3138 1747 \nQ 3138 2247 2948 2509 \nQ 2759 2772 2400 2772 \nQ 2041 2772 1848 2508 \nQ 1656 2244 1656 1747 \nQ 1656 1250 1848 986 \nQ 2041 722 2400 722 \nz\nM 1656 2988 \nQ 1888 3294 2169 3439 \nQ 2450 3584 2816 3584 \nQ 3463 3584 3878 3070 \nQ 4294 2556 4294 1747 \nQ 4294 938 3878 423 \nQ 3463 -91 2816 -91 \nQ 2450 -91 2169 54 \nQ 1888 200 1656 506 \nL 1656 0 \nL 538 0 \nL 538 4863 \nL 1656 4863 \nL 1656 2988 \nz\n\" transform=\"scale(0.015625)\"/>\n     </defs>\n     <use xlink:href=\"#DejaVuSans-Bold-62\"/>\n    </g>\n   </g>\n   <g id=\"text_15\">\n    <!-- (b-a) -->\n    <g transform=\"translate(174.915937 117.062906) scale(0.18 -0.18)\">\n     <defs>\n      <path id=\"DejaVuSans-Bold-28\" d=\"M 2413 -844 \nL 1484 -844 \nQ 1006 -72 778 623 \nQ 550 1319 550 2003 \nQ 550 2688 779 3389 \nQ 1009 4091 1484 4856 \nL 2413 4856 \nQ 2013 4116 1813 3408 \nQ 1613 2700 1613 2009 \nQ 1613 1319 1811 609 \nQ 2009 -100 2413 -844 \nz\n\" transform=\"scale(0.015625)\"/>\n      <path id=\"DejaVuSans-Bold-2d\" d=\"M 347 2297 \nL 2309 2297 \nL 2309 1388 \nL 347 1388 \nL 347 2297 \nz\n\" transform=\"scale(0.015625)\"/>\n      <path id=\"DejaVuSans-Bold-29\" d=\"M 513 -844 \nQ 913 -100 1113 609 \nQ 1313 1319 1313 2009 \nQ 1313 2700 1113 3408 \nQ 913 4116 513 4856 \nL 1441 4856 \nQ 1916 4091 2145 3389 \nQ 2375 2688 2375 2003 \nQ 2375 1319 2147 623 \nQ 1919 -72 1441 -844 \nL 513 -844 \nz\n\" transform=\"scale(0.015625)\"/>\n     </defs>\n     <use xlink:href=\"#DejaVuSans-Bold-28\"/>\n     <use xlink:href=\"#DejaVuSans-Bold-62\" x=\"45.703125\"/>\n     <use xlink:href=\"#DejaVuSans-Bold-2d\" x=\"117.285156\"/>\n     <use xlink:href=\"#DejaVuSans-Bold-61\" x=\"158.789062\"/>\n     <use xlink:href=\"#DejaVuSans-Bold-29\" x=\"226.269531\"/>\n    </g>\n   </g>\n  </g>\n </g>\n <defs>\n  <clipPath id=\"p4f21269b3b\">\n   <rect x=\"48.195937\" y=\"12.518906\" width=\"221.76\" height=\"221.76\"/>\n  </clipPath>\n </defs>\n</svg>\n"
          },
          "metadata": {}
        }
      ]
    },
    {
      "cell_type": "markdown",
      "source": [
        "#### Exercise 2-9"
      ],
      "metadata": {
        "id": "c2n3L8tL0XGe"
      }
    },
    {
      "cell_type": "code",
      "source": [
        "np.random.randint(0, 10, size=4)"
      ],
      "metadata": {
        "id": "6sSG4-CV0_Er",
        "outputId": "e02c3e58-ceb3-40b4-a0ff-2be4da8e6bae",
        "colab": {
          "base_uri": "https://localhost:8080/"
        }
      },
      "execution_count": 25,
      "outputs": [
        {
          "output_type": "execute_result",
          "data": {
            "text/plain": [
              "array([6, 2, 4, 2])"
            ]
          },
          "metadata": {},
          "execution_count": 25
        }
      ]
    },
    {
      "cell_type": "code",
      "source": [
        "t = np.random.randint(0, 10, size=2)\n",
        "r = np.random.randint(0, 10, size=2)\n",
        "\n",
        "# Calculate the projection of t onto r\n",
        "beta = np.dot(t, r) / np.dot(r, r)\n",
        "t_parallel = beta * r\n",
        "t_perpendicular = t - t_parallel\n",
        "\n",
        "# Plotting\n",
        "plt.figure(figsize=(6, 6))\n",
        "\n",
        "# Plot t, t_parallel, and t_perpendicular\n",
        "plt.arrow(0, 0, t[0], t[1], head_width=0.3, width=0.1, color='k', length_includes_head=True, label='t')\n",
        "plt.arrow(0, 0, t_parallel[0], t_parallel[1], head_width=0.3, width=0.1, color='b', length_includes_head=True, label='t_parallel', ls='--')\n",
        "plt.arrow(0,0, t_perpendicular[0], t_perpendicular[1], head_width=0.3, width=0.1, color='r', length_includes_head=True, label='t_perpendicular')\n",
        "plt.arrow(0,0,r[0],r[1],head_width=.3,width=.1,color='r',length_includes_head=True, label='r')\n",
        "\n",
        "\n",
        "plt.axis('square')\n",
        "plt.xlim([-1,10])\n",
        "plt.ylim([-1,10])\n",
        "plt.grid()\n",
        "plt.legend()\n",
        "plt.title('Parallel and Perpendicular Components of t')\n",
        "plt.xlabel('X-axis')\n",
        "plt.ylabel('Y-axis')\n",
        "plt.show()\n",
        "\n"
      ],
      "metadata": {
        "id": "QlimP88azZUg",
        "outputId": "fc1cf01c-f6df-48db-8f5e-8487ea4509cd",
        "colab": {
          "base_uri": "https://localhost:8080/",
          "height": 560
        }
      },
      "execution_count": 44,
      "outputs": [
        {
          "output_type": "display_data",
          "data": {
            "text/plain": [
              "<Figure size 600x600 with 1 Axes>"
            ],
            "image/svg+xml": "<?xml version=\"1.0\" encoding=\"utf-8\" standalone=\"no\"?>\n<!DOCTYPE svg PUBLIC \"-//W3C//DTD SVG 1.1//EN\"\n  \"http://www.w3.org/Graphics/SVG/1.1/DTD/svg11.dtd\">\n<svg xmlns:xlink=\"http://www.w3.org/1999/xlink\" width=\"405.1255pt\" height=\"403.904125pt\" viewBox=\"0 0 405.1255 403.904125\" xmlns=\"http://www.w3.org/2000/svg\" version=\"1.1\">\n <metadata>\n  <rdf:RDF xmlns:dc=\"http://purl.org/dc/elements/1.1/\" xmlns:cc=\"http://creativecommons.org/ns#\" xmlns:rdf=\"http://www.w3.org/1999/02/22-rdf-syntax-ns#\">\n   <cc:Work>\n    <dc:type rdf:resource=\"http://purl.org/dc/dcmitype/StillImage\"/>\n    <dc:date>2024-10-22T01:34:28.467072</dc:date>\n    <dc:format>image/svg+xml</dc:format>\n    <dc:creator>\n     <cc:Agent>\n      <dc:title>Matplotlib v3.7.1, https://matplotlib.org/</dc:title>\n     </cc:Agent>\n    </dc:creator>\n   </cc:Work>\n  </rdf:RDF>\n </metadata>\n <defs>\n  <style type=\"text/css\">*{stroke-linejoin: round; stroke-linecap: butt}</style>\n </defs>\n <g id=\"figure_1\">\n  <g id=\"patch_1\">\n   <path d=\"M 0 403.904125 \nL 405.1255 403.904125 \nL 405.1255 0 \nL 0 0 \nz\n\" style=\"fill: #ffffff\"/>\n  </g>\n  <g id=\"axes_1\">\n   <g id=\"patch_2\">\n    <path d=\"M 49.564375 358.605375 \nL 382.204375 358.605375 \nL 382.204375 25.965375 \nL 49.564375 25.965375 \nz\n\" style=\"fill: #ffffff\"/>\n   </g>\n   <g id=\"patch_3\">\n    <path d=\"M 200.764375 86.445375 \nL 198.735814 100.645301 \nL 196.031066 99.292927 \nL 81.156749 329.041562 \nL 78.452001 327.689188 \nL 193.326318 97.940553 \nL 190.621571 96.588179 \nz\n\" clip-path=\"url(#p8c94f03f82)\" style=\"stroke: #000000; stroke-linejoin: miter\"/>\n   </g>\n   <g id=\"patch_4\">\n    <path d=\"M 242.635144 119.011529 \nL 237.861142 132.537868 \nL 235.474141 130.681312 \nL 80.997876 329.293653 \nL 78.610874 327.437097 \nL 233.08714 128.824756 \nL 230.700139 126.968199 \nz\n\" clip-path=\"url(#p8c94f03f82)\" style=\"fill: #0000ff; stroke-dasharray: 3.7,1.6; stroke-dashoffset: 0; stroke: #0000ff; stroke-linejoin: miter\"/>\n   </g>\n   <g id=\"patch_5\">\n    <path d=\"M 37.933606 295.799221 \nL 51.459945 300.573223 \nL 49.603389 302.960224 \nL 80.732653 327.171874 \nL 78.876097 329.558876 \nL 47.746833 305.347226 \nL 45.890276 307.734227 \nz\n\" clip-path=\"url(#p8c94f03f82)\" style=\"fill: #ff0000; stroke: #ff0000; stroke-linejoin: miter\"/>\n   </g>\n   <g id=\"patch_6\">\n    <path d=\"M 291.484375 56.205375 \nL 286.710373 69.731715 \nL 284.323372 67.875158 \nL 80.997876 329.293653 \nL 78.610874 327.437097 \nL 281.936371 66.018602 \nL 279.549369 64.162045 \nz\n\" clip-path=\"url(#p8c94f03f82)\" style=\"fill: #ff0000; stroke: #ff0000; stroke-linejoin: miter\"/>\n   </g>\n   <g id=\"matplotlib.axis_1\">\n    <g id=\"xtick_1\">\n     <g id=\"line2d_1\">\n      <path d=\"M 79.804375 358.605375 \nL 79.804375 25.965375 \n\" clip-path=\"url(#p8c94f03f82)\" style=\"fill: none; stroke: #b0b0b0; stroke-width: 0.8; stroke-linecap: square\"/>\n     </g>\n     <g id=\"line2d_2\">\n      <defs>\n       <path id=\"m9273d89812\" d=\"M 0 0 \nL 0 3.5 \n\" style=\"stroke: #000000; stroke-width: 0.8\"/>\n      </defs>\n      <g>\n       <use xlink:href=\"#m9273d89812\" x=\"79.804375\" y=\"358.605375\" style=\"stroke: #000000; stroke-width: 0.8\"/>\n      </g>\n     </g>\n     <g id=\"text_1\">\n      <!-- 0 -->\n      <g transform=\"translate(75.350625 376.243188) scale(0.14 -0.14)\">\n       <defs>\n        <path id=\"DejaVuSans-30\" d=\"M 2034 4250 \nQ 1547 4250 1301 3770 \nQ 1056 3291 1056 2328 \nQ 1056 1369 1301 889 \nQ 1547 409 2034 409 \nQ 2525 409 2770 889 \nQ 3016 1369 3016 2328 \nQ 3016 3291 2770 3770 \nQ 2525 4250 2034 4250 \nz\nM 2034 4750 \nQ 2819 4750 3233 4129 \nQ 3647 3509 3647 2328 \nQ 3647 1150 3233 529 \nQ 2819 -91 2034 -91 \nQ 1250 -91 836 529 \nQ 422 1150 422 2328 \nQ 422 3509 836 4129 \nQ 1250 4750 2034 4750 \nz\n\" transform=\"scale(0.015625)\"/>\n       </defs>\n       <use xlink:href=\"#DejaVuSans-30\"/>\n      </g>\n     </g>\n    </g>\n    <g id=\"xtick_2\">\n     <g id=\"line2d_3\">\n      <path d=\"M 140.284375 358.605375 \nL 140.284375 25.965375 \n\" clip-path=\"url(#p8c94f03f82)\" style=\"fill: none; stroke: #b0b0b0; stroke-width: 0.8; stroke-linecap: square\"/>\n     </g>\n     <g id=\"line2d_4\">\n      <g>\n       <use xlink:href=\"#m9273d89812\" x=\"140.284375\" y=\"358.605375\" style=\"stroke: #000000; stroke-width: 0.8\"/>\n      </g>\n     </g>\n     <g id=\"text_2\">\n      <!-- 2 -->\n      <g transform=\"translate(135.830625 376.243188) scale(0.14 -0.14)\">\n       <defs>\n        <path id=\"DejaVuSans-32\" d=\"M 1228 531 \nL 3431 531 \nL 3431 0 \nL 469 0 \nL 469 531 \nQ 828 903 1448 1529 \nQ 2069 2156 2228 2338 \nQ 2531 2678 2651 2914 \nQ 2772 3150 2772 3378 \nQ 2772 3750 2511 3984 \nQ 2250 4219 1831 4219 \nQ 1534 4219 1204 4116 \nQ 875 4013 500 3803 \nL 500 4441 \nQ 881 4594 1212 4672 \nQ 1544 4750 1819 4750 \nQ 2544 4750 2975 4387 \nQ 3406 4025 3406 3419 \nQ 3406 3131 3298 2873 \nQ 3191 2616 2906 2266 \nQ 2828 2175 2409 1742 \nQ 1991 1309 1228 531 \nz\n\" transform=\"scale(0.015625)\"/>\n       </defs>\n       <use xlink:href=\"#DejaVuSans-32\"/>\n      </g>\n     </g>\n    </g>\n    <g id=\"xtick_3\">\n     <g id=\"line2d_5\">\n      <path d=\"M 200.764375 358.605375 \nL 200.764375 25.965375 \n\" clip-path=\"url(#p8c94f03f82)\" style=\"fill: none; stroke: #b0b0b0; stroke-width: 0.8; stroke-linecap: square\"/>\n     </g>\n     <g id=\"line2d_6\">\n      <g>\n       <use xlink:href=\"#m9273d89812\" x=\"200.764375\" y=\"358.605375\" style=\"stroke: #000000; stroke-width: 0.8\"/>\n      </g>\n     </g>\n     <g id=\"text_3\">\n      <!-- 4 -->\n      <g transform=\"translate(196.310625 376.243188) scale(0.14 -0.14)\">\n       <defs>\n        <path id=\"DejaVuSans-34\" d=\"M 2419 4116 \nL 825 1625 \nL 2419 1625 \nL 2419 4116 \nz\nM 2253 4666 \nL 3047 4666 \nL 3047 1625 \nL 3713 1625 \nL 3713 1100 \nL 3047 1100 \nL 3047 0 \nL 2419 0 \nL 2419 1100 \nL 313 1100 \nL 313 1709 \nL 2253 4666 \nz\n\" transform=\"scale(0.015625)\"/>\n       </defs>\n       <use xlink:href=\"#DejaVuSans-34\"/>\n      </g>\n     </g>\n    </g>\n    <g id=\"xtick_4\">\n     <g id=\"line2d_7\">\n      <path d=\"M 261.244375 358.605375 \nL 261.244375 25.965375 \n\" clip-path=\"url(#p8c94f03f82)\" style=\"fill: none; stroke: #b0b0b0; stroke-width: 0.8; stroke-linecap: square\"/>\n     </g>\n     <g id=\"line2d_8\">\n      <g>\n       <use xlink:href=\"#m9273d89812\" x=\"261.244375\" y=\"358.605375\" style=\"stroke: #000000; stroke-width: 0.8\"/>\n      </g>\n     </g>\n     <g id=\"text_4\">\n      <!-- 6 -->\n      <g transform=\"translate(256.790625 376.243188) scale(0.14 -0.14)\">\n       <defs>\n        <path id=\"DejaVuSans-36\" d=\"M 2113 2584 \nQ 1688 2584 1439 2293 \nQ 1191 2003 1191 1497 \nQ 1191 994 1439 701 \nQ 1688 409 2113 409 \nQ 2538 409 2786 701 \nQ 3034 994 3034 1497 \nQ 3034 2003 2786 2293 \nQ 2538 2584 2113 2584 \nz\nM 3366 4563 \nL 3366 3988 \nQ 3128 4100 2886 4159 \nQ 2644 4219 2406 4219 \nQ 1781 4219 1451 3797 \nQ 1122 3375 1075 2522 \nQ 1259 2794 1537 2939 \nQ 1816 3084 2150 3084 \nQ 2853 3084 3261 2657 \nQ 3669 2231 3669 1497 \nQ 3669 778 3244 343 \nQ 2819 -91 2113 -91 \nQ 1303 -91 875 529 \nQ 447 1150 447 2328 \nQ 447 3434 972 4092 \nQ 1497 4750 2381 4750 \nQ 2619 4750 2861 4703 \nQ 3103 4656 3366 4563 \nz\n\" transform=\"scale(0.015625)\"/>\n       </defs>\n       <use xlink:href=\"#DejaVuSans-36\"/>\n      </g>\n     </g>\n    </g>\n    <g id=\"xtick_5\">\n     <g id=\"line2d_9\">\n      <path d=\"M 321.724375 358.605375 \nL 321.724375 25.965375 \n\" clip-path=\"url(#p8c94f03f82)\" style=\"fill: none; stroke: #b0b0b0; stroke-width: 0.8; stroke-linecap: square\"/>\n     </g>\n     <g id=\"line2d_10\">\n      <g>\n       <use xlink:href=\"#m9273d89812\" x=\"321.724375\" y=\"358.605375\" style=\"stroke: #000000; stroke-width: 0.8\"/>\n      </g>\n     </g>\n     <g id=\"text_5\">\n      <!-- 8 -->\n      <g transform=\"translate(317.270625 376.243188) scale(0.14 -0.14)\">\n       <defs>\n        <path id=\"DejaVuSans-38\" d=\"M 2034 2216 \nQ 1584 2216 1326 1975 \nQ 1069 1734 1069 1313 \nQ 1069 891 1326 650 \nQ 1584 409 2034 409 \nQ 2484 409 2743 651 \nQ 3003 894 3003 1313 \nQ 3003 1734 2745 1975 \nQ 2488 2216 2034 2216 \nz\nM 1403 2484 \nQ 997 2584 770 2862 \nQ 544 3141 544 3541 \nQ 544 4100 942 4425 \nQ 1341 4750 2034 4750 \nQ 2731 4750 3128 4425 \nQ 3525 4100 3525 3541 \nQ 3525 3141 3298 2862 \nQ 3072 2584 2669 2484 \nQ 3125 2378 3379 2068 \nQ 3634 1759 3634 1313 \nQ 3634 634 3220 271 \nQ 2806 -91 2034 -91 \nQ 1263 -91 848 271 \nQ 434 634 434 1313 \nQ 434 1759 690 2068 \nQ 947 2378 1403 2484 \nz\nM 1172 3481 \nQ 1172 3119 1398 2916 \nQ 1625 2713 2034 2713 \nQ 2441 2713 2670 2916 \nQ 2900 3119 2900 3481 \nQ 2900 3844 2670 4047 \nQ 2441 4250 2034 4250 \nQ 1625 4250 1398 4047 \nQ 1172 3844 1172 3481 \nz\n\" transform=\"scale(0.015625)\"/>\n       </defs>\n       <use xlink:href=\"#DejaVuSans-38\"/>\n      </g>\n     </g>\n    </g>\n    <g id=\"xtick_6\">\n     <g id=\"line2d_11\">\n      <path d=\"M 382.204375 358.605375 \nL 382.204375 25.965375 \n\" clip-path=\"url(#p8c94f03f82)\" style=\"fill: none; stroke: #b0b0b0; stroke-width: 0.8; stroke-linecap: square\"/>\n     </g>\n     <g id=\"line2d_12\">\n      <g>\n       <use xlink:href=\"#m9273d89812\" x=\"382.204375\" y=\"358.605375\" style=\"stroke: #000000; stroke-width: 0.8\"/>\n      </g>\n     </g>\n     <g id=\"text_6\">\n      <!-- 10 -->\n      <g transform=\"translate(373.296875 376.243188) scale(0.14 -0.14)\">\n       <defs>\n        <path id=\"DejaVuSans-31\" d=\"M 794 531 \nL 1825 531 \nL 1825 4091 \nL 703 3866 \nL 703 4441 \nL 1819 4666 \nL 2450 4666 \nL 2450 531 \nL 3481 531 \nL 3481 0 \nL 794 0 \nL 794 531 \nz\n\" transform=\"scale(0.015625)\"/>\n       </defs>\n       <use xlink:href=\"#DejaVuSans-31\"/>\n       <use xlink:href=\"#DejaVuSans-30\" x=\"63.623047\"/>\n      </g>\n     </g>\n    </g>\n    <g id=\"text_7\">\n     <!-- X-axis -->\n     <g transform=\"translate(194.889844 393.792563) scale(0.14 -0.14)\">\n      <defs>\n       <path id=\"DejaVuSans-58\" d=\"M 403 4666 \nL 1081 4666 \nL 2241 2931 \nL 3406 4666 \nL 4084 4666 \nL 2584 2425 \nL 4184 0 \nL 3506 0 \nL 2194 1984 \nL 872 0 \nL 191 0 \nL 1856 2491 \nL 403 4666 \nz\n\" transform=\"scale(0.015625)\"/>\n       <path id=\"DejaVuSans-2d\" d=\"M 313 2009 \nL 1997 2009 \nL 1997 1497 \nL 313 1497 \nL 313 2009 \nz\n\" transform=\"scale(0.015625)\"/>\n       <path id=\"DejaVuSans-61\" d=\"M 2194 1759 \nQ 1497 1759 1228 1600 \nQ 959 1441 959 1056 \nQ 959 750 1161 570 \nQ 1363 391 1709 391 \nQ 2188 391 2477 730 \nQ 2766 1069 2766 1631 \nL 2766 1759 \nL 2194 1759 \nz\nM 3341 1997 \nL 3341 0 \nL 2766 0 \nL 2766 531 \nQ 2569 213 2275 61 \nQ 1981 -91 1556 -91 \nQ 1019 -91 701 211 \nQ 384 513 384 1019 \nQ 384 1609 779 1909 \nQ 1175 2209 1959 2209 \nL 2766 2209 \nL 2766 2266 \nQ 2766 2663 2505 2880 \nQ 2244 3097 1772 3097 \nQ 1472 3097 1187 3025 \nQ 903 2953 641 2809 \nL 641 3341 \nQ 956 3463 1253 3523 \nQ 1550 3584 1831 3584 \nQ 2591 3584 2966 3190 \nQ 3341 2797 3341 1997 \nz\n\" transform=\"scale(0.015625)\"/>\n       <path id=\"DejaVuSans-78\" d=\"M 3513 3500 \nL 2247 1797 \nL 3578 0 \nL 2900 0 \nL 1881 1375 \nL 863 0 \nL 184 0 \nL 1544 1831 \nL 300 3500 \nL 978 3500 \nL 1906 2253 \nL 2834 3500 \nL 3513 3500 \nz\n\" transform=\"scale(0.015625)\"/>\n       <path id=\"DejaVuSans-69\" d=\"M 603 3500 \nL 1178 3500 \nL 1178 0 \nL 603 0 \nL 603 3500 \nz\nM 603 4863 \nL 1178 4863 \nL 1178 4134 \nL 603 4134 \nL 603 4863 \nz\n\" transform=\"scale(0.015625)\"/>\n       <path id=\"DejaVuSans-73\" d=\"M 2834 3397 \nL 2834 2853 \nQ 2591 2978 2328 3040 \nQ 2066 3103 1784 3103 \nQ 1356 3103 1142 2972 \nQ 928 2841 928 2578 \nQ 928 2378 1081 2264 \nQ 1234 2150 1697 2047 \nL 1894 2003 \nQ 2506 1872 2764 1633 \nQ 3022 1394 3022 966 \nQ 3022 478 2636 193 \nQ 2250 -91 1575 -91 \nQ 1294 -91 989 -36 \nQ 684 19 347 128 \nL 347 722 \nQ 666 556 975 473 \nQ 1284 391 1588 391 \nQ 1994 391 2212 530 \nQ 2431 669 2431 922 \nQ 2431 1156 2273 1281 \nQ 2116 1406 1581 1522 \nL 1381 1569 \nQ 847 1681 609 1914 \nQ 372 2147 372 2553 \nQ 372 3047 722 3315 \nQ 1072 3584 1716 3584 \nQ 2034 3584 2315 3537 \nQ 2597 3491 2834 3397 \nz\n\" transform=\"scale(0.015625)\"/>\n      </defs>\n      <use xlink:href=\"#DejaVuSans-58\"/>\n      <use xlink:href=\"#DejaVuSans-2d\" x=\"63.505859\"/>\n      <use xlink:href=\"#DejaVuSans-61\" x=\"99.589844\"/>\n      <use xlink:href=\"#DejaVuSans-78\" x=\"160.869141\"/>\n      <use xlink:href=\"#DejaVuSans-69\" x=\"220.048828\"/>\n      <use xlink:href=\"#DejaVuSans-73\" x=\"247.832031\"/>\n     </g>\n    </g>\n   </g>\n   <g id=\"matplotlib.axis_2\">\n    <g id=\"ytick_1\">\n     <g id=\"line2d_13\">\n      <path d=\"M 49.564375 328.365375 \nL 382.204375 328.365375 \n\" clip-path=\"url(#p8c94f03f82)\" style=\"fill: none; stroke: #b0b0b0; stroke-width: 0.8; stroke-linecap: square\"/>\n     </g>\n     <g id=\"line2d_14\">\n      <defs>\n       <path id=\"m857e53cab3\" d=\"M 0 0 \nL -3.5 0 \n\" style=\"stroke: #000000; stroke-width: 0.8\"/>\n      </defs>\n      <g>\n       <use xlink:href=\"#m857e53cab3\" x=\"49.564375\" y=\"328.365375\" style=\"stroke: #000000; stroke-width: 0.8\"/>\n      </g>\n     </g>\n     <g id=\"text_8\">\n      <!-- 0 -->\n      <g transform=\"translate(33.656875 333.684281) scale(0.14 -0.14)\">\n       <use xlink:href=\"#DejaVuSans-30\"/>\n      </g>\n     </g>\n    </g>\n    <g id=\"ytick_2\">\n     <g id=\"line2d_15\">\n      <path d=\"M 49.564375 267.885375 \nL 382.204375 267.885375 \n\" clip-path=\"url(#p8c94f03f82)\" style=\"fill: none; stroke: #b0b0b0; stroke-width: 0.8; stroke-linecap: square\"/>\n     </g>\n     <g id=\"line2d_16\">\n      <g>\n       <use xlink:href=\"#m857e53cab3\" x=\"49.564375\" y=\"267.885375\" style=\"stroke: #000000; stroke-width: 0.8\"/>\n      </g>\n     </g>\n     <g id=\"text_9\">\n      <!-- 2 -->\n      <g transform=\"translate(33.656875 273.204281) scale(0.14 -0.14)\">\n       <use xlink:href=\"#DejaVuSans-32\"/>\n      </g>\n     </g>\n    </g>\n    <g id=\"ytick_3\">\n     <g id=\"line2d_17\">\n      <path d=\"M 49.564375 207.405375 \nL 382.204375 207.405375 \n\" clip-path=\"url(#p8c94f03f82)\" style=\"fill: none; stroke: #b0b0b0; stroke-width: 0.8; stroke-linecap: square\"/>\n     </g>\n     <g id=\"line2d_18\">\n      <g>\n       <use xlink:href=\"#m857e53cab3\" x=\"49.564375\" y=\"207.405375\" style=\"stroke: #000000; stroke-width: 0.8\"/>\n      </g>\n     </g>\n     <g id=\"text_10\">\n      <!-- 4 -->\n      <g transform=\"translate(33.656875 212.724281) scale(0.14 -0.14)\">\n       <use xlink:href=\"#DejaVuSans-34\"/>\n      </g>\n     </g>\n    </g>\n    <g id=\"ytick_4\">\n     <g id=\"line2d_19\">\n      <path d=\"M 49.564375 146.925375 \nL 382.204375 146.925375 \n\" clip-path=\"url(#p8c94f03f82)\" style=\"fill: none; stroke: #b0b0b0; stroke-width: 0.8; stroke-linecap: square\"/>\n     </g>\n     <g id=\"line2d_20\">\n      <g>\n       <use xlink:href=\"#m857e53cab3\" x=\"49.564375\" y=\"146.925375\" style=\"stroke: #000000; stroke-width: 0.8\"/>\n      </g>\n     </g>\n     <g id=\"text_11\">\n      <!-- 6 -->\n      <g transform=\"translate(33.656875 152.244281) scale(0.14 -0.14)\">\n       <use xlink:href=\"#DejaVuSans-36\"/>\n      </g>\n     </g>\n    </g>\n    <g id=\"ytick_5\">\n     <g id=\"line2d_21\">\n      <path d=\"M 49.564375 86.445375 \nL 382.204375 86.445375 \n\" clip-path=\"url(#p8c94f03f82)\" style=\"fill: none; stroke: #b0b0b0; stroke-width: 0.8; stroke-linecap: square\"/>\n     </g>\n     <g id=\"line2d_22\">\n      <g>\n       <use xlink:href=\"#m857e53cab3\" x=\"49.564375\" y=\"86.445375\" style=\"stroke: #000000; stroke-width: 0.8\"/>\n      </g>\n     </g>\n     <g id=\"text_12\">\n      <!-- 8 -->\n      <g transform=\"translate(33.656875 91.764281) scale(0.14 -0.14)\">\n       <use xlink:href=\"#DejaVuSans-38\"/>\n      </g>\n     </g>\n    </g>\n    <g id=\"ytick_6\">\n     <g id=\"line2d_23\">\n      <path d=\"M 49.564375 25.965375 \nL 382.204375 25.965375 \n\" clip-path=\"url(#p8c94f03f82)\" style=\"fill: none; stroke: #b0b0b0; stroke-width: 0.8; stroke-linecap: square\"/>\n     </g>\n     <g id=\"line2d_24\">\n      <g>\n       <use xlink:href=\"#m857e53cab3\" x=\"49.564375\" y=\"25.965375\" style=\"stroke: #000000; stroke-width: 0.8\"/>\n      </g>\n     </g>\n     <g id=\"text_13\">\n      <!-- 10 -->\n      <g transform=\"translate(24.749375 31.284281) scale(0.14 -0.14)\">\n       <use xlink:href=\"#DejaVuSans-31\"/>\n       <use xlink:href=\"#DejaVuSans-30\" x=\"63.623047\"/>\n      </g>\n     </g>\n    </g>\n    <g id=\"text_14\">\n     <!-- Y-axis -->\n     <g transform=\"translate(17.837813 212.279125) rotate(-90) scale(0.14 -0.14)\">\n      <defs>\n       <path id=\"DejaVuSans-59\" d=\"M -13 4666 \nL 666 4666 \nL 1959 2747 \nL 3244 4666 \nL 3922 4666 \nL 2272 2222 \nL 2272 0 \nL 1638 0 \nL 1638 2222 \nL -13 4666 \nz\n\" transform=\"scale(0.015625)\"/>\n      </defs>\n      <use xlink:href=\"#DejaVuSans-59\"/>\n      <use xlink:href=\"#DejaVuSans-2d\" x=\"49.208984\"/>\n      <use xlink:href=\"#DejaVuSans-61\" x=\"85.292969\"/>\n      <use xlink:href=\"#DejaVuSans-78\" x=\"146.572266\"/>\n      <use xlink:href=\"#DejaVuSans-69\" x=\"205.751953\"/>\n      <use xlink:href=\"#DejaVuSans-73\" x=\"233.535156\"/>\n     </g>\n    </g>\n   </g>\n   <g id=\"patch_7\">\n    <path d=\"M 49.564375 358.605375 \nL 49.564375 25.965375 \n\" style=\"fill: none; stroke: #000000; stroke-width: 0.8; stroke-linejoin: miter; stroke-linecap: square\"/>\n   </g>\n   <g id=\"patch_8\">\n    <path d=\"M 382.204375 358.605375 \nL 382.204375 25.965375 \n\" style=\"fill: none; stroke: #000000; stroke-width: 0.8; stroke-linejoin: miter; stroke-linecap: square\"/>\n   </g>\n   <g id=\"patch_9\">\n    <path d=\"M 49.564375 358.605375 \nL 382.204375 358.605375 \n\" style=\"fill: none; stroke: #000000; stroke-width: 0.8; stroke-linejoin: miter; stroke-linecap: square\"/>\n   </g>\n   <g id=\"patch_10\">\n    <path d=\"M 49.564375 25.965375 \nL 382.204375 25.965375 \n\" style=\"fill: none; stroke: #000000; stroke-width: 0.8; stroke-linejoin: miter; stroke-linecap: square\"/>\n   </g>\n   <g id=\"text_15\">\n    <!-- Parallel and Perpendicular Components of t -->\n    <g transform=\"translate(33.84325 19.965375) scale(0.168 -0.168)\">\n     <defs>\n      <path id=\"DejaVuSans-50\" d=\"M 1259 4147 \nL 1259 2394 \nL 2053 2394 \nQ 2494 2394 2734 2622 \nQ 2975 2850 2975 3272 \nQ 2975 3691 2734 3919 \nQ 2494 4147 2053 4147 \nL 1259 4147 \nz\nM 628 4666 \nL 2053 4666 \nQ 2838 4666 3239 4311 \nQ 3641 3956 3641 3272 \nQ 3641 2581 3239 2228 \nQ 2838 1875 2053 1875 \nL 1259 1875 \nL 1259 0 \nL 628 0 \nL 628 4666 \nz\n\" transform=\"scale(0.015625)\"/>\n      <path id=\"DejaVuSans-72\" d=\"M 2631 2963 \nQ 2534 3019 2420 3045 \nQ 2306 3072 2169 3072 \nQ 1681 3072 1420 2755 \nQ 1159 2438 1159 1844 \nL 1159 0 \nL 581 0 \nL 581 3500 \nL 1159 3500 \nL 1159 2956 \nQ 1341 3275 1631 3429 \nQ 1922 3584 2338 3584 \nQ 2397 3584 2469 3576 \nQ 2541 3569 2628 3553 \nL 2631 2963 \nz\n\" transform=\"scale(0.015625)\"/>\n      <path id=\"DejaVuSans-6c\" d=\"M 603 4863 \nL 1178 4863 \nL 1178 0 \nL 603 0 \nL 603 4863 \nz\n\" transform=\"scale(0.015625)\"/>\n      <path id=\"DejaVuSans-65\" d=\"M 3597 1894 \nL 3597 1613 \nL 953 1613 \nQ 991 1019 1311 708 \nQ 1631 397 2203 397 \nQ 2534 397 2845 478 \nQ 3156 559 3463 722 \nL 3463 178 \nQ 3153 47 2828 -22 \nQ 2503 -91 2169 -91 \nQ 1331 -91 842 396 \nQ 353 884 353 1716 \nQ 353 2575 817 3079 \nQ 1281 3584 2069 3584 \nQ 2775 3584 3186 3129 \nQ 3597 2675 3597 1894 \nz\nM 3022 2063 \nQ 3016 2534 2758 2815 \nQ 2500 3097 2075 3097 \nQ 1594 3097 1305 2825 \nQ 1016 2553 972 2059 \nL 3022 2063 \nz\n\" transform=\"scale(0.015625)\"/>\n      <path id=\"DejaVuSans-20\" transform=\"scale(0.015625)\"/>\n      <path id=\"DejaVuSans-6e\" d=\"M 3513 2113 \nL 3513 0 \nL 2938 0 \nL 2938 2094 \nQ 2938 2591 2744 2837 \nQ 2550 3084 2163 3084 \nQ 1697 3084 1428 2787 \nQ 1159 2491 1159 1978 \nL 1159 0 \nL 581 0 \nL 581 3500 \nL 1159 3500 \nL 1159 2956 \nQ 1366 3272 1645 3428 \nQ 1925 3584 2291 3584 \nQ 2894 3584 3203 3211 \nQ 3513 2838 3513 2113 \nz\n\" transform=\"scale(0.015625)\"/>\n      <path id=\"DejaVuSans-64\" d=\"M 2906 2969 \nL 2906 4863 \nL 3481 4863 \nL 3481 0 \nL 2906 0 \nL 2906 525 \nQ 2725 213 2448 61 \nQ 2172 -91 1784 -91 \nQ 1150 -91 751 415 \nQ 353 922 353 1747 \nQ 353 2572 751 3078 \nQ 1150 3584 1784 3584 \nQ 2172 3584 2448 3432 \nQ 2725 3281 2906 2969 \nz\nM 947 1747 \nQ 947 1113 1208 752 \nQ 1469 391 1925 391 \nQ 2381 391 2643 752 \nQ 2906 1113 2906 1747 \nQ 2906 2381 2643 2742 \nQ 2381 3103 1925 3103 \nQ 1469 3103 1208 2742 \nQ 947 2381 947 1747 \nz\n\" transform=\"scale(0.015625)\"/>\n      <path id=\"DejaVuSans-70\" d=\"M 1159 525 \nL 1159 -1331 \nL 581 -1331 \nL 581 3500 \nL 1159 3500 \nL 1159 2969 \nQ 1341 3281 1617 3432 \nQ 1894 3584 2278 3584 \nQ 2916 3584 3314 3078 \nQ 3713 2572 3713 1747 \nQ 3713 922 3314 415 \nQ 2916 -91 2278 -91 \nQ 1894 -91 1617 61 \nQ 1341 213 1159 525 \nz\nM 3116 1747 \nQ 3116 2381 2855 2742 \nQ 2594 3103 2138 3103 \nQ 1681 3103 1420 2742 \nQ 1159 2381 1159 1747 \nQ 1159 1113 1420 752 \nQ 1681 391 2138 391 \nQ 2594 391 2855 752 \nQ 3116 1113 3116 1747 \nz\n\" transform=\"scale(0.015625)\"/>\n      <path id=\"DejaVuSans-63\" d=\"M 3122 3366 \nL 3122 2828 \nQ 2878 2963 2633 3030 \nQ 2388 3097 2138 3097 \nQ 1578 3097 1268 2742 \nQ 959 2388 959 1747 \nQ 959 1106 1268 751 \nQ 1578 397 2138 397 \nQ 2388 397 2633 464 \nQ 2878 531 3122 666 \nL 3122 134 \nQ 2881 22 2623 -34 \nQ 2366 -91 2075 -91 \nQ 1284 -91 818 406 \nQ 353 903 353 1747 \nQ 353 2603 823 3093 \nQ 1294 3584 2113 3584 \nQ 2378 3584 2631 3529 \nQ 2884 3475 3122 3366 \nz\n\" transform=\"scale(0.015625)\"/>\n      <path id=\"DejaVuSans-75\" d=\"M 544 1381 \nL 544 3500 \nL 1119 3500 \nL 1119 1403 \nQ 1119 906 1312 657 \nQ 1506 409 1894 409 \nQ 2359 409 2629 706 \nQ 2900 1003 2900 1516 \nL 2900 3500 \nL 3475 3500 \nL 3475 0 \nL 2900 0 \nL 2900 538 \nQ 2691 219 2414 64 \nQ 2138 -91 1772 -91 \nQ 1169 -91 856 284 \nQ 544 659 544 1381 \nz\nM 1991 3584 \nL 1991 3584 \nz\n\" transform=\"scale(0.015625)\"/>\n      <path id=\"DejaVuSans-43\" d=\"M 4122 4306 \nL 4122 3641 \nQ 3803 3938 3442 4084 \nQ 3081 4231 2675 4231 \nQ 1875 4231 1450 3742 \nQ 1025 3253 1025 2328 \nQ 1025 1406 1450 917 \nQ 1875 428 2675 428 \nQ 3081 428 3442 575 \nQ 3803 722 4122 1019 \nL 4122 359 \nQ 3791 134 3420 21 \nQ 3050 -91 2638 -91 \nQ 1578 -91 968 557 \nQ 359 1206 359 2328 \nQ 359 3453 968 4101 \nQ 1578 4750 2638 4750 \nQ 3056 4750 3426 4639 \nQ 3797 4528 4122 4306 \nz\n\" transform=\"scale(0.015625)\"/>\n      <path id=\"DejaVuSans-6f\" d=\"M 1959 3097 \nQ 1497 3097 1228 2736 \nQ 959 2375 959 1747 \nQ 959 1119 1226 758 \nQ 1494 397 1959 397 \nQ 2419 397 2687 759 \nQ 2956 1122 2956 1747 \nQ 2956 2369 2687 2733 \nQ 2419 3097 1959 3097 \nz\nM 1959 3584 \nQ 2709 3584 3137 3096 \nQ 3566 2609 3566 1747 \nQ 3566 888 3137 398 \nQ 2709 -91 1959 -91 \nQ 1206 -91 779 398 \nQ 353 888 353 1747 \nQ 353 2609 779 3096 \nQ 1206 3584 1959 3584 \nz\n\" transform=\"scale(0.015625)\"/>\n      <path id=\"DejaVuSans-6d\" d=\"M 3328 2828 \nQ 3544 3216 3844 3400 \nQ 4144 3584 4550 3584 \nQ 5097 3584 5394 3201 \nQ 5691 2819 5691 2113 \nL 5691 0 \nL 5113 0 \nL 5113 2094 \nQ 5113 2597 4934 2840 \nQ 4756 3084 4391 3084 \nQ 3944 3084 3684 2787 \nQ 3425 2491 3425 1978 \nL 3425 0 \nL 2847 0 \nL 2847 2094 \nQ 2847 2600 2669 2842 \nQ 2491 3084 2119 3084 \nQ 1678 3084 1418 2786 \nQ 1159 2488 1159 1978 \nL 1159 0 \nL 581 0 \nL 581 3500 \nL 1159 3500 \nL 1159 2956 \nQ 1356 3278 1631 3431 \nQ 1906 3584 2284 3584 \nQ 2666 3584 2933 3390 \nQ 3200 3197 3328 2828 \nz\n\" transform=\"scale(0.015625)\"/>\n      <path id=\"DejaVuSans-74\" d=\"M 1172 4494 \nL 1172 3500 \nL 2356 3500 \nL 2356 3053 \nL 1172 3053 \nL 1172 1153 \nQ 1172 725 1289 603 \nQ 1406 481 1766 481 \nL 2356 481 \nL 2356 0 \nL 1766 0 \nQ 1100 0 847 248 \nQ 594 497 594 1153 \nL 594 3053 \nL 172 3053 \nL 172 3500 \nL 594 3500 \nL 594 4494 \nL 1172 4494 \nz\n\" transform=\"scale(0.015625)\"/>\n      <path id=\"DejaVuSans-66\" d=\"M 2375 4863 \nL 2375 4384 \nL 1825 4384 \nQ 1516 4384 1395 4259 \nQ 1275 4134 1275 3809 \nL 1275 3500 \nL 2222 3500 \nL 2222 3053 \nL 1275 3053 \nL 1275 0 \nL 697 0 \nL 697 3053 \nL 147 3053 \nL 147 3500 \nL 697 3500 \nL 697 3744 \nQ 697 4328 969 4595 \nQ 1241 4863 1831 4863 \nL 2375 4863 \nz\n\" transform=\"scale(0.015625)\"/>\n     </defs>\n     <use xlink:href=\"#DejaVuSans-50\"/>\n     <use xlink:href=\"#DejaVuSans-61\" x=\"55.802734\"/>\n     <use xlink:href=\"#DejaVuSans-72\" x=\"117.082031\"/>\n     <use xlink:href=\"#DejaVuSans-61\" x=\"158.195312\"/>\n     <use xlink:href=\"#DejaVuSans-6c\" x=\"219.474609\"/>\n     <use xlink:href=\"#DejaVuSans-6c\" x=\"247.257812\"/>\n     <use xlink:href=\"#DejaVuSans-65\" x=\"275.041016\"/>\n     <use xlink:href=\"#DejaVuSans-6c\" x=\"336.564453\"/>\n     <use xlink:href=\"#DejaVuSans-20\" x=\"364.347656\"/>\n     <use xlink:href=\"#DejaVuSans-61\" x=\"396.134766\"/>\n     <use xlink:href=\"#DejaVuSans-6e\" x=\"457.414062\"/>\n     <use xlink:href=\"#DejaVuSans-64\" x=\"520.792969\"/>\n     <use xlink:href=\"#DejaVuSans-20\" x=\"584.269531\"/>\n     <use xlink:href=\"#DejaVuSans-50\" x=\"616.056641\"/>\n     <use xlink:href=\"#DejaVuSans-65\" x=\"672.734375\"/>\n     <use xlink:href=\"#DejaVuSans-72\" x=\"734.257812\"/>\n     <use xlink:href=\"#DejaVuSans-70\" x=\"775.371094\"/>\n     <use xlink:href=\"#DejaVuSans-65\" x=\"838.847656\"/>\n     <use xlink:href=\"#DejaVuSans-6e\" x=\"900.371094\"/>\n     <use xlink:href=\"#DejaVuSans-64\" x=\"963.75\"/>\n     <use xlink:href=\"#DejaVuSans-69\" x=\"1027.226562\"/>\n     <use xlink:href=\"#DejaVuSans-63\" x=\"1055.009766\"/>\n     <use xlink:href=\"#DejaVuSans-75\" x=\"1109.990234\"/>\n     <use xlink:href=\"#DejaVuSans-6c\" x=\"1173.369141\"/>\n     <use xlink:href=\"#DejaVuSans-61\" x=\"1201.152344\"/>\n     <use xlink:href=\"#DejaVuSans-72\" x=\"1262.431641\"/>\n     <use xlink:href=\"#DejaVuSans-20\" x=\"1303.544922\"/>\n     <use xlink:href=\"#DejaVuSans-43\" x=\"1335.332031\"/>\n     <use xlink:href=\"#DejaVuSans-6f\" x=\"1405.15625\"/>\n     <use xlink:href=\"#DejaVuSans-6d\" x=\"1466.337891\"/>\n     <use xlink:href=\"#DejaVuSans-70\" x=\"1563.75\"/>\n     <use xlink:href=\"#DejaVuSans-6f\" x=\"1627.226562\"/>\n     <use xlink:href=\"#DejaVuSans-6e\" x=\"1688.408203\"/>\n     <use xlink:href=\"#DejaVuSans-65\" x=\"1751.787109\"/>\n     <use xlink:href=\"#DejaVuSans-6e\" x=\"1813.310547\"/>\n     <use xlink:href=\"#DejaVuSans-74\" x=\"1876.689453\"/>\n     <use xlink:href=\"#DejaVuSans-73\" x=\"1915.898438\"/>\n     <use xlink:href=\"#DejaVuSans-20\" x=\"1967.998047\"/>\n     <use xlink:href=\"#DejaVuSans-6f\" x=\"1999.785156\"/>\n     <use xlink:href=\"#DejaVuSans-66\" x=\"2060.966797\"/>\n     <use xlink:href=\"#DejaVuSans-20\" x=\"2096.171875\"/>\n     <use xlink:href=\"#DejaVuSans-74\" x=\"2127.958984\"/>\n    </g>\n   </g>\n   <g id=\"legend_1\">\n    <g id=\"patch_11\">\n     <path d=\"M 217.912187 351.605375 \nL 372.404375 351.605375 \nQ 375.204375 351.605375 375.204375 348.805375 \nL 375.204375 267.229125 \nQ 375.204375 264.429125 372.404375 264.429125 \nL 217.912187 264.429125 \nQ 215.112187 264.429125 215.112187 267.229125 \nL 215.112187 348.805375 \nQ 215.112187 351.605375 217.912187 351.605375 \nz\n\" style=\"fill: #ffffff; opacity: 0.8; stroke: #cccccc; stroke-linejoin: miter\"/>\n    </g>\n    <g id=\"patch_12\">\n     <path d=\"M 220.712187 280.666938 \nL 248.712187 280.666938 \nL 248.712187 270.866938 \nL 220.712187 270.866938 \nz\n\" style=\"stroke: #000000; stroke-linejoin: miter\"/>\n    </g>\n    <g id=\"text_16\">\n     <!-- t -->\n     <g transform=\"translate(259.912187 280.666938) scale(0.14 -0.14)\">\n      <use xlink:href=\"#DejaVuSans-74\"/>\n     </g>\n    </g>\n    <g id=\"patch_13\">\n     <path d=\"M 220.712187 301.216313 \nL 248.712187 301.216313 \nL 248.712187 291.416313 \nL 220.712187 291.416313 \nz\n\" style=\"fill: #0000ff; stroke-dasharray: 3.7,1.6; stroke-dashoffset: 0; stroke: #0000ff; stroke-linejoin: miter\"/>\n    </g>\n    <g id=\"text_17\">\n     <!-- t_parallel -->\n     <g transform=\"translate(259.912187 301.216313) scale(0.14 -0.14)\">\n      <defs>\n       <path id=\"DejaVuSans-5f\" d=\"M 3263 -1063 \nL 3263 -1509 \nL -63 -1509 \nL -63 -1063 \nL 3263 -1063 \nz\n\" transform=\"scale(0.015625)\"/>\n      </defs>\n      <use xlink:href=\"#DejaVuSans-74\"/>\n      <use xlink:href=\"#DejaVuSans-5f\" x=\"39.208984\"/>\n      <use xlink:href=\"#DejaVuSans-70\" x=\"89.208984\"/>\n      <use xlink:href=\"#DejaVuSans-61\" x=\"152.685547\"/>\n      <use xlink:href=\"#DejaVuSans-72\" x=\"213.964844\"/>\n      <use xlink:href=\"#DejaVuSans-61\" x=\"255.078125\"/>\n      <use xlink:href=\"#DejaVuSans-6c\" x=\"316.357422\"/>\n      <use xlink:href=\"#DejaVuSans-6c\" x=\"344.140625\"/>\n      <use xlink:href=\"#DejaVuSans-65\" x=\"371.923828\"/>\n      <use xlink:href=\"#DejaVuSans-6c\" x=\"433.447266\"/>\n     </g>\n    </g>\n    <g id=\"patch_14\">\n     <path d=\"M 220.712187 322.155062 \nL 248.712187 322.155062 \nL 248.712187 312.355062 \nL 220.712187 312.355062 \nz\n\" style=\"fill: #ff0000; stroke: #ff0000; stroke-linejoin: miter\"/>\n    </g>\n    <g id=\"text_18\">\n     <!-- t_perpendicular -->\n     <g transform=\"translate(259.912187 322.155062) scale(0.14 -0.14)\">\n      <use xlink:href=\"#DejaVuSans-74\"/>\n      <use xlink:href=\"#DejaVuSans-5f\" x=\"39.208984\"/>\n      <use xlink:href=\"#DejaVuSans-70\" x=\"89.208984\"/>\n      <use xlink:href=\"#DejaVuSans-65\" x=\"152.685547\"/>\n      <use xlink:href=\"#DejaVuSans-72\" x=\"214.208984\"/>\n      <use xlink:href=\"#DejaVuSans-70\" x=\"255.322266\"/>\n      <use xlink:href=\"#DejaVuSans-65\" x=\"318.798828\"/>\n      <use xlink:href=\"#DejaVuSans-6e\" x=\"380.322266\"/>\n      <use xlink:href=\"#DejaVuSans-64\" x=\"443.701172\"/>\n      <use xlink:href=\"#DejaVuSans-69\" x=\"507.177734\"/>\n      <use xlink:href=\"#DejaVuSans-63\" x=\"534.960938\"/>\n      <use xlink:href=\"#DejaVuSans-75\" x=\"589.941406\"/>\n      <use xlink:href=\"#DejaVuSans-6c\" x=\"653.320312\"/>\n      <use xlink:href=\"#DejaVuSans-61\" x=\"681.103516\"/>\n      <use xlink:href=\"#DejaVuSans-72\" x=\"742.382812\"/>\n     </g>\n    </g>\n    <g id=\"patch_15\">\n     <path d=\"M 220.712187 343.093813 \nL 248.712187 343.093813 \nL 248.712187 333.293813 \nL 220.712187 333.293813 \nz\n\" style=\"fill: #ff0000; stroke: #ff0000; stroke-linejoin: miter\"/>\n    </g>\n    <g id=\"text_19\">\n     <!-- r -->\n     <g transform=\"translate(259.912187 343.093813) scale(0.14 -0.14)\">\n      <use xlink:href=\"#DejaVuSans-72\"/>\n     </g>\n    </g>\n   </g>\n  </g>\n </g>\n <defs>\n  <clipPath id=\"p8c94f03f82\">\n   <rect x=\"49.564375\" y=\"25.965375\" width=\"332.64\" height=\"332.64\"/>\n  </clipPath>\n </defs>\n</svg>\n"
          },
          "metadata": {}
        }
      ]
    },
    {
      "cell_type": "markdown",
      "source": [
        "#### Exercise 2-10"
      ],
      "metadata": {
        "id": "_AnXQxkA3LPx"
      }
    },
    {
      "cell_type": "code",
      "source": [
        "parallel = np.dot(t, r) / np.dot(t, t) * r\n",
        "\n",
        "fixedParallel = np.dot(t, r) / np.dot(r, r) * r\n",
        "\n",
        "print(parallel)\n",
        "print(fixedParallel)"
      ],
      "metadata": {
        "id": "PUw_wOU2111o",
        "outputId": "627bb044-af2a-45e1-8b18-5f469560669f",
        "colab": {
          "base_uri": "https://localhost:8080/"
        }
      },
      "execution_count": 46,
      "outputs": [
        {
          "output_type": "stream",
          "name": "stdout",
          "text": [
            "[ 8.75 11.25]\n",
            "[5.38461538 6.92307692]\n"
          ]
        }
      ]
    },
    {
      "cell_type": "code",
      "source": [],
      "metadata": {
        "id": "TBlVJ2cj3nlo"
      },
      "execution_count": null,
      "outputs": []
    }
  ],
  "metadata": {
    "kernelspec": {
      "display_name": "Python 3",
      "language": "python",
      "name": "python3"
    },
    "language_info": {
      "codemirror_mode": {
        "name": "ipython",
        "version": 3
      },
      "file_extension": ".py",
      "mimetype": "text/x-python",
      "name": "python",
      "nbconvert_exporter": "python",
      "pygments_lexer": "ipython3",
      "version": "3.12.4"
    },
    "colab": {
      "provenance": [],
      "include_colab_link": true
    }
  },
  "nbformat": 4,
  "nbformat_minor": 0
}