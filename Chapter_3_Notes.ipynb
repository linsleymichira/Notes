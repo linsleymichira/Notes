{
  "nbformat": 4,
  "nbformat_minor": 0,
  "metadata": {
    "colab": {
      "provenance": [],
      "authorship_tag": "ABX9TyO9hZ698Xst5Fy1eDaNzXqo",
      "include_colab_link": true
    },
    "kernelspec": {
      "name": "python3",
      "display_name": "Python 3"
    },
    "language_info": {
      "name": "python"
    }
  },
  "cells": [
    {
      "cell_type": "markdown",
      "metadata": {
        "id": "view-in-github",
        "colab_type": "text"
      },
      "source": [
        "<a href=\"https://colab.research.google.com/github/linsleymichira/Notes/blob/main/Chapter_3_Notes.ipynb\" target=\"_parent\"><img src=\"https://colab.research.google.com/assets/colab-badge.svg\" alt=\"Open In Colab\"/></a>"
      ]
    },
    {
      "cell_type": "markdown",
      "source": [
        "# Chapter 3: Vectors, Part 2\n",
        "---\n",
        "## Vector Sets\n",
        "- set\n",
        "  - a collection of vectors\n",
        "- vector sets\n",
        "  - indicated using capital italics letters, like *S* or *V*\n",
        "  - described as $V = {v_1,...,v_n}$\n",
        "  - can contain a finite or an infinite number of vectors\n",
        "  - can also be empty, indicated as $V = $ {}\n",
        "- subspace\n",
        "  - infinite vector sets\n",
        "  - have major implications for fitting statistical models to data\n",
        "## Linear Weighted Combination\n",
        "- *linear weighted combination*\n",
        "  - way of mixing information from multiple variables, with some variables contributing more than others\n",
        "  - also sometimes called *linear mixture* or *weighted combination*\n",
        "  - means scalar-vector multiplication and addition\n",
        "  - $w = λ_1v_1 + λ_2v_2 + ... + λ_nv_n$\n",
        "  - easy to implement\n",
        "  - implemented via the compact and scalable matrix-vector multiplication method\n",
        "  - have several applications including:\n",
        "    - The predicted data from a statistic)\n",
        "## Linear Independence\n",
        "  ### The Math of Linear Independence\n",
        "  ### Independence and the Zeros Vector\n",
        "## Subspace and Span\n",
        "\n",
        "## Linear Independence\n",
        "  ### The Math of Linear Independence\n",
        "  ### Independence and the Zeros Vector\n",
        "## Subspace and Span\n",
        "## Basis\n",
        "  ### Definition of Basis\n",
        "## Summary\n",
        "## Code Exercises\n"
      ],
      "metadata": {
        "id": "T1gXWbvLe8Q8"
      }
    },
    {
      "cell_type": "code",
      "execution_count": null,
      "metadata": {
        "id": "B6YWcD1XdHvV"
      },
      "outputs": [],
      "source": []
    }
  ]
}